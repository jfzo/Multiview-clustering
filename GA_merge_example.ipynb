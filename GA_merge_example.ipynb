{
 "cells": [
  {
   "cell_type": "code",
   "execution_count": 2,
   "metadata": {},
   "outputs": [],
   "source": [
    "import string\n",
    "from deap import base\n",
    "from deap import creator\n",
    "from deap import tools\n",
    "import random\n",
    "import numpy as np"
   ]
  },
  {
   "cell_type": "code",
   "execution_count": 1,
   "metadata": {},
   "outputs": [],
   "source": [
    "def cxTwoPointCopy(ind1, ind2):\n",
    "    \"\"\"Execute a two points crossover with copy on the input individuals. The\n",
    "    copy is required because the slicing in numpy returns a view of the data,\n",
    "    which leads to a self overwritting in the swap operation. It prevents\n",
    "    ::\n",
    "    \n",
    "        >>> import numpy\n",
    "        >>> a = numpy.array((1,2,3,4))\n",
    "        >>> b = numpy.array((5,6,7,8))\n",
    "        >>> a[1:3], b[1:3] = b[1:3], a[1:3]\n",
    "        >>> print(a)\n",
    "        [1 6 7 4]\n",
    "        >>> print(b)\n",
    "        [5 6 7 8]\n",
    "    \"\"\"\n",
    "    size = len(ind1)\n",
    "    cxpoint1 = random.randint(1, size)\n",
    "    cxpoint2 = random.randint(1, size - 1)\n",
    "    if cxpoint2 >= cxpoint1:\n",
    "        cxpoint2 += 1\n",
    "    else: # Swap the two cx points\n",
    "        cxpoint1, cxpoint2 = cxpoint2, cxpoint1\n",
    "\n",
    "    ind1[cxpoint1:cxpoint2], ind2[cxpoint1:cxpoint2] \\\n",
    "        = ind2[cxpoint1:cxpoint2].copy(), ind1[cxpoint1:cxpoint2].copy()\n",
    "        \n",
    "    return ind1, ind2"
   ]
  },
  {
   "cell_type": "code",
   "execution_count": 3,
   "metadata": {},
   "outputs": [],
   "source": [
    "from NCF_clustering_fusion import compute_solutions_complexity, check_correlative_cluster_labels"
   ]
  },
  {
   "cell_type": "code",
   "execution_count": 10,
   "metadata": {},
   "outputs": [
    {
     "data": {
      "text/plain": [
       "(array([2, 0, 0]), {0: 0, 1: 0, 2: 0}, 12.0)"
      ]
     },
     "execution_count": 10,
     "metadata": {},
     "output_type": "execute_result"
    }
   ],
   "source": [
    "V1 = np.array([0,0,0,1,1,2,2,2,2,1], dtype=np.int)\n",
    "K_V1 = np.unique(V1).shape[0]\n",
    "V2 = np.array([0,0,1,0,0,1,1,2,2,2], dtype=np.int)\n",
    "K_V2 = np.unique(V2).shape[0]\n",
    "\n",
    "compute_solutions_complexity(np.array([0,0,0,0,0,0,0,0,0,0], dtype=np.int),V1, 1, K_V1)"
   ]
  },
  {
   "cell_type": "code",
   "execution_count": 4,
   "metadata": {},
   "outputs": [],
   "source": [
    "def repairCorrelative(A):\n",
    "    current_ids = np.unique(A)\n",
    "    L = len(current_ids)\n",
    "    correct_ids = np.arange(L)\n",
    "    for i,j in zip(current_ids, correct_ids):\n",
    "        if i != j:\n",
    "            A[np.where(A == i)[0]] = j"
   ]
  },
  {
   "cell_type": "code",
   "execution_count": null,
   "metadata": {},
   "outputs": [],
   "source": [
    "A = np.array([3,0,3,1,1,2,0])\n",
    "print(A)\n",
    "repairCorrelative(A)\n",
    "print(A)"
   ]
  },
  {
   "cell_type": "code",
   "execution_count": 11,
   "metadata": {},
   "outputs": [],
   "source": [
    "def evalMatching(C, A=None, B=None, K_A=None, K_B=None):\n",
    "    #K_A = np.unique(A).shape[0] #can be computed outside\n",
    "    #K_B = np.unique(B).shape[0] #can be computed outside\n",
    "    repairCorrelative(C)\n",
    "    K_C = np.unique(C).shape[0]\n",
    "\n",
    "    K_C_A = compute_solutions_complexity(C, A, K_C, K_A)[2]\n",
    "    K_C_B = compute_solutions_complexity(C, B, K_C, K_B)[2]\n",
    "    \n",
    "    K_A_C = compute_solutions_complexity(A, C, K_A, K_C)[2]\n",
    "    K_B_C = compute_solutions_complexity(B, C, K_B, K_C)[2]\n",
    "    \n",
    "    return K_C_A + K_C_B + K_A_C + K_B_C,"
   ]
  },
  {
   "cell_type": "code",
   "execution_count": 12,
   "metadata": {},
   "outputs": [
    {
     "name": "stderr",
     "output_type": "stream",
     "text": [
      "/home/juan/anaconda2/envs/genalgpy/lib/python3.8/site-packages/deap/creator.py:138: RuntimeWarning: A class named 'Fitness' has already been created and it will be overwritten. Consider deleting previous creation of that class or rename it.\n",
      "  warnings.warn(\"A class named '{0}' has already been created and it \"\n",
      "/home/juan/anaconda2/envs/genalgpy/lib/python3.8/site-packages/deap/creator.py:138: RuntimeWarning: A class named 'Individual' has already been created and it will be overwritten. Consider deleting previous creation of that class or rename it.\n",
      "  warnings.warn(\"A class named '{0}' has already been created and it \"\n"
     ]
    }
   ],
   "source": [
    "creator.create(\"Fitness\", base.Fitness, weights=(-1.0,))\n",
    "creator.create(\"Individual\", np.ndarray, fitness=creator.Fitness)\n",
    "\n",
    "V1 = np.array([0,0,0,1,1,2,2,2,2,1], dtype=np.int)\n",
    "K_V1 = np.unique(V1).shape[0]\n",
    "V2 = np.array([0,0,1,0,0,1,1,2,2,2], dtype=np.int)\n",
    "K_V2 = np.unique(V2).shape[0]\n",
    "\n",
    "NCLUSTERS = 3\n",
    "NPTS = V1.shape[0]\n",
    "\n",
    "\n",
    "tb1 = base.Toolbox()\n",
    "tb1.register(\"attr_item\", random.randint, 0, NCLUSTERS) # each gene corresponds to a chr\n",
    "tb1.register(\"individual\", tools.initRepeat, creator.Individual, tb1.attr_item, NPTS)\n",
    "tb1.register(\"population\", tools.initRepeat, list, tb1.individual)\n",
    "\n",
    "tb1.register(\"evaluate\", evalMatching, A=V2, B=V1, K_A=K_V1, K_B=K_V2)\n",
    "tb1.register(\"mate\", cxTwoPointCopy)\n",
    "tb1.register(\"mutate\", tools.mutFlipBit, indpb=0.05)\n",
    "tb1.register(\"select\", tools.selTournament, tournsize=3)"
   ]
  },
  {
   "cell_type": "code",
   "execution_count": 13,
   "metadata": {},
   "outputs": [],
   "source": [
    "from deap import algorithms\n",
    "\n",
    "def simple_run():\n",
    "\n",
    "    random.seed(64)\n",
    "    \n",
    "    pop = tb1.population(n=300)\n",
    "    \n",
    "    # Numpy equality function (operators.eq) between two arrays returns the\n",
    "    # equality element wise, which raises an exception in the if similar()\n",
    "    # check of the hall of fame. Using a different equality function like\n",
    "    # numpy.array_equal or numpy.allclose solve this issue.\n",
    "    hof = tools.HallOfFame(1, similar=np.array_equal)\n",
    "    \n",
    "    stats = tools.Statistics(lambda ind: ind.fitness.values)\n",
    "    stats.register(\"avg\", np.mean)\n",
    "    stats.register(\"std\", np.std)\n",
    "    stats.register(\"min\", np.min)\n",
    "    stats.register(\"max\", np.max)\n",
    "    \n",
    "    algorithms.eaSimple(pop, tb1, cxpb=0.5, mutpb=0.2, ngen=40, stats=stats,\n",
    "                        halloffame=hof)\n",
    "\n",
    "    return pop, stats, hof"
   ]
  },
  {
   "cell_type": "code",
   "execution_count": 14,
   "metadata": {},
   "outputs": [
    {
     "name": "stdout",
     "output_type": "stream",
     "text": [
      "gen\tnevals\tavg   \tstd    \tmin\tmax\n",
      "0  \t300   \t148.44\t26.1972\t68 \t203\n",
      "1  \t168   \t130.327\t23.5348\t80 \t178\n",
      "2  \t193   \t114.093\t18.5978\t68 \t168\n",
      "3  \t162   \t102.897\t13.6845\t64 \t150\n",
      "4  \t177   \t95.5067\t13.6422\t56 \t136\n",
      "5  \t174   \t91.0833\t13.5495\t64 \t140\n",
      "6  \t161   \t85.3467\t13.4719\t64 \t132\n",
      "7  \t185   \t82.1067\t15.4933\t56 \t132\n",
      "8  \t176   \t79     \t15.8531\t56 \t132\n",
      "9  \t178   \t77.3467\t17.7704\t56 \t136\n",
      "10 \t176   \t71.8667\t15.3773\t56 \t140\n",
      "11 \t169   \t69.2533\t17.5066\t56 \t140\n",
      "12 \t167   \t65.5467\t16.5234\t56 \t132\n",
      "13 \t191   \t60.9733\t12.7148\t56 \t128\n",
      "14 \t176   \t57.92  \t7.12883\t56 \t120\n",
      "15 \t176   \t57.4933\t6.08468\t56 \t100\n",
      "16 \t178   \t57.1067\t5.25629\t56 \t112\n",
      "17 \t173   \t57.12  \t4.52831\t56 \t92 \n",
      "18 \t176   \t57.44  \t5.55755\t56 \t100\n",
      "19 \t164   \t57.2   \t4.33897\t56 \t80 \n",
      "20 \t190   \t57.4267\t5.06405\t56 \t88 \n",
      "21 \t192   \t57.6933\t6.4961 \t56 \t112\n",
      "22 \t184   \t57.8133\t5.76123\t56 \t96 \n",
      "23 \t194   \t57.4   \t5.81607\t56 \t108\n",
      "24 \t177   \t57.9733\t7.82129\t56 \t136\n",
      "25 \t192   \t57.68  \t5.99146\t56 \t112\n",
      "26 \t182   \t57.2667\t5.59484\t56 \t112\n",
      "27 \t174   \t57.4667\t4.94054\t56 \t88 \n",
      "28 \t186   \t57.1333\t5.60436\t56 \t120\n",
      "29 \t158   \t57.2533\t5.66885\t56 \t108\n",
      "30 \t163   \t57.12  \t4.87978\t56 \t96 \n",
      "31 \t170   \t57.8533\t6.45227\t56 \t104\n",
      "32 \t176   \t57.2133\t4.94986\t56 \t96 \n",
      "33 \t180   \t57.3067\t5.48446\t56 \t100\n",
      "34 \t164   \t57.2933\t5.63625\t56 \t104\n",
      "35 \t165   \t57.04  \t4.53561\t56 \t96 \n",
      "36 \t191   \t57.72  \t5.54992\t56 \t92 \n",
      "37 \t161   \t56.9333\t3.82041\t56 \t80 \n",
      "38 \t174   \t57.4933\t5.51452\t56 \t96 \n",
      "39 \t203   \t57.2267\t4.86504\t56 \t88 \n",
      "40 \t195   \t57.5333\t5.72674\t56 \t92 \n"
     ]
    }
   ],
   "source": [
    "p,s,h = simple_run()"
   ]
  },
  {
   "cell_type": "code",
   "execution_count": 15,
   "metadata": {},
   "outputs": [
    {
     "name": "stdout",
     "output_type": "stream",
     "text": [
      "Best individual is [2 2 0 1 1 0 0 0 0 1] , (56.0,)\n"
     ]
    }
   ],
   "source": [
    "best_ind = tools.selBest(p, 1)[0]\n",
    "print(\"Best individual is %s , %s\" % (best_ind, best_ind.fitness.values))"
   ]
  },
  {
   "cell_type": "code",
   "execution_count": null,
   "metadata": {},
   "outputs": [],
   "source": []
  }
 ],
 "metadata": {
  "kernelspec": {
   "display_name": "Genetic Algs",
   "language": "python",
   "name": "genalgpy"
  },
  "language_info": {
   "codemirror_mode": {
    "name": "ipython",
    "version": 3
   },
   "file_extension": ".py",
   "mimetype": "text/x-python",
   "name": "python",
   "nbconvert_exporter": "python",
   "pygments_lexer": "ipython3",
   "version": "3.8.2"
  }
 },
 "nbformat": 4,
 "nbformat_minor": 2
}
