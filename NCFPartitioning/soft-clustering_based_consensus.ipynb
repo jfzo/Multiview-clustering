{
 "cells": [
  {
   "cell_type": "code",
   "execution_count": 3,
   "metadata": {},
   "outputs": [
    {
     "name": "stdout",
     "output_type": "stream",
     "text": [
      "env: METIS_DLL=/home/juan/Descargas/metis-5.0/build/Linux-x86_64/libmetis/libmetis.so\n"
     ]
    }
   ],
   "source": [
    "%env METIS_DLL=/home/juan/Descargas/metis-5.0/build/Linux-x86_64/libmetis/libmetis.so"
   ]
  },
  {
   "cell_type": "code",
   "execution_count": 1,
   "metadata": {},
   "outputs": [
    {
     "data": {
      "text/plain": [
       "'1.5.2'"
      ]
     },
     "execution_count": 1,
     "metadata": {},
     "output_type": "execute_result"
    }
   ],
   "source": [
    "import scipy\n",
    "\n",
    "scipy.version.version"
   ]
  },
  {
   "cell_type": "code",
   "execution_count": 2,
   "metadata": {},
   "outputs": [],
   "source": [
    "from scipy.sparse import lil_matrix, csr_matrix\n",
    "import numpy as np\n",
    "#import metis\n",
    "from clustering_evaluation import computeEvaluationMeasures, MEASURES\n",
    "import glob\n",
    "from tabulate import tabulate\n",
    "from tqdm import tqdm\n",
    "import os\n",
    "\n",
    "def _loadSparseCSRFromDisk(fullPath):\n",
    "    spD = None\n",
    "    with open(fullPath, 'rb') as f:\n",
    "        data = np.load(f)\n",
    "        indices = np.load(f)\n",
    "        indptr = np.load(f)\n",
    "        spD = csr_matrix((data, indices, indptr))\n",
    "        # convert this nxk matrix into a similarity.\n",
    "    return spD\n",
    "\n",
    "def _SaveSparseCSRToDisk(denseFn, spM):\n",
    "    \"\"\"\n",
    "    denseFn: output file \n",
    "    spM: sparse matrix to convert and store.\n",
    "    \"\"\"\n",
    "    csrOut = \"{0}.npy\".format(denseFn[: -(len(denseFn.split('.')[-1])+1)]) # replaces the file extension.\n",
    "    print(csrOut)\n",
    "    #M  = np.loadtxt(denseFn, delimiter=',')\n",
    "    #spM = csr_matrix(M)\n",
    "    with open(csrOut, 'wb') as f:\n",
    "        np.save(f, spM.data)\n",
    "        np.save(f, spM.indices)\n",
    "        np.save(f, spM.indptr)\n",
    "    \"\"\"\n",
    "    When loading\n",
    "    >> with open('test.npy', 'rb') as f:\n",
    "    >>     a = np.load(f)\n",
    "    >>     b = np.load(f)\n",
    "    >> csr_matrix((data, indices, indptr))\n",
    "    \"\"\"\n",
    "\n",
    "def getLabelsFromFile(fullPath):\n",
    "    v = np.loadtxt(fullPath, delimiter=',', dtype=np.int)\n",
    "    return v\n",
    "\n",
    "def detectPostfixesInDir(fullPath, dirName):\n",
    "    fnLst = glob.glob('{0}/{1}/*labels_*.out'.format(fullPath, dirName))\n",
    "    # labels_NCF_DS_\n",
    "    postFixes = [f.split(os.sep)[-1].replace('labels_NCF_DS_','').replace('.out','') for f in fnLst]\n",
    "    return postFixes\n",
    "\n",
    "#path = '/home/juan/Insync/juan.zamora@pucv.cl/Google Drive/Research - Multiview and Collaborative Clustering/code/handwritten_tezt/similarity_matrices_after_merging'"
   ]
  },
  {
   "cell_type": "code",
   "execution_count": 3,
   "metadata": {},
   "outputs": [],
   "source": [
    "from scipy.sparse import csc_matrix,csr_matrix, lil_matrix\n",
    "from itertools import product\n",
    "#from spectral_embedding import *\n",
    "from sklearn.cluster import MiniBatchKMeans\n",
    "from sklearn.manifold import SpectralEmbedding, spectral_embedding\n",
    "from clustering_evaluation import computeEvaluationMeasures, MEASURES\n",
    "from sklearn.metrics.pairwise import pairwise_kernels\n",
    "\n",
    "\n",
    "def getSimClus(D):\n",
    "    \"\"\"\n",
    "    Computes a matrix that contains the intersection of items\n",
    "    D is a csc_matrix with n rows denoting data points and k columns denoting clusters.\n",
    "    D_ij denotes the membership score of data point i in cluster j.\n",
    "    \"\"\"\n",
    "    D_asCol = csc_matrix(D) # more efficient for making column slices\n",
    "\n",
    "    # create a kxk matrix with zeros\n",
    "    k = D.shape[1]\n",
    "    simClus = np.zeros((k,k))\n",
    "    # compare each pair of clusters from D\n",
    "    for i in range(k):\n",
    "        sClust_i = set(D_asCol[:,i].nonzero()[0])\n",
    "        for j in range(i+1,k):\n",
    "            sClust_j = set(D_asCol[:,j].nonzero()[0])\n",
    "            simClus[i,j] = len(sClust_i & sClust_j) / len(sClust_i | sClust_j)\n",
    "            simClus[j,i] = simClus[i,j]\n",
    "    return simClus\n",
    "\n",
    "\n",
    "def compute_aSRS(D, DC=1.0):\n",
    "    # aim: compute the approximate SimRankSimilarity matrix (aSRS).\n",
    "    # compute for each pair of data points i,j the total sum of simclus values \n",
    "    n = D.shape[0]\n",
    "    \n",
    "    simClus = getSimClus(D)\n",
    "\n",
    "    aSRS = np.zeros((n,n))\n",
    "    for i in range(n):\n",
    "        nbors_i = D[i].nonzero()[1]\n",
    "        n_nbors_i = len(nbors_i)\n",
    "        for j in range(i+1, n):\n",
    "            nbors_j = D[j].nonzero()[1]\n",
    "            n_nbors_j = len(nbors_j)\n",
    "            aSRS[i,j] = (DC/(n_nbors_i*n_nbors_j))*np.sum([simClus[ca,cb] for ca, cb in list(product(nbors_i, nbors_j))])\n",
    "            aSRS[j,i] = aSRS[i,j]\n",
    "    return aSRS\n",
    "\n",
    "# old method, use it only as an example. Below it is the correct version!\n",
    "def _deprecated_perform_evaluate_runs(dsDirPath, nruns=10, threshold=0.0, embDim=4, kernelFn='rbf'):\n",
    "    trueLblsFname = \"{0}/{1}/{2}\".format(path, dsDirPath, 'labels.true')\n",
    "    trueL = getLabelsFromFile(trueLblsFname)\n",
    "    postFixesDS = detectPostfixesInDir(path, dsDirPath)\n",
    "\n",
    "    dsresults = []\n",
    "    header = ['seed']\n",
    "    header.extend(MEASURES)\n",
    "    np.random.seed(87009)\n",
    "    n_clusters = np.unique(trueL).shape[0]\n",
    "    runSeed = np.random.randint(0, high=2e8)\n",
    "    for runPostfix in tqdm(postFixesDS):#tqdm(postFixesDS):\n",
    "        #print(\"{0}/{1}{2}_csr.npy\".format(dsDirPath, 'simmatrix_DS_', runPostfix))        \n",
    "        simFname = \"{0}/{1}/{2}{3}_csr.npy\".format(path, dsDirPath, 'simmatrix_DS_', runPostfix)\n",
    "        D = _loadSparseCSRFromDisk(simFname)\n",
    "\n",
    "        #aSRS = compute_aSRS(D)\n",
    "        #outSRSFn = \"{0}/{1}/{2}{3}.npy\".format(path, dsDirPath, 'aSRS_DS_', runPostfix)\n",
    "        #np.save(outSRSFn, aSRS)\n",
    "        ##aSRS = np.load(outSRSFn)\n",
    "        \n",
    "        # builds the embedded vectors\n",
    "        embedding = spectral_embedding(pairwise_kernels(D, metric=kernelFn), n_components=embDim, norm_laplacian=True, drop_first=True)\n",
    "        \n",
    "        #spEmbMod = SpectralEmbedding(n_components=20, affinity='nearest_neighbors', n_jobs=4, eigen_solver='arpack', random_state=runSeed)        \n",
    "        #embedding = spEmbMod.fit_transform(D.toarray())\n",
    "        \n",
    "        #outEmbFn = \"{0}/{1}/{2}{3}.npy\".format(path, dsDirPath, 'embedding_DS_', runPostfix)\n",
    "        #np.save(outEmbFn, embedding)\n",
    "        #embedding = np.load(outEmbFn)\n",
    "        \n",
    "        # old, not working!\n",
    "        #spectralEmb = SpectralEmbedding(embedding_dimension = 30, node_weights = 'degree')\n",
    "        #spectralEmb.fit(aSRS)\n",
    "        #embedding = spectralEmb.embedding_\n",
    "        \n",
    "        runDsResults = [] # a single run passes through all the npy matrices with the same seed        \n",
    "        for run in tqdm(range(nruns)): # the partitioning method has a stochastic part, hence several runs are needed.\n",
    "            kmeans = MiniBatchKMeans(n_clusters, random_state=np.random.randint(0, high=2e8))\n",
    "            kmeans.fit(embedding)\n",
    "            pred_labels = list(kmeans.labels_)\n",
    "\n",
    "            perf = computeEvaluationMeasures(trueL, pred_labels)\n",
    "            runDsResults.append([perf[m] for m in MEASURES])\n",
    "\n",
    "        runRow = [runSeed]\n",
    "        runRow.extend(list(np.mean(runDsResults, axis=0)))\n",
    "        dsresults.append( runRow ) # average\n",
    "\n",
    "    dsresults.append( ['Average'] + list(np.mean(dsresults, axis=0)[1:]) )\n",
    "    print(tabulate(dsresults, headers=header, tablefmt='github', floatfmt='.6f', showindex=True))    "
   ]
  },
  {
   "cell_type": "code",
   "execution_count": 8,
   "metadata": {},
   "outputs": [],
   "source": [
    "def embed_and_consensus(dsDirPath, nruns=10, threshold=0.0, embDim=4, kernelFn='rbf', precomputed_sim=False):\n",
    "    \"\"\"\n",
    "    precomputed_sim: Signals if the file with the soft-clustering based similarity matrix is already computed and stored.\n",
    "    \"\"\"\n",
    "    trueLblsFname = \"{0}/{1}/{2}\".format(path, dsDirPath, 'labels.true')\n",
    "    trueL = getLabelsFromFile(trueLblsFname)\n",
    "    postFixesDS = detectPostfixesInDir(path, dsDirPath)\n",
    "\n",
    "    dsresults = []\n",
    "    header = ['seed']\n",
    "    header.extend(MEASURES)\n",
    "    np.random.seed(87009)\n",
    "    n_clusters = np.unique(trueL).shape[0]\n",
    "    runSeed = np.random.randint(0, high=2e8)\n",
    "    \n",
    "    t = tqdm(postFixesDS, leave=False)\n",
    "    \n",
    "    for runPostfix in t:\n",
    "\n",
    "        simFname = \"{0}/{1}/{2}{3}_csr.npy\".format(path, dsDirPath, 'dotmatrix_DS_', runPostfix)\n",
    "        \n",
    "        if not precomputed_sim:\n",
    "            softClusFN = \"{0}/{1}/{2}{3}.out\".format(path, dsDirPath, 'simmatrix_DS_', runPostfix)\n",
    "            print(\"Opening soft-clustering matrix from {0}\".format(softClusFN))\n",
    "            scM = csr_matrix(np.loadtxt(softClusFN, delimiter=',') )# soft-clustering matrix        \n",
    "            #scM = np.loadtxt(softClusFN, delimiter=',') # doesn't affect because dot-sim doesn't change!\n",
    "            #scM = csr_matrix(scM[:,~np.all(scM == 0, axis = 0)])\n",
    "\n",
    "                        \n",
    "            # similarity computation (numpy pairwise... for dense matrices and .dot for sparse.)\n",
    "            #simM = pairwise_kernels(scM, metric=kernelFn) # dot prod between soft-clus matrix and itself (transp.)\n",
    "            simM = scM.dot(scM.T)\n",
    "            \n",
    "            print(\"Storing similarity matrix in sparse format to {0}\".format(simFname))\n",
    "            _SaveSparseCSRToDisk(\"{0}/{1}/{2}{3}_csr.npy\".format(path, dsDirPath, 'dotmatrix_DS_', runPostfix), simM)\n",
    "        else:\n",
    "            t.set_description(\"Opening soft-clustering based similarity matrix from {0}\".format(simFname))\n",
    "            #print(\"Opening soft-clustering based similarity matrix from {0}\".format(simFname))\n",
    "            simM = _loadSparseCSRFromDisk(simFname)\n",
    "        \n",
    "        embedding = spectral_embedding(simM, n_components=embDim, norm_laplacian=True, drop_first=True)        \n",
    "        \n",
    "        runDsResults = [] # a single run passes through all the npy matrices with the same seed        \n",
    "        t2 = tqdm(range(nruns), leave=False)\n",
    "        for run in t2: # the partitioning method has a stochastic part, hence several runs are needed.\n",
    "            t2.set_description(\"run {0}/{1}\".format(run, nruns))\n",
    "            kmeans = MiniBatchKMeans(n_clusters, random_state=np.random.randint(0, high=2e8))\n",
    "            kmeans.fit(embedding)\n",
    "            pred_labels = list(kmeans.labels_)\n",
    "\n",
    "            perf = computeEvaluationMeasures(trueL, pred_labels)\n",
    "            runDsResults.append([perf[m] for m in MEASURES])\n",
    "\n",
    "        runRow = [runSeed]\n",
    "        runRow.extend(list(np.mean(runDsResults, axis=0)))\n",
    "        dsresults.append( runRow ) # average\n",
    "\n",
    "    dsresults.append( ['Average'] + list(np.mean(dsresults, axis=0)[1:]) )\n",
    "    print(tabulate(dsresults, headers=header, tablefmt='github', floatfmt='.6f', showindex=True))"
   ]
  },
  {
   "cell_type": "markdown",
   "metadata": {},
   "source": [
    "Setting the path variable:"
   ]
  },
  {
   "cell_type": "code",
   "execution_count": 6,
   "metadata": {},
   "outputs": [],
   "source": [
    "path = '../stage1_results'"
   ]
  },
  {
   "cell_type": "markdown",
   "metadata": {},
   "source": [
    "**Build the SRS matrix from a bipartite graph adjacency matrix**"
   ]
  },
  {
   "cell_type": "code",
   "execution_count": 9,
   "metadata": {
    "scrolled": true
   },
   "outputs": [
    {
     "name": "stderr",
     "output_type": "stream",
     "text": [
      "\r",
      "  0%|          | 0/10 [00:00<?, ?it/s]"
     ]
    },
    {
     "name": "stdout",
     "output_type": "stream",
     "text": [
      "Opening soft-clustering matrix from ../stage1_results/BBC-seg2/simmatrix_DS_Jan022021.170037.out\n",
      "Storing similarity matrix in sparse format to ../stage1_results/BBC-seg2/dotmatrix_DS_Jan022021.170037_csr.npy\n",
      "../stage1_results/BBC-seg2/dotmatrix_DS_Jan022021.170037_csr.npy\n"
     ]
    },
    {
     "name": "stderr",
     "output_type": "stream",
     "text": [
      "\n",
      "  0%|          | 0/10 [00:00<?, ?it/s]\u001B[A\n",
      "run 0/10:   0%|          | 0/10 [00:00<?, ?it/s]\u001B[A\n",
      "run 1/10:   0%|          | 0/10 [00:00<?, ?it/s]\u001B[A\n",
      "run 2/10:   0%|          | 0/10 [00:00<?, ?it/s]\u001B[A\n",
      "run 3/10:   0%|          | 0/10 [00:00<?, ?it/s]\u001B[A\n",
      "run 3/10:  40%|████      | 4/10 [00:00<00:00, 38.12it/s]\u001B[A\n",
      "run 4/10:  40%|████      | 4/10 [00:00<00:00, 38.12it/s]\u001B[A\n",
      "run 5/10:  40%|████      | 4/10 [00:00<00:00, 38.12it/s]\u001B[A\n",
      "run 6/10:  40%|████      | 4/10 [00:00<00:00, 38.12it/s]\u001B[A\n",
      "run 7/10:  40%|████      | 4/10 [00:00<00:00, 38.12it/s]\u001B[A\n",
      "run 7/10:  80%|████████  | 8/10 [00:00<00:00, 38.54it/s]\u001B[A\n",
      "run 8/10:  80%|████████  | 8/10 [00:00<00:00, 38.54it/s]\u001B[A\n",
      "run 9/10:  80%|████████  | 8/10 [00:00<00:00, 38.54it/s]\u001B[A\n",
      " 10%|█         | 1/10 [00:04<00:37,  4.16s/it]          \u001B[A"
     ]
    },
    {
     "name": "stdout",
     "output_type": "stream",
     "text": [
      "Opening soft-clustering matrix from ../stage1_results/BBC-seg2/simmatrix_DS_Jan022021.170041.out\n",
      "Storing similarity matrix in sparse format to ../stage1_results/BBC-seg2/dotmatrix_DS_Jan022021.170041_csr.npy\n",
      "../stage1_results/BBC-seg2/dotmatrix_DS_Jan022021.170041_csr.npy\n"
     ]
    },
    {
     "name": "stderr",
     "output_type": "stream",
     "text": [
      "\n",
      "  0%|          | 0/10 [00:00<?, ?it/s]\u001B[A\n",
      "run 0/10:   0%|          | 0/10 [00:00<?, ?it/s]\u001B[A\n",
      "run 1/10:   0%|          | 0/10 [00:00<?, ?it/s]\u001B[A\n",
      "run 2/10:   0%|          | 0/10 [00:00<?, ?it/s]\u001B[A\n",
      "run 3/10:   0%|          | 0/10 [00:00<?, ?it/s]\u001B[A\n",
      "run 4/10:   0%|          | 0/10 [00:00<?, ?it/s]\u001B[A\n",
      "run 4/10:  50%|█████     | 5/10 [00:00<00:00, 39.06it/s]\u001B[A\n",
      "run 5/10:  50%|█████     | 5/10 [00:00<00:00, 39.06it/s]\u001B[A\n",
      "run 6/10:  50%|█████     | 5/10 [00:00<00:00, 39.06it/s]\u001B[A\n",
      "run 7/10:  50%|█████     | 5/10 [00:00<00:00, 39.06it/s]\u001B[A\n",
      "run 8/10:  50%|█████     | 5/10 [00:00<00:00, 39.06it/s]\u001B[A\n",
      "run 8/10:  90%|█████████ | 9/10 [00:00<00:00, 35.62it/s]\u001B[A\n",
      "run 9/10:  90%|█████████ | 9/10 [00:00<00:00, 35.62it/s]\u001B[A\n",
      " 20%|██        | 2/10 [00:08<00:33,  4.19s/it]          \u001B[A"
     ]
    },
    {
     "name": "stdout",
     "output_type": "stream",
     "text": [
      "Opening soft-clustering matrix from ../stage1_results/BBC-seg2/simmatrix_DS_Jan022021.170045.out\n",
      "Storing similarity matrix in sparse format to ../stage1_results/BBC-seg2/dotmatrix_DS_Jan022021.170045_csr.npy\n",
      "../stage1_results/BBC-seg2/dotmatrix_DS_Jan022021.170045_csr.npy\n"
     ]
    },
    {
     "name": "stderr",
     "output_type": "stream",
     "text": [
      "\n",
      "  0%|          | 0/10 [00:00<?, ?it/s]\u001B[A\n",
      "run 0/10:   0%|          | 0/10 [00:00<?, ?it/s]\u001B[A\n",
      "run 1/10:   0%|          | 0/10 [00:00<?, ?it/s]\u001B[A\n",
      "run 2/10:   0%|          | 0/10 [00:00<?, ?it/s]\u001B[A\n",
      "run 3/10:   0%|          | 0/10 [00:00<?, ?it/s]\u001B[A\n",
      "run 3/10:  40%|████      | 4/10 [00:00<00:00, 36.03it/s]\u001B[A\n",
      "run 4/10:  40%|████      | 4/10 [00:00<00:00, 36.03it/s]\u001B[A\n",
      "run 5/10:  40%|████      | 4/10 [00:00<00:00, 36.03it/s]\u001B[A\n",
      "run 6/10:  40%|████      | 4/10 [00:00<00:00, 36.03it/s]\u001B[A\n",
      "run 7/10:  40%|████      | 4/10 [00:00<00:00, 36.03it/s]\u001B[A\n",
      "run 7/10:  80%|████████  | 8/10 [00:00<00:00, 38.05it/s]\u001B[A\n",
      "run 8/10:  80%|████████  | 8/10 [00:00<00:00, 38.05it/s]\u001B[A\n",
      "run 9/10:  80%|████████  | 8/10 [00:00<00:00, 38.05it/s]\u001B[A\n",
      " 30%|███       | 3/10 [00:12<00:29,  4.17s/it]          \u001B[A"
     ]
    },
    {
     "name": "stdout",
     "output_type": "stream",
     "text": [
      "Opening soft-clustering matrix from ../stage1_results/BBC-seg2/simmatrix_DS_Jan022021.170049.out\n",
      "Storing similarity matrix in sparse format to ../stage1_results/BBC-seg2/dotmatrix_DS_Jan022021.170049_csr.npy\n",
      "../stage1_results/BBC-seg2/dotmatrix_DS_Jan022021.170049_csr.npy\n"
     ]
    },
    {
     "name": "stderr",
     "output_type": "stream",
     "text": [
      "\n",
      "  0%|          | 0/10 [00:00<?, ?it/s]\u001B[A\n",
      "run 0/10:   0%|          | 0/10 [00:00<?, ?it/s]\u001B[A\n",
      "run 1/10:   0%|          | 0/10 [00:00<?, ?it/s]\u001B[A\n",
      "run 2/10:   0%|          | 0/10 [00:00<?, ?it/s]\u001B[A\n",
      "run 3/10:   0%|          | 0/10 [00:00<?, ?it/s]\u001B[A\n",
      "run 3/10:  40%|████      | 4/10 [00:00<00:00, 37.04it/s]\u001B[A\n",
      "run 4/10:  40%|████      | 4/10 [00:00<00:00, 37.04it/s]\u001B[A\n",
      "run 5/10:  40%|████      | 4/10 [00:00<00:00, 37.04it/s]\u001B[A\n",
      "run 6/10:  40%|████      | 4/10 [00:00<00:00, 37.04it/s]\u001B[A\n",
      "run 7/10:  40%|████      | 4/10 [00:00<00:00, 37.04it/s]\u001B[A\n",
      "run 7/10:  80%|████████  | 8/10 [00:00<00:00, 38.05it/s]\u001B[A\n",
      "run 8/10:  80%|████████  | 8/10 [00:00<00:00, 38.05it/s]\u001B[A\n",
      "run 9/10:  80%|████████  | 8/10 [00:00<00:00, 38.05it/s]\u001B[A\n",
      " 40%|████      | 4/10 [00:16<00:24,  4.15s/it]          \u001B[A"
     ]
    },
    {
     "name": "stdout",
     "output_type": "stream",
     "text": [
      "Opening soft-clustering matrix from ../stage1_results/BBC-seg2/simmatrix_DS_Jan022021.170053.out\n",
      "Storing similarity matrix in sparse format to ../stage1_results/BBC-seg2/dotmatrix_DS_Jan022021.170053_csr.npy\n",
      "../stage1_results/BBC-seg2/dotmatrix_DS_Jan022021.170053_csr.npy\n"
     ]
    },
    {
     "name": "stderr",
     "output_type": "stream",
     "text": [
      "\n",
      "  0%|          | 0/10 [00:00<?, ?it/s]\u001B[A\n",
      "run 0/10:   0%|          | 0/10 [00:00<?, ?it/s]\u001B[A\n",
      "run 1/10:   0%|          | 0/10 [00:00<?, ?it/s]\u001B[A\n",
      "run 2/10:   0%|          | 0/10 [00:00<?, ?it/s]\u001B[A\n",
      "run 3/10:   0%|          | 0/10 [00:00<?, ?it/s]\u001B[A\n",
      "run 3/10:  40%|████      | 4/10 [00:00<00:00, 39.22it/s]\u001B[A\n",
      "run 4/10:  40%|████      | 4/10 [00:00<00:00, 39.22it/s]\u001B[A\n",
      "run 5/10:  40%|████      | 4/10 [00:00<00:00, 39.22it/s]\u001B[A\n",
      "run 6/10:  40%|████      | 4/10 [00:00<00:00, 39.22it/s]\u001B[A\n",
      "run 7/10:  40%|████      | 4/10 [00:00<00:00, 39.22it/s]\u001B[A\n",
      "run 7/10:  80%|████████  | 8/10 [00:00<00:00, 38.99it/s]\u001B[A\n",
      "run 8/10:  80%|████████  | 8/10 [00:00<00:00, 38.99it/s]\u001B[A\n",
      "run 9/10:  80%|████████  | 8/10 [00:00<00:00, 38.99it/s]\u001B[A\n",
      " 50%|█████     | 5/10 [00:20<00:20,  4.14s/it]          \u001B[A"
     ]
    },
    {
     "name": "stdout",
     "output_type": "stream",
     "text": [
      "Opening soft-clustering matrix from ../stage1_results/BBC-seg2/simmatrix_DS_Jan022021.170058.out\n",
      "Storing similarity matrix in sparse format to ../stage1_results/BBC-seg2/dotmatrix_DS_Jan022021.170058_csr.npy\n",
      "../stage1_results/BBC-seg2/dotmatrix_DS_Jan022021.170058_csr.npy\n"
     ]
    },
    {
     "name": "stderr",
     "output_type": "stream",
     "text": [
      "\n",
      "  0%|          | 0/10 [00:00<?, ?it/s]\u001B[A\n",
      "run 0/10:   0%|          | 0/10 [00:00<?, ?it/s]\u001B[A\n",
      "run 1/10:   0%|          | 0/10 [00:00<?, ?it/s]\u001B[A\n",
      "run 2/10:   0%|          | 0/10 [00:00<?, ?it/s]\u001B[A\n",
      "run 3/10:   0%|          | 0/10 [00:00<?, ?it/s]\u001B[A\n",
      "run 3/10:  40%|████      | 4/10 [00:00<00:00, 39.20it/s]\u001B[A\n",
      "run 4/10:  40%|████      | 4/10 [00:00<00:00, 39.20it/s]\u001B[A\n",
      "run 5/10:  40%|████      | 4/10 [00:00<00:00, 39.20it/s]\u001B[A\n",
      "run 6/10:  40%|████      | 4/10 [00:00<00:00, 39.20it/s]\u001B[A\n",
      "run 7/10:  40%|████      | 4/10 [00:00<00:00, 39.20it/s]\u001B[A\n",
      "run 8/10:  40%|████      | 4/10 [00:00<00:00, 39.20it/s]\u001B[A\n",
      "run 8/10:  90%|█████████ | 9/10 [00:00<00:00, 40.72it/s]\u001B[A\n",
      "run 9/10:  90%|█████████ | 9/10 [00:00<00:00, 40.72it/s]\u001B[A\n",
      " 60%|██████    | 6/10 [00:24<00:16,  4.14s/it]          \u001B[A"
     ]
    },
    {
     "name": "stdout",
     "output_type": "stream",
     "text": [
      "Opening soft-clustering matrix from ../stage1_results/BBC-seg2/simmatrix_DS_Jan022021.170102.out\n",
      "Storing similarity matrix in sparse format to ../stage1_results/BBC-seg2/dotmatrix_DS_Jan022021.170102_csr.npy\n",
      "../stage1_results/BBC-seg2/dotmatrix_DS_Jan022021.170102_csr.npy\n"
     ]
    },
    {
     "name": "stderr",
     "output_type": "stream",
     "text": [
      "\n",
      "  0%|          | 0/10 [00:00<?, ?it/s]\u001B[A\n",
      "run 0/10:   0%|          | 0/10 [00:00<?, ?it/s]\u001B[A\n",
      "run 1/10:   0%|          | 0/10 [00:00<?, ?it/s]\u001B[A\n",
      "run 2/10:   0%|          | 0/10 [00:00<?, ?it/s]\u001B[A\n",
      "run 3/10:   0%|          | 0/10 [00:00<?, ?it/s]\u001B[A\n",
      "run 3/10:  40%|████      | 4/10 [00:00<00:00, 37.04it/s]\u001B[A\n",
      "run 4/10:  40%|████      | 4/10 [00:00<00:00, 37.04it/s]\u001B[A\n",
      "run 5/10:  40%|████      | 4/10 [00:00<00:00, 37.04it/s]\u001B[A\n",
      "run 6/10:  40%|████      | 4/10 [00:00<00:00, 37.04it/s]\u001B[A\n",
      "run 7/10:  40%|████      | 4/10 [00:00<00:00, 37.04it/s]\u001B[A\n",
      "run 7/10:  80%|████████  | 8/10 [00:00<00:00, 36.95it/s]\u001B[A\n",
      "run 8/10:  80%|████████  | 8/10 [00:00<00:00, 36.95it/s]\u001B[A\n",
      "run 9/10:  80%|████████  | 8/10 [00:00<00:00, 36.95it/s]\u001B[A\n",
      " 70%|███████   | 7/10 [00:29<00:12,  4.13s/it]          \u001B[A"
     ]
    },
    {
     "name": "stdout",
     "output_type": "stream",
     "text": [
      "Opening soft-clustering matrix from ../stage1_results/BBC-seg2/simmatrix_DS_Jan022021.170106.out\n",
      "Storing similarity matrix in sparse format to ../stage1_results/BBC-seg2/dotmatrix_DS_Jan022021.170106_csr.npy\n",
      "../stage1_results/BBC-seg2/dotmatrix_DS_Jan022021.170106_csr.npy\n"
     ]
    },
    {
     "name": "stderr",
     "output_type": "stream",
     "text": [
      "\n",
      "  0%|          | 0/10 [00:00<?, ?it/s]\u001B[A\n",
      "run 0/10:   0%|          | 0/10 [00:00<?, ?it/s]\u001B[A\n",
      "run 1/10:   0%|          | 0/10 [00:00<?, ?it/s]\u001B[A\n",
      "run 2/10:   0%|          | 0/10 [00:00<?, ?it/s]\u001B[A\n",
      "run 3/10:   0%|          | 0/10 [00:00<?, ?it/s]\u001B[A\n",
      "run 3/10:  40%|████      | 4/10 [00:00<00:00, 32.79it/s]\u001B[A\n",
      "run 4/10:  40%|████      | 4/10 [00:00<00:00, 32.79it/s]\u001B[A\n",
      "run 5/10:  40%|████      | 4/10 [00:00<00:00, 32.79it/s]\u001B[A\n",
      "run 6/10:  40%|████      | 4/10 [00:00<00:00, 32.79it/s]\u001B[A\n",
      "run 7/10:  40%|████      | 4/10 [00:00<00:00, 32.79it/s]\u001B[A\n",
      "run 7/10:  80%|████████  | 8/10 [00:00<00:00, 36.67it/s]\u001B[A\n",
      "run 8/10:  80%|████████  | 8/10 [00:00<00:00, 36.67it/s]\u001B[A\n",
      "run 9/10:  80%|████████  | 8/10 [00:00<00:00, 36.67it/s]\u001B[A\n",
      " 80%|████████  | 8/10 [00:33<00:08,  4.13s/it]          \u001B[A"
     ]
    },
    {
     "name": "stdout",
     "output_type": "stream",
     "text": [
      "Opening soft-clustering matrix from ../stage1_results/BBC-seg2/simmatrix_DS_Jan022021.170110.out\n",
      "Storing similarity matrix in sparse format to ../stage1_results/BBC-seg2/dotmatrix_DS_Jan022021.170110_csr.npy\n",
      "../stage1_results/BBC-seg2/dotmatrix_DS_Jan022021.170110_csr.npy\n"
     ]
    },
    {
     "name": "stderr",
     "output_type": "stream",
     "text": [
      "\n",
      "  0%|          | 0/10 [00:00<?, ?it/s]\u001B[A\n",
      "run 0/10:   0%|          | 0/10 [00:00<?, ?it/s]\u001B[A\n",
      "run 1/10:   0%|          | 0/10 [00:00<?, ?it/s]\u001B[A\n",
      "run 2/10:   0%|          | 0/10 [00:00<?, ?it/s]\u001B[A\n",
      "run 3/10:   0%|          | 0/10 [00:00<?, ?it/s]\u001B[A\n",
      "run 3/10:  40%|████      | 4/10 [00:00<00:00, 39.61it/s]\u001B[A\n",
      "run 4/10:  40%|████      | 4/10 [00:00<00:00, 39.61it/s]\u001B[A\n",
      "run 5/10:  40%|████      | 4/10 [00:00<00:00, 39.61it/s]\u001B[A\n",
      "run 6/10:  40%|████      | 4/10 [00:00<00:00, 39.61it/s]\u001B[A\n",
      "run 7/10:  40%|████      | 4/10 [00:00<00:00, 39.61it/s]\u001B[A\n",
      "run 8/10:  40%|████      | 4/10 [00:00<00:00, 39.61it/s]\u001B[A\n",
      "run 8/10:  90%|█████████ | 9/10 [00:00<00:00, 41.12it/s]\u001B[A\n",
      "run 9/10:  90%|█████████ | 9/10 [00:00<00:00, 41.12it/s]\u001B[A\n",
      " 90%|█████████ | 9/10 [00:37<00:04,  4.12s/it]          \u001B[A"
     ]
    },
    {
     "name": "stdout",
     "output_type": "stream",
     "text": [
      "Opening soft-clustering matrix from ../stage1_results/BBC-seg2/simmatrix_DS_Jan022021.170115.out\n",
      "Storing similarity matrix in sparse format to ../stage1_results/BBC-seg2/dotmatrix_DS_Jan022021.170115_csr.npy\n",
      "../stage1_results/BBC-seg2/dotmatrix_DS_Jan022021.170115_csr.npy\n"
     ]
    },
    {
     "name": "stderr",
     "output_type": "stream",
     "text": [
      "\n",
      "  0%|          | 0/10 [00:00<?, ?it/s]\u001B[A\n",
      "run 0/10:   0%|          | 0/10 [00:00<?, ?it/s]\u001B[A\n",
      "run 1/10:   0%|          | 0/10 [00:00<?, ?it/s]\u001B[A\n",
      "run 2/10:   0%|          | 0/10 [00:00<?, ?it/s]\u001B[A\n",
      "run 3/10:   0%|          | 0/10 [00:00<?, ?it/s]\u001B[A\n",
      "run 3/10:  40%|████      | 4/10 [00:00<00:00, 39.60it/s]\u001B[A\n",
      "run 4/10:  40%|████      | 4/10 [00:00<00:00, 39.60it/s]\u001B[A\n",
      "run 5/10:  40%|████      | 4/10 [00:00<00:00, 39.60it/s]\u001B[A\n",
      "run 6/10:  40%|████      | 4/10 [00:00<00:00, 39.60it/s]\u001B[A\n",
      "run 7/10:  40%|████      | 4/10 [00:00<00:00, 39.60it/s]\u001B[A\n",
      "run 7/10:  80%|████████  | 8/10 [00:00<00:00, 36.23it/s]\u001B[A\n",
      "run 8/10:  80%|████████  | 8/10 [00:00<00:00, 36.23it/s]\u001B[A\n",
      "run 9/10:  80%|████████  | 8/10 [00:00<00:00, 36.23it/s]\u001B[A\n",
      "                                                        \u001B[A\r"
     ]
    },
    {
     "name": "stdout",
     "output_type": "stream",
     "text": [
      "|    | seed      |        E |        P |       F1 |      ACC |      NMI |     PREC |      REC |      ARI |\n",
      "|----|-----------|----------|----------|----------|----------|----------|----------|----------|----------|\n",
      "|  0 | 102758375 | 0.149259 | 0.951044 | 0.247001 | 0.246521 | 0.851238 | 0.248031 | 0.246521 | 0.881266 |\n",
      "|  1 | 102758375 | 0.150560 | 0.950497 | 0.209846 | 0.212127 | 0.849929 | 0.207888 | 0.212127 | 0.880068 |\n",
      "|  2 | 102758375 | 0.152221 | 0.949801 | 0.128924 | 0.129622 | 0.848261 | 0.128573 | 0.129622 | 0.878522 |\n",
      "|  3 | 102758375 | 0.149619 | 0.950895 | 0.168596 | 0.170278 | 0.850880 | 0.167175 | 0.170278 | 0.880918 |\n",
      "|  4 | 102758375 | 0.149259 | 0.951044 | 0.196355 | 0.196769 | 0.851238 | 0.196322 | 0.196769 | 0.881266 |\n",
      "|  5 | 102758375 | 0.152221 | 0.949801 | 0.239271 | 0.240606 | 0.848261 | 0.238347 | 0.240606 | 0.878522 |\n",
      "|  6 | 102758375 | 0.150920 | 0.950348 | 0.262248 | 0.262425 | 0.849570 | 0.262516 | 0.262425 | 0.879720 |\n",
      "|  7 | 102758375 | 0.152221 | 0.949801 | 0.265026 | 0.266849 | 0.848261 | 0.263596 | 0.266849 | 0.878522 |\n",
      "|  8 | 102758375 | 0.152221 | 0.949801 | 0.161928 | 0.162376 | 0.848261 | 0.161830 | 0.162376 | 0.878522 |\n",
      "|  9 | 102758375 | 0.149259 | 0.951044 | 0.101166 | 0.101143 | 0.851238 | 0.101497 | 0.101143 | 0.881266 |\n",
      "| 10 | Average   | 0.150776 | 0.950408 | 0.198036 | 0.198872 | 0.849714 | 0.197578 | 0.198872 | 0.879860 |\n",
      "Wall time: 41.4 s\n"
     ]
    }
   ],
   "source": [
    "%%time\n",
    "embed_and_consensus('BBC-seg2', embDim=4, kernelFn='cosine', precomputed_sim=False)"
   ]
  },
  {
   "cell_type": "markdown",
   "metadata": {},
   "source": [
    "|    | seed      |        E |        P |       F1 |      ACC |      NMI |     PREC |      REC |      ARI |\n",
    "|----|-----------|----------|----------|----------|----------|----------|----------|----------|----------|\n",
    "|  0 | 102758375 | 0.149259 | 0.951044 | 0.247001 | 0.246521 | 0.851238 | 0.248031 | 0.246521 | 0.881266 |\n",
    "|  1 | 102758375 | 0.150560 | 0.950497 | 0.209846 | 0.212127 | 0.849929 | 0.207888 | 0.212127 | 0.880068 |\n",
    "|  2 | 102758375 | 0.152221 | 0.949801 | 0.128924 | 0.129622 | 0.848261 | 0.128573 | 0.129622 | 0.878522 |\n",
    "|  3 | 102758375 | 0.149619 | 0.950895 | 0.168596 | 0.170278 | 0.850880 | 0.167175 | 0.170278 | 0.880918 |\n",
    "|  4 | 102758375 | 0.149259 | 0.951044 | 0.196355 | 0.196769 | 0.851238 | 0.196322 | 0.196769 | 0.881266 |\n",
    "|  5 | 102758375 | 0.152221 | 0.949801 | 0.239271 | 0.240606 | 0.848261 | 0.238347 | 0.240606 | 0.878522 |\n",
    "|  6 | 102758375 | 0.150920 | 0.950348 | 0.262248 | 0.262425 | 0.849570 | 0.262516 | 0.262425 | 0.879720 |\n",
    "|  7 | 102758375 | 0.152221 | 0.949801 | 0.265026 | 0.266849 | 0.848261 | 0.263596 | 0.266849 | 0.878522 |\n",
    "|  8 | 102758375 | 0.152221 | 0.949801 | 0.161928 | 0.162376 | 0.848261 | 0.161830 | 0.162376 | 0.878522 |\n",
    "|  9 | 102758375 | 0.149259 | 0.951044 | 0.101166 | 0.101143 | 0.851238 | 0.101497 | 0.101143 | 0.881266 |\n",
    "| 10 | Average   | 0.150776 | 0.950408 | 0.198036 | 0.198872 | 0.849714 | 0.197578 | 0.198872 | 0.879860 |"
   ]
  },
  {
   "cell_type": "code",
   "execution_count": 10,
   "metadata": {
    "scrolled": true
   },
   "outputs": [
    {
     "name": "stderr",
     "output_type": "stream",
     "text": [
      "\r",
      "  0%|          | 0/10 [00:00<?, ?it/s]"
     ]
    },
    {
     "name": "stdout",
     "output_type": "stream",
     "text": [
      "Opening soft-clustering matrix from ../stage1_results/BBC-seg3/simmatrix_DS_Jan022021.171003.out\n",
      "Storing similarity matrix in sparse format to ../stage1_results/BBC-seg3/dotmatrix_DS_Jan022021.171003_csr.npy\n",
      "../stage1_results/BBC-seg3/dotmatrix_DS_Jan022021.171003_csr.npy\n"
     ]
    },
    {
     "name": "stderr",
     "output_type": "stream",
     "text": [
      "\n",
      "  0%|          | 0/10 [00:00<?, ?it/s]\u001B[A\n",
      "run 0/10:   0%|          | 0/10 [00:00<?, ?it/s]\u001B[A\n",
      "run 1/10:   0%|          | 0/10 [00:00<?, ?it/s]\u001B[A\n",
      "run 2/10:   0%|          | 0/10 [00:00<?, ?it/s]\u001B[A\n",
      "run 3/10:   0%|          | 0/10 [00:00<?, ?it/s]\u001B[A\n",
      "run 4/10:   0%|          | 0/10 [00:00<?, ?it/s]\u001B[A\n",
      "run 4/10:  50%|█████     | 5/10 [00:00<00:00, 41.31it/s]\u001B[A\n",
      "run 5/10:  50%|█████     | 5/10 [00:00<00:00, 41.31it/s]\u001B[A\n",
      "run 6/10:  50%|█████     | 5/10 [00:00<00:00, 41.31it/s]\u001B[A\n",
      "run 7/10:  50%|█████     | 5/10 [00:00<00:00, 41.31it/s]\u001B[A\n",
      "run 8/10:  50%|█████     | 5/10 [00:00<00:00, 41.31it/s]\u001B[A\n",
      "run 9/10:  50%|█████     | 5/10 [00:00<00:00, 41.31it/s]\u001B[A\n",
      "run 9/10: 100%|██████████| 10/10 [00:00<00:00, 36.37it/s]\u001B[A\n",
      " 10%|█         | 1/10 [00:00<00:04,  1.98it/s]           \u001B[A"
     ]
    },
    {
     "name": "stdout",
     "output_type": "stream",
     "text": [
      "Opening soft-clustering matrix from ../stage1_results/BBC-seg3/simmatrix_DS_Jan022021.171008.out\n",
      "Storing similarity matrix in sparse format to ../stage1_results/BBC-seg3/dotmatrix_DS_Jan022021.171008_csr.npy\n",
      "../stage1_results/BBC-seg3/dotmatrix_DS_Jan022021.171008_csr.npy\n"
     ]
    },
    {
     "name": "stderr",
     "output_type": "stream",
     "text": [
      "\n",
      "  0%|          | 0/10 [00:00<?, ?it/s]\u001B[A\n",
      "run 0/10:   0%|          | 0/10 [00:00<?, ?it/s]\u001B[A\n",
      "run 1/10:   0%|          | 0/10 [00:00<?, ?it/s]\u001B[A\n",
      "run 2/10:   0%|          | 0/10 [00:00<?, ?it/s]\u001B[A\n",
      "run 3/10:   0%|          | 0/10 [00:00<?, ?it/s]\u001B[A\n",
      "run 4/10:   0%|          | 0/10 [00:00<?, ?it/s]\u001B[A\n",
      "run 4/10:  50%|█████     | 5/10 [00:00<00:00, 42.01it/s]\u001B[A\n",
      "run 5/10:  50%|█████     | 5/10 [00:00<00:00, 42.01it/s]\u001B[A\n",
      "run 6/10:  50%|█████     | 5/10 [00:00<00:00, 42.01it/s]\u001B[A\n",
      "run 7/10:  50%|█████     | 5/10 [00:00<00:00, 42.01it/s]\u001B[A\n",
      "run 8/10:  50%|█████     | 5/10 [00:00<00:00, 42.01it/s]\u001B[A\n",
      "run 9/10:  50%|█████     | 5/10 [00:00<00:00, 42.01it/s]\u001B[A\n",
      "run 9/10: 100%|██████████| 10/10 [00:00<00:00, 38.76it/s]\u001B[A\n",
      " 20%|██        | 2/10 [00:01<00:03,  2.00it/s]           \u001B[A"
     ]
    },
    {
     "name": "stdout",
     "output_type": "stream",
     "text": [
      "Opening soft-clustering matrix from ../stage1_results/BBC-seg3/simmatrix_DS_Jan022021.171012.out\n",
      "Storing similarity matrix in sparse format to ../stage1_results/BBC-seg3/dotmatrix_DS_Jan022021.171012_csr.npy\n",
      "../stage1_results/BBC-seg3/dotmatrix_DS_Jan022021.171012_csr.npy\n"
     ]
    },
    {
     "name": "stderr",
     "output_type": "stream",
     "text": [
      "\n",
      "  0%|          | 0/10 [00:00<?, ?it/s]\u001B[A\n",
      "run 0/10:   0%|          | 0/10 [00:00<?, ?it/s]\u001B[A\n",
      "run 1/10:   0%|          | 0/10 [00:00<?, ?it/s]\u001B[A\n",
      "run 2/10:   0%|          | 0/10 [00:00<?, ?it/s]\u001B[A\n",
      "run 3/10:   0%|          | 0/10 [00:00<?, ?it/s]\u001B[A\n",
      "run 4/10:   0%|          | 0/10 [00:00<?, ?it/s]\u001B[A\n",
      "run 4/10:  50%|█████     | 5/10 [00:00<00:00, 45.87it/s]\u001B[A\n",
      "run 5/10:  50%|█████     | 5/10 [00:00<00:00, 45.87it/s]\u001B[A\n",
      "run 6/10:  50%|█████     | 5/10 [00:00<00:00, 45.87it/s]\u001B[A\n",
      "run 7/10:  50%|█████     | 5/10 [00:00<00:00, 45.87it/s]\u001B[A\n",
      "run 8/10:  50%|█████     | 5/10 [00:00<00:00, 45.87it/s]\u001B[A\n",
      "run 9/10:  50%|█████     | 5/10 [00:00<00:00, 45.87it/s]\u001B[A\n",
      "run 9/10: 100%|██████████| 10/10 [00:00<00:00, 47.14it/s]\u001B[A\n",
      " 30%|███       | 3/10 [00:01<00:03,  2.11it/s]           \u001B[A"
     ]
    },
    {
     "name": "stdout",
     "output_type": "stream",
     "text": [
      "Opening soft-clustering matrix from ../stage1_results/BBC-seg3/simmatrix_DS_Jan022021.171016.out\n",
      "Storing similarity matrix in sparse format to ../stage1_results/BBC-seg3/dotmatrix_DS_Jan022021.171016_csr.npy\n",
      "../stage1_results/BBC-seg3/dotmatrix_DS_Jan022021.171016_csr.npy\n"
     ]
    },
    {
     "name": "stderr",
     "output_type": "stream",
     "text": [
      "\n",
      "  0%|          | 0/10 [00:00<?, ?it/s]\u001B[A\n",
      "run 0/10:   0%|          | 0/10 [00:00<?, ?it/s]\u001B[A\n",
      "run 1/10:   0%|          | 0/10 [00:00<?, ?it/s]\u001B[A\n",
      "run 2/10:   0%|          | 0/10 [00:00<?, ?it/s]\u001B[A\n",
      "run 3/10:   0%|          | 0/10 [00:00<?, ?it/s]\u001B[A\n",
      "run 3/10:  40%|████      | 4/10 [00:00<00:00, 38.46it/s]\u001B[A\n",
      "run 4/10:  40%|████      | 4/10 [00:00<00:00, 38.46it/s]\u001B[A\n",
      "run 5/10:  40%|████      | 4/10 [00:00<00:00, 38.46it/s]\u001B[A\n",
      "run 6/10:  40%|████      | 4/10 [00:00<00:00, 38.46it/s]\u001B[A\n",
      "run 7/10:  40%|████      | 4/10 [00:00<00:00, 38.46it/s]\u001B[A\n",
      "run 7/10:  80%|████████  | 8/10 [00:00<00:00, 37.82it/s]\u001B[A\n",
      "run 8/10:  80%|████████  | 8/10 [00:00<00:00, 37.82it/s]\u001B[A\n",
      "run 9/10:  80%|████████  | 8/10 [00:00<00:00, 37.82it/s]\u001B[A\n",
      " 40%|████      | 4/10 [00:01<00:02,  2.10it/s]          \u001B[A"
     ]
    },
    {
     "name": "stdout",
     "output_type": "stream",
     "text": [
      "Opening soft-clustering matrix from ../stage1_results/BBC-seg3/simmatrix_DS_Jan022021.171020.out\n",
      "Storing similarity matrix in sparse format to ../stage1_results/BBC-seg3/dotmatrix_DS_Jan022021.171020_csr.npy\n",
      "../stage1_results/BBC-seg3/dotmatrix_DS_Jan022021.171020_csr.npy\n"
     ]
    },
    {
     "name": "stderr",
     "output_type": "stream",
     "text": [
      "\n",
      "  0%|          | 0/10 [00:00<?, ?it/s]\u001B[A\n",
      "run 0/10:   0%|          | 0/10 [00:00<?, ?it/s]\u001B[A\n",
      "run 1/10:   0%|          | 0/10 [00:00<?, ?it/s]\u001B[A\n",
      "run 2/10:   0%|          | 0/10 [00:00<?, ?it/s]\u001B[A\n",
      "run 3/10:   0%|          | 0/10 [00:00<?, ?it/s]\u001B[A\n",
      "run 4/10:   0%|          | 0/10 [00:00<?, ?it/s]\u001B[A\n",
      "run 4/10:  50%|█████     | 5/10 [00:00<00:00, 48.07it/s]\u001B[A\n",
      "run 5/10:  50%|█████     | 5/10 [00:00<00:00, 48.07it/s]\u001B[A\n",
      "run 6/10:  50%|█████     | 5/10 [00:00<00:00, 48.07it/s]\u001B[A\n",
      "run 7/10:  50%|█████     | 5/10 [00:00<00:00, 48.07it/s]\u001B[A\n",
      "run 8/10:  50%|█████     | 5/10 [00:00<00:00, 48.07it/s]\u001B[A\n",
      "run 9/10:  50%|█████     | 5/10 [00:00<00:00, 48.07it/s]\u001B[A\n",
      "run 9/10: 100%|██████████| 10/10 [00:00<00:00, 45.26it/s]\u001B[A\n",
      " 50%|█████     | 5/10 [00:02<00:02,  2.13it/s]           \u001B[A"
     ]
    },
    {
     "name": "stdout",
     "output_type": "stream",
     "text": [
      "Opening soft-clustering matrix from ../stage1_results/BBC-seg3/simmatrix_DS_Jan022021.171025.out\n",
      "Storing similarity matrix in sparse format to ../stage1_results/BBC-seg3/dotmatrix_DS_Jan022021.171025_csr.npy\n",
      "../stage1_results/BBC-seg3/dotmatrix_DS_Jan022021.171025_csr.npy\n"
     ]
    },
    {
     "name": "stderr",
     "output_type": "stream",
     "text": [
      "\n",
      "  0%|          | 0/10 [00:00<?, ?it/s]\u001B[A\n",
      "run 0/10:   0%|          | 0/10 [00:00<?, ?it/s]\u001B[A\n",
      "run 1/10:   0%|          | 0/10 [00:00<?, ?it/s]\u001B[A\n",
      "run 2/10:   0%|          | 0/10 [00:00<?, ?it/s]\u001B[A\n",
      "run 3/10:   0%|          | 0/10 [00:00<?, ?it/s]\u001B[A\n",
      "run 4/10:   0%|          | 0/10 [00:00<?, ?it/s]\u001B[A\n",
      "run 4/10:  50%|█████     | 5/10 [00:00<00:00, 42.01it/s]\u001B[A\n",
      "run 5/10:  50%|█████     | 5/10 [00:00<00:00, 42.01it/s]\u001B[A\n",
      "run 6/10:  50%|█████     | 5/10 [00:00<00:00, 42.01it/s]\u001B[A\n",
      "run 7/10:  50%|█████     | 5/10 [00:00<00:00, 42.01it/s]\u001B[A\n",
      "run 8/10:  50%|█████     | 5/10 [00:00<00:00, 42.01it/s]\u001B[A\n",
      "run 9/10:  50%|█████     | 5/10 [00:00<00:00, 42.01it/s]\u001B[A\n",
      "run 9/10: 100%|██████████| 10/10 [00:00<00:00, 44.66it/s]\u001B[A\n",
      " 60%|██████    | 6/10 [00:02<00:01,  2.15it/s]           \u001B[A"
     ]
    },
    {
     "name": "stdout",
     "output_type": "stream",
     "text": [
      "Opening soft-clustering matrix from ../stage1_results/BBC-seg3/simmatrix_DS_Jan022021.171029.out\n",
      "Storing similarity matrix in sparse format to ../stage1_results/BBC-seg3/dotmatrix_DS_Jan022021.171029_csr.npy\n",
      "../stage1_results/BBC-seg3/dotmatrix_DS_Jan022021.171029_csr.npy\n"
     ]
    },
    {
     "name": "stderr",
     "output_type": "stream",
     "text": [
      "\n",
      "  0%|          | 0/10 [00:00<?, ?it/s]\u001B[A\n",
      "run 0/10:   0%|          | 0/10 [00:00<?, ?it/s]\u001B[A\n",
      "run 1/10:   0%|          | 0/10 [00:00<?, ?it/s]\u001B[A\n",
      "run 2/10:   0%|          | 0/10 [00:00<?, ?it/s]\u001B[A\n",
      "run 3/10:   0%|          | 0/10 [00:00<?, ?it/s]\u001B[A\n",
      "run 4/10:   0%|          | 0/10 [00:00<?, ?it/s]\u001B[A\n",
      "run 4/10:  50%|█████     | 5/10 [00:00<00:00, 45.87it/s]\u001B[A\n",
      "run 5/10:  50%|█████     | 5/10 [00:00<00:00, 45.87it/s]\u001B[A\n",
      "run 6/10:  50%|█████     | 5/10 [00:00<00:00, 45.87it/s]\u001B[A\n",
      "run 7/10:  50%|█████     | 5/10 [00:00<00:00, 45.87it/s]\u001B[A\n",
      "run 8/10:  50%|█████     | 5/10 [00:00<00:00, 45.87it/s]\u001B[A\n",
      "run 9/10:  50%|█████     | 5/10 [00:00<00:00, 45.87it/s]\u001B[A\n",
      "run 9/10: 100%|██████████| 10/10 [00:00<00:00, 45.62it/s]\u001B[A\n",
      " 70%|███████   | 7/10 [00:03<00:01,  2.18it/s]           \u001B[A"
     ]
    },
    {
     "name": "stdout",
     "output_type": "stream",
     "text": [
      "Opening soft-clustering matrix from ../stage1_results/BBC-seg3/simmatrix_DS_Jan022021.171033.out\n",
      "Storing similarity matrix in sparse format to ../stage1_results/BBC-seg3/dotmatrix_DS_Jan022021.171033_csr.npy\n",
      "../stage1_results/BBC-seg3/dotmatrix_DS_Jan022021.171033_csr.npy\n"
     ]
    },
    {
     "name": "stderr",
     "output_type": "stream",
     "text": [
      "\n",
      "  0%|          | 0/10 [00:00<?, ?it/s]\u001B[A\n",
      "run 0/10:   0%|          | 0/10 [00:00<?, ?it/s]\u001B[A\n",
      "run 1/10:   0%|          | 0/10 [00:00<?, ?it/s]\u001B[A\n",
      "run 2/10:   0%|          | 0/10 [00:00<?, ?it/s]\u001B[A\n",
      "run 3/10:   0%|          | 0/10 [00:00<?, ?it/s]\u001B[A\n",
      "run 4/10:   0%|          | 0/10 [00:00<?, ?it/s]\u001B[A\n",
      "run 4/10:  50%|█████     | 5/10 [00:00<00:00, 43.86it/s]\u001B[A\n",
      "run 5/10:  50%|█████     | 5/10 [00:00<00:00, 43.86it/s]\u001B[A\n",
      "run 6/10:  50%|█████     | 5/10 [00:00<00:00, 43.86it/s]\u001B[A\n",
      "run 7/10:  50%|█████     | 5/10 [00:00<00:00, 43.86it/s]\u001B[A\n",
      "run 8/10:  50%|█████     | 5/10 [00:00<00:00, 43.86it/s]\u001B[A\n",
      "run 9/10:  50%|█████     | 5/10 [00:00<00:00, 43.86it/s]\u001B[A\n",
      "run 9/10: 100%|██████████| 10/10 [00:00<00:00, 44.09it/s]\u001B[A\n",
      " 80%|████████  | 8/10 [00:03<00:00,  2.19it/s]           \u001B[A"
     ]
    },
    {
     "name": "stdout",
     "output_type": "stream",
     "text": [
      "Opening soft-clustering matrix from ../stage1_results/BBC-seg3/simmatrix_DS_Jan022021.171037.out\n",
      "Storing similarity matrix in sparse format to ../stage1_results/BBC-seg3/dotmatrix_DS_Jan022021.171037_csr.npy\n",
      "../stage1_results/BBC-seg3/dotmatrix_DS_Jan022021.171037_csr.npy\n"
     ]
    },
    {
     "name": "stderr",
     "output_type": "stream",
     "text": [
      "\n",
      "  0%|          | 0/10 [00:00<?, ?it/s]\u001B[A\n",
      "run 0/10:   0%|          | 0/10 [00:00<?, ?it/s]\u001B[A\n",
      "run 1/10:   0%|          | 0/10 [00:00<?, ?it/s]\u001B[A\n",
      "run 2/10:   0%|          | 0/10 [00:00<?, ?it/s]\u001B[A\n",
      "run 3/10:   0%|          | 0/10 [00:00<?, ?it/s]\u001B[A\n",
      "run 4/10:   0%|          | 0/10 [00:00<?, ?it/s]\u001B[A\n",
      "run 4/10:  50%|█████     | 5/10 [00:00<00:00, 43.47it/s]\u001B[A\n",
      "run 5/10:  50%|█████     | 5/10 [00:00<00:00, 43.47it/s]\u001B[A\n",
      "run 6/10:  50%|█████     | 5/10 [00:00<00:00, 43.47it/s]\u001B[A\n",
      "run 7/10:  50%|█████     | 5/10 [00:00<00:00, 43.47it/s]\u001B[A\n",
      "run 8/10:  50%|█████     | 5/10 [00:00<00:00, 43.47it/s]\u001B[A\n",
      "run 9/10:  50%|█████     | 5/10 [00:00<00:00, 43.47it/s]\u001B[A\n",
      "run 9/10: 100%|██████████| 10/10 [00:00<00:00, 45.82it/s]\u001B[A\n",
      " 90%|█████████ | 9/10 [00:04<00:00,  2.20it/s]           \u001B[A"
     ]
    },
    {
     "name": "stdout",
     "output_type": "stream",
     "text": [
      "Opening soft-clustering matrix from ../stage1_results/BBC-seg3/simmatrix_DS_Jan022021.171041.out\n",
      "Storing similarity matrix in sparse format to ../stage1_results/BBC-seg3/dotmatrix_DS_Jan022021.171041_csr.npy\n",
      "../stage1_results/BBC-seg3/dotmatrix_DS_Jan022021.171041_csr.npy\n"
     ]
    },
    {
     "name": "stderr",
     "output_type": "stream",
     "text": [
      "\n",
      "  0%|          | 0/10 [00:00<?, ?it/s]\u001B[A\n",
      "run 0/10:   0%|          | 0/10 [00:00<?, ?it/s]\u001B[A\n",
      "run 1/10:   0%|          | 0/10 [00:00<?, ?it/s]\u001B[A\n",
      "run 2/10:   0%|          | 0/10 [00:00<?, ?it/s]\u001B[A\n",
      "run 3/10:   0%|          | 0/10 [00:00<?, ?it/s]\u001B[A\n",
      "run 4/10:   0%|          | 0/10 [00:00<?, ?it/s]\u001B[A\n",
      "run 4/10:  50%|█████     | 5/10 [00:00<00:00, 46.28it/s]\u001B[A\n",
      "run 5/10:  50%|█████     | 5/10 [00:00<00:00, 46.28it/s]\u001B[A\n",
      "run 6/10:  50%|█████     | 5/10 [00:00<00:00, 46.28it/s]\u001B[A\n",
      "run 7/10:  50%|█████     | 5/10 [00:00<00:00, 46.28it/s]\u001B[A\n",
      "run 8/10:  50%|█████     | 5/10 [00:00<00:00, 46.28it/s]\u001B[A\n",
      "run 9/10:  50%|█████     | 5/10 [00:00<00:00, 46.28it/s]\u001B[A\n",
      "run 9/10: 100%|██████████| 10/10 [00:00<00:00, 44.83it/s]\u001B[A\n",
      "                                                         \u001B[A"
     ]
    },
    {
     "name": "stdout",
     "output_type": "stream",
     "text": [
      "|    | seed      |        E |        P |       F1 |      ACC |      NMI |     PREC |      REC |      ARI |\n",
      "|----|-----------|----------|----------|----------|----------|----------|----------|----------|----------|\n",
      "|  0 | 102758375 | 0.147757 | 0.951893 | 0.420682 | 0.420110 | 0.850715 | 0.422040 | 0.420110 | 0.881513 |\n",
      "|  1 | 102758375 | 0.147565 | 0.951972 | 0.314141 | 0.314511 | 0.850922 | 0.314697 | 0.314511 | 0.881687 |\n",
      "|  2 | 102758375 | 0.147757 | 0.951893 | 0.152430 | 0.155205 | 0.850715 | 0.150422 | 0.155205 | 0.881513 |\n",
      "|  3 | 102758375 | 0.147757 | 0.951893 | 0.237988 | 0.236041 | 0.850715 | 0.240757 | 0.236041 | 0.881513 |\n",
      "|  4 | 102758375 | 0.147757 | 0.951893 | 0.179359 | 0.179259 | 0.850715 | 0.180248 | 0.179259 | 0.881513 |\n",
      "|  5 | 102758375 | 0.147757 | 0.951893 | 0.244366 | 0.243375 | 0.850715 | 0.246283 | 0.243375 | 0.881513 |\n",
      "|  6 | 102758375 | 0.147757 | 0.951893 | 0.190005 | 0.192823 | 0.850715 | 0.187894 | 0.192823 | 0.881513 |\n",
      "|  7 | 102758375 | 0.147757 | 0.951893 | 0.195349 | 0.197161 | 0.850715 | 0.194249 | 0.197161 | 0.881513 |\n",
      "|  8 | 102758375 | 0.147757 | 0.951893 | 0.200190 | 0.199685 | 0.850715 | 0.201537 | 0.199685 | 0.881513 |\n",
      "|  9 | 102758375 | 0.147757 | 0.951893 | 0.235219 | 0.235095 | 0.850715 | 0.236249 | 0.235095 | 0.881513 |\n",
      "| 10 | Average   | 0.147738 | 0.951901 | 0.236973 | 0.237326 | 0.850735 | 0.237437 | 0.237326 | 0.881530 |\n",
      "Wall time: 4.65 s\n"
     ]
    },
    {
     "name": "stderr",
     "output_type": "stream",
     "text": [
      "\r"
     ]
    }
   ],
   "source": [
    "%%time\n",
    "embed_and_consensus('BBC-seg3', embDim=4, kernelFn='cosine', precomputed_sim=False)"
   ]
  },
  {
   "cell_type": "markdown",
   "metadata": {},
   "source": [
    "|    | seed      |        E |        P |       F1 |      ACC |      NMI |     PREC |      REC |      ARI |\n",
    "|----|-----------|----------|----------|----------|----------|----------|----------|----------|----------|\n",
    "|  0 | 102758375 | 0.147757 | 0.951893 | 0.420682 | 0.420110 | 0.850715 | 0.422040 | 0.420110 | 0.881513 |\n",
    "|  1 | 102758375 | 0.147565 | 0.951972 | 0.314141 | 0.314511 | 0.850922 | 0.314697 | 0.314511 | 0.881687 |\n",
    "|  2 | 102758375 | 0.147757 | 0.951893 | 0.152430 | 0.155205 | 0.850715 | 0.150422 | 0.155205 | 0.881513 |\n",
    "|  3 | 102758375 | 0.147757 | 0.951893 | 0.237988 | 0.236041 | 0.850715 | 0.240757 | 0.236041 | 0.881513 |\n",
    "|  4 | 102758375 | 0.147757 | 0.951893 | 0.179359 | 0.179259 | 0.850715 | 0.180248 | 0.179259 | 0.881513 |\n",
    "|  5 | 102758375 | 0.147757 | 0.951893 | 0.244366 | 0.243375 | 0.850715 | 0.246283 | 0.243375 | 0.881513 |\n",
    "|  6 | 102758375 | 0.147757 | 0.951893 | 0.190005 | 0.192823 | 0.850715 | 0.187894 | 0.192823 | 0.881513 |\n",
    "|  7 | 102758375 | 0.147757 | 0.951893 | 0.195349 | 0.197161 | 0.850715 | 0.194249 | 0.197161 | 0.881513 |\n",
    "|  8 | 102758375 | 0.147757 | 0.951893 | 0.200190 | 0.199685 | 0.850715 | 0.201537 | 0.199685 | 0.881513 |\n",
    "|  9 | 102758375 | 0.147757 | 0.951893 | 0.235219 | 0.235095 | 0.850715 | 0.236249 | 0.235095 | 0.881513 |\n",
    "| 10 | Average   | 0.147738 | 0.951901 | 0.236973 | 0.237326 | 0.850735 | 0.237437 | 0.237326 | 0.881530 |"
   ]
  },
  {
   "cell_type": "code",
   "execution_count": 6,
   "metadata": {},
   "outputs": [
    {
     "name": "stderr",
     "output_type": "stream",
     "text": [
      "\r",
      "  0%|          | 0/10 [00:00<?, ?it/s]"
     ]
    },
    {
     "name": "stdout",
     "output_type": "stream",
     "text": [
      "Opening soft-clustering matrix from ../stage1_results/Reuters/simmatrix_DS_Jan022021.224759.out\n",
      "Storing similarity matrix in sparse format to ../stage1_results/Reuters/dotmatrix_DS_Jan022021.224759_csr.npy\n",
      "../stage1_results/Reuters/dotmatrix_DS_Jan022021.224759_csr.npy\n"
     ]
    },
    {
     "name": "stderr",
     "output_type": "stream",
     "text": [
      "                                      \r"
     ]
    },
    {
     "ename": "MemoryError",
     "evalue": "",
     "output_type": "error",
     "traceback": [
      "\u001B[1;31m---------------------------------------------------------------------------\u001B[0m",
      "\u001B[1;31mMemoryError\u001B[0m                               Traceback (most recent call last)",
      "\u001B[1;32m<timed eval>\u001B[0m in \u001B[0;36m<module>\u001B[1;34m\u001B[0m\n",
      "\u001B[1;32m<ipython-input-4-6a94ae290980>\u001B[0m in \u001B[0;36membed_and_consensus\u001B[1;34m(dsDirPath, nruns, threshold, embDim, kernelFn, precomputed_sim)\u001B[0m\n\u001B[0;32m     36\u001B[0m             \u001B[0msimM\u001B[0m \u001B[1;33m=\u001B[0m \u001B[0m_loadSparseCSRFromDisk\u001B[0m\u001B[1;33m(\u001B[0m\u001B[0msimFname\u001B[0m\u001B[1;33m)\u001B[0m\u001B[1;33m\u001B[0m\u001B[1;33m\u001B[0m\u001B[0m\n\u001B[0;32m     37\u001B[0m \u001B[1;33m\u001B[0m\u001B[0m\n\u001B[1;32m---> 38\u001B[1;33m         \u001B[0membedding\u001B[0m \u001B[1;33m=\u001B[0m \u001B[0mspectral_embedding\u001B[0m\u001B[1;33m(\u001B[0m\u001B[0msimM\u001B[0m\u001B[1;33m,\u001B[0m \u001B[0mn_components\u001B[0m\u001B[1;33m=\u001B[0m\u001B[0membDim\u001B[0m\u001B[1;33m,\u001B[0m \u001B[0mnorm_laplacian\u001B[0m\u001B[1;33m=\u001B[0m\u001B[1;32mTrue\u001B[0m\u001B[1;33m,\u001B[0m \u001B[0mdrop_first\u001B[0m\u001B[1;33m=\u001B[0m\u001B[1;32mTrue\u001B[0m\u001B[1;33m)\u001B[0m\u001B[1;33m\u001B[0m\u001B[1;33m\u001B[0m\u001B[0m\n\u001B[0m\u001B[0;32m     39\u001B[0m \u001B[1;33m\u001B[0m\u001B[0m\n\u001B[0;32m     40\u001B[0m         \u001B[0mrunDsResults\u001B[0m \u001B[1;33m=\u001B[0m \u001B[1;33m[\u001B[0m\u001B[1;33m]\u001B[0m \u001B[1;31m# a single run passes through all the npy matrices with the same seed\u001B[0m\u001B[1;33m\u001B[0m\u001B[1;33m\u001B[0m\u001B[0m\n",
      "\u001B[1;32mc:\\users\\juan\\.virtualenvs\\multiview-clustering-ahpdxa8l\\lib\\site-packages\\sklearn\\utils\\validation.py\u001B[0m in \u001B[0;36minner_f\u001B[1;34m(*args, **kwargs)\u001B[0m\n\u001B[0;32m     70\u001B[0m                           FutureWarning)\n\u001B[0;32m     71\u001B[0m         \u001B[0mkwargs\u001B[0m\u001B[1;33m.\u001B[0m\u001B[0mupdate\u001B[0m\u001B[1;33m(\u001B[0m\u001B[1;33m{\u001B[0m\u001B[0mk\u001B[0m\u001B[1;33m:\u001B[0m \u001B[0marg\u001B[0m \u001B[1;32mfor\u001B[0m \u001B[0mk\u001B[0m\u001B[1;33m,\u001B[0m \u001B[0marg\u001B[0m \u001B[1;32min\u001B[0m \u001B[0mzip\u001B[0m\u001B[1;33m(\u001B[0m\u001B[0msig\u001B[0m\u001B[1;33m.\u001B[0m\u001B[0mparameters\u001B[0m\u001B[1;33m,\u001B[0m \u001B[0margs\u001B[0m\u001B[1;33m)\u001B[0m\u001B[1;33m}\u001B[0m\u001B[1;33m)\u001B[0m\u001B[1;33m\u001B[0m\u001B[1;33m\u001B[0m\u001B[0m\n\u001B[1;32m---> 72\u001B[1;33m         \u001B[1;32mreturn\u001B[0m \u001B[0mf\u001B[0m\u001B[1;33m(\u001B[0m\u001B[1;33m**\u001B[0m\u001B[0mkwargs\u001B[0m\u001B[1;33m)\u001B[0m\u001B[1;33m\u001B[0m\u001B[1;33m\u001B[0m\u001B[0m\n\u001B[0m\u001B[0;32m     73\u001B[0m     \u001B[1;32mreturn\u001B[0m \u001B[0minner_f\u001B[0m\u001B[1;33m\u001B[0m\u001B[1;33m\u001B[0m\u001B[0m\n\u001B[0;32m     74\u001B[0m \u001B[1;33m\u001B[0m\u001B[0m\n",
      "\u001B[1;32mc:\\users\\juan\\.virtualenvs\\multiview-clustering-ahpdxa8l\\lib\\site-packages\\sklearn\\manifold\\_spectral_embedding.py\u001B[0m in \u001B[0;36mspectral_embedding\u001B[1;34m(adjacency, n_components, eigen_solver, random_state, eigen_tol, norm_laplacian, drop_first)\u001B[0m\n\u001B[0;32m    268\u001B[0m             \u001B[0mlaplacian\u001B[0m \u001B[1;33m*=\u001B[0m \u001B[1;33m-\u001B[0m\u001B[1;36m1\u001B[0m\u001B[1;33m\u001B[0m\u001B[1;33m\u001B[0m\u001B[0m\n\u001B[0;32m    269\u001B[0m             \u001B[0mv0\u001B[0m \u001B[1;33m=\u001B[0m \u001B[0mrandom_state\u001B[0m\u001B[1;33m.\u001B[0m\u001B[0muniform\u001B[0m\u001B[1;33m(\u001B[0m\u001B[1;33m-\u001B[0m\u001B[1;36m1\u001B[0m\u001B[1;33m,\u001B[0m \u001B[1;36m1\u001B[0m\u001B[1;33m,\u001B[0m \u001B[0mlaplacian\u001B[0m\u001B[1;33m.\u001B[0m\u001B[0mshape\u001B[0m\u001B[1;33m[\u001B[0m\u001B[1;36m0\u001B[0m\u001B[1;33m]\u001B[0m\u001B[1;33m)\u001B[0m\u001B[1;33m\u001B[0m\u001B[1;33m\u001B[0m\u001B[0m\n\u001B[1;32m--> 270\u001B[1;33m             _, diffusion_map = eigsh(\n\u001B[0m\u001B[0;32m    271\u001B[0m                 \u001B[0mlaplacian\u001B[0m\u001B[1;33m,\u001B[0m \u001B[0mk\u001B[0m\u001B[1;33m=\u001B[0m\u001B[0mn_components\u001B[0m\u001B[1;33m,\u001B[0m \u001B[0msigma\u001B[0m\u001B[1;33m=\u001B[0m\u001B[1;36m1.0\u001B[0m\u001B[1;33m,\u001B[0m \u001B[0mwhich\u001B[0m\u001B[1;33m=\u001B[0m\u001B[1;34m'LM'\u001B[0m\u001B[1;33m,\u001B[0m\u001B[1;33m\u001B[0m\u001B[1;33m\u001B[0m\u001B[0m\n\u001B[0;32m    272\u001B[0m                 tol=eigen_tol, v0=v0)\n",
      "\u001B[1;32mc:\\users\\juan\\.virtualenvs\\multiview-clustering-ahpdxa8l\\lib\\site-packages\\scipy\\sparse\\linalg\\eigen\\arpack\\arpack.py\u001B[0m in \u001B[0;36meigsh\u001B[1;34m(A, k, M, sigma, which, v0, ncv, maxiter, tol, return_eigenvectors, Minv, OPinv, mode)\u001B[0m\n\u001B[0;32m   1639\u001B[0m             \u001B[0mmatvec\u001B[0m \u001B[1;33m=\u001B[0m \u001B[1;32mNone\u001B[0m\u001B[1;33m\u001B[0m\u001B[1;33m\u001B[0m\u001B[0m\n\u001B[0;32m   1640\u001B[0m             \u001B[1;32mif\u001B[0m \u001B[0mOPinv\u001B[0m \u001B[1;32mis\u001B[0m \u001B[1;32mNone\u001B[0m\u001B[1;33m:\u001B[0m\u001B[1;33m\u001B[0m\u001B[1;33m\u001B[0m\u001B[0m\n\u001B[1;32m-> 1641\u001B[1;33m                 Minv_matvec = get_OPinv_matvec(A, M, sigma,\n\u001B[0m\u001B[0;32m   1642\u001B[0m                                                hermitian=True, tol=tol)\n\u001B[0;32m   1643\u001B[0m             \u001B[1;32melse\u001B[0m\u001B[1;33m:\u001B[0m\u001B[1;33m\u001B[0m\u001B[1;33m\u001B[0m\u001B[0m\n",
      "\u001B[1;32mc:\\users\\juan\\.virtualenvs\\multiview-clustering-ahpdxa8l\\lib\\site-packages\\scipy\\sparse\\linalg\\eigen\\arpack\\arpack.py\u001B[0m in \u001B[0;36mget_OPinv_matvec\u001B[1;34m(A, M, sigma, hermitian, tol)\u001B[0m\n\u001B[0;32m   1072\u001B[0m             \u001B[0mA\u001B[0m \u001B[1;33m=\u001B[0m \u001B[0mA\u001B[0m \u001B[1;33m-\u001B[0m \u001B[0msigma\u001B[0m \u001B[1;33m*\u001B[0m \u001B[0meye\u001B[0m\u001B[1;33m(\u001B[0m\u001B[0mA\u001B[0m\u001B[1;33m.\u001B[0m\u001B[0mshape\u001B[0m\u001B[1;33m[\u001B[0m\u001B[1;36m0\u001B[0m\u001B[1;33m]\u001B[0m\u001B[1;33m)\u001B[0m\u001B[1;33m\u001B[0m\u001B[1;33m\u001B[0m\u001B[0m\n\u001B[0;32m   1073\u001B[0m             \u001B[0mA\u001B[0m \u001B[1;33m=\u001B[0m \u001B[0m_fast_spmatrix_to_csc\u001B[0m\u001B[1;33m(\u001B[0m\u001B[0mA\u001B[0m\u001B[1;33m,\u001B[0m \u001B[0mhermitian\u001B[0m\u001B[1;33m=\u001B[0m\u001B[0mhermitian\u001B[0m\u001B[1;33m)\u001B[0m\u001B[1;33m\u001B[0m\u001B[1;33m\u001B[0m\u001B[0m\n\u001B[1;32m-> 1074\u001B[1;33m             \u001B[1;32mreturn\u001B[0m \u001B[0mSpLuInv\u001B[0m\u001B[1;33m(\u001B[0m\u001B[0mA\u001B[0m\u001B[1;33m)\u001B[0m\u001B[1;33m.\u001B[0m\u001B[0mmatvec\u001B[0m\u001B[1;33m\u001B[0m\u001B[1;33m\u001B[0m\u001B[0m\n\u001B[0m\u001B[0;32m   1075\u001B[0m         \u001B[1;32melse\u001B[0m\u001B[1;33m:\u001B[0m\u001B[1;33m\u001B[0m\u001B[1;33m\u001B[0m\u001B[0m\n\u001B[0;32m   1076\u001B[0m             return IterOpInv(_aslinearoperator_with_dtype(A),\n",
      "\u001B[1;32mc:\\users\\juan\\.virtualenvs\\multiview-clustering-ahpdxa8l\\lib\\site-packages\\scipy\\sparse\\linalg\\eigen\\arpack\\arpack.py\u001B[0m in \u001B[0;36m__init__\u001B[1;34m(self, M)\u001B[0m\n\u001B[0;32m    912\u001B[0m     \"\"\"\n\u001B[0;32m    913\u001B[0m     \u001B[1;32mdef\u001B[0m \u001B[0m__init__\u001B[0m\u001B[1;33m(\u001B[0m\u001B[0mself\u001B[0m\u001B[1;33m,\u001B[0m \u001B[0mM\u001B[0m\u001B[1;33m)\u001B[0m\u001B[1;33m:\u001B[0m\u001B[1;33m\u001B[0m\u001B[1;33m\u001B[0m\u001B[0m\n\u001B[1;32m--> 914\u001B[1;33m         \u001B[0mself\u001B[0m\u001B[1;33m.\u001B[0m\u001B[0mM_lu\u001B[0m \u001B[1;33m=\u001B[0m \u001B[0msplu\u001B[0m\u001B[1;33m(\u001B[0m\u001B[0mM\u001B[0m\u001B[1;33m)\u001B[0m\u001B[1;33m\u001B[0m\u001B[1;33m\u001B[0m\u001B[0m\n\u001B[0m\u001B[0;32m    915\u001B[0m         \u001B[0mself\u001B[0m\u001B[1;33m.\u001B[0m\u001B[0mshape\u001B[0m \u001B[1;33m=\u001B[0m \u001B[0mM\u001B[0m\u001B[1;33m.\u001B[0m\u001B[0mshape\u001B[0m\u001B[1;33m\u001B[0m\u001B[1;33m\u001B[0m\u001B[0m\n\u001B[0;32m    916\u001B[0m         \u001B[0mself\u001B[0m\u001B[1;33m.\u001B[0m\u001B[0mdtype\u001B[0m \u001B[1;33m=\u001B[0m \u001B[0mM\u001B[0m\u001B[1;33m.\u001B[0m\u001B[0mdtype\u001B[0m\u001B[1;33m\u001B[0m\u001B[1;33m\u001B[0m\u001B[0m\n",
      "\u001B[1;32mc:\\users\\juan\\.virtualenvs\\multiview-clustering-ahpdxa8l\\lib\\site-packages\\scipy\\sparse\\linalg\\dsolve\\linsolve.py\u001B[0m in \u001B[0;36msplu\u001B[1;34m(A, permc_spec, diag_pivot_thresh, relax, panel_size, options)\u001B[0m\n\u001B[0;32m    335\u001B[0m         \u001B[0m_options\u001B[0m\u001B[1;33m[\u001B[0m\u001B[1;34m\"SymmetricMode\"\u001B[0m\u001B[1;33m]\u001B[0m \u001B[1;33m=\u001B[0m \u001B[1;32mTrue\u001B[0m\u001B[1;33m\u001B[0m\u001B[1;33m\u001B[0m\u001B[0m\n\u001B[0;32m    336\u001B[0m \u001B[1;33m\u001B[0m\u001B[0m\n\u001B[1;32m--> 337\u001B[1;33m     return _superlu.gstrf(N, A.nnz, A.data, A.indices, A.indptr,\n\u001B[0m\u001B[0;32m    338\u001B[0m                           \u001B[0mcsc_construct_func\u001B[0m\u001B[1;33m=\u001B[0m\u001B[0mcsc_construct_func\u001B[0m\u001B[1;33m,\u001B[0m\u001B[1;33m\u001B[0m\u001B[1;33m\u001B[0m\u001B[0m\n\u001B[0;32m    339\u001B[0m                           ilu=False, options=_options)\n",
      "\u001B[1;31mMemoryError\u001B[0m: "
     ]
    }
   ],
   "source": [
    "%%time\n",
    "embed_and_consensus('Reuters', embDim=4, kernelFn='cosine', precomputed_sim=False)"
   ]
  },
  {
   "cell_type": "code",
   "execution_count": null,
   "metadata": {},
   "outputs": [],
   "source": []
  },
  {
   "cell_type": "code",
   "execution_count": 8,
   "metadata": {},
   "outputs": [
    {
     "name": "stderr",
     "output_type": "stream",
     "text": [
      "  0%|          | 0/10 [00:00<?, ?it/s]\n",
      "  0%|          | 0/10 [00:00<?, ?it/s]\u001B[A\n",
      " 30%|███       | 3/10 [00:00<00:00, 29.78it/s]\u001B[A\n",
      "100%|██████████| 10/10 [00:00<00:00, 41.90it/s][A\n",
      " 10%|█         | 1/10 [00:00<00:03,  2.86it/s]\n",
      "  0%|          | 0/10 [00:00<?, ?it/s]\u001B[A\n",
      " 40%|████      | 4/10 [00:00<00:00, 35.24it/s]\u001B[A\n",
      "100%|██████████| 10/10 [00:00<00:00, 42.79it/s]\u001B[A\n",
      " 20%|██        | 2/10 [00:00<00:02,  2.80it/s]\n",
      "  0%|          | 0/10 [00:00<?, ?it/s]\u001B[A\n",
      "100%|██████████| 10/10 [00:00<00:00, 50.90it/s][A\n",
      " 30%|███       | 3/10 [00:01<00:02,  2.78it/s]\n",
      "  0%|          | 0/10 [00:00<?, ?it/s]\u001B[A\n",
      "100%|██████████| 10/10 [00:00<00:00, 54.93it/s][A\n",
      " 40%|████      | 4/10 [00:01<00:02,  2.98it/s]\n",
      "  0%|          | 0/10 [00:00<?, ?it/s]\u001B[A\n",
      " 40%|████      | 4/10 [00:00<00:00, 39.19it/s]\u001B[A\n",
      "100%|██████████| 10/10 [00:00<00:00, 48.45it/s]\u001B[A\n",
      " 50%|█████     | 5/10 [00:01<00:01,  2.61it/s]\n",
      "  0%|          | 0/10 [00:00<?, ?it/s]\u001B[A\n",
      "100%|██████████| 10/10 [00:00<00:00, 51.23it/s][A\n",
      " 60%|██████    | 6/10 [00:02<00:01,  2.85it/s]\n",
      "  0%|          | 0/10 [00:00<?, ?it/s]\u001B[A\n",
      "100%|██████████| 10/10 [00:00<00:00, 51.31it/s][A\n",
      " 70%|███████   | 7/10 [00:02<00:01,  2.89it/s]\n",
      "  0%|          | 0/10 [00:00<?, ?it/s]\u001B[A\n",
      "100%|██████████| 10/10 [00:00<00:00, 50.29it/s][A\n",
      " 80%|████████  | 8/10 [00:02<00:00,  3.01it/s]\n",
      "  0%|          | 0/10 [00:00<?, ?it/s]\u001B[A\n",
      "100%|██████████| 10/10 [00:00<00:00, 52.76it/s][A\n",
      " 90%|█████████ | 9/10 [00:03<00:00,  3.10it/s]\n",
      "  0%|          | 0/10 [00:00<?, ?it/s]\u001B[A\n",
      " 40%|████      | 4/10 [00:00<00:00, 39.73it/s]\u001B[A\n",
      "100%|██████████| 10/10 [00:00<00:00, 49.09it/s]\u001B[A\n",
      "100%|██████████| 10/10 [00:03<00:00,  2.91it/s]"
     ]
    },
    {
     "name": "stdout",
     "output_type": "stream",
     "text": [
      "|    | seed      |        E |        P |       F1 |      ACC |      NMI |     PREC |      REC |      ARI |\n",
      "|----|-----------|----------|----------|----------|----------|----------|----------|----------|----------|\n",
      "|  0 | 102758375 | 0.183388 | 0.932847 | 0.305188 | 0.304526 | 0.807615 | 0.309141 | 0.304526 | 0.835237 |\n",
      "|  1 | 102758375 | 0.181714 | 0.933285 | 0.098665 | 0.100000 | 0.809284 | 0.101374 | 0.100000 | 0.836075 |\n",
      "|  2 | 102758375 | 0.183388 | 0.932847 | 0.120351 | 0.122336 | 0.807615 | 0.120372 | 0.122336 | 0.835237 |\n",
      "|  3 | 102758375 | 0.184038 | 0.932555 | 0.139719 | 0.142774 | 0.806961 | 0.141232 | 0.142774 | 0.834496 |\n",
      "|  4 | 102758375 | 0.182830 | 0.932993 | 0.116874 | 0.117664 | 0.808172 | 0.120214 | 0.117664 | 0.835517 |\n",
      "|  5 | 102758375 | 0.183388 | 0.932847 | 0.161820 | 0.164088 | 0.807615 | 0.162908 | 0.164088 | 0.835237 |\n",
      "|  6 | 102758375 | 0.182830 | 0.932993 | 0.090352 | 0.090219 | 0.808172 | 0.094477 | 0.090219 | 0.835517 |\n",
      "|  7 | 102758375 | 0.182830 | 0.932993 | 0.138518 | 0.140146 | 0.808172 | 0.140495 | 0.140146 | 0.835517 |\n",
      "|  8 | 102758375 | 0.181985 | 0.933139 | 0.171865 | 0.174891 | 0.808953 | 0.173101 | 0.174891 | 0.835747 |\n",
      "|  9 | 102758375 | 0.184038 | 0.932555 | 0.208822 | 0.211095 | 0.806961 | 0.210462 | 0.211095 | 0.834496 |\n",
      "| 10 | Average   | 0.183043 | 0.932905 | 0.155217 | 0.156774 | 0.807952 | 0.157378 | 0.156774 | 0.835308 |\n",
      "CPU times: user 10.9 s, sys: 4 s, total: 14.9 s\n",
      "Wall time: 3.44 s\n"
     ]
    },
    {
     "name": "stderr",
     "output_type": "stream",
     "text": [
      "\n"
     ]
    }
   ],
   "source": [
    "%%time\n",
    "perform_evaluate_runs('BBC-seg4', embDim=4, kernelFn='cosine')"
   ]
  },
  {
   "cell_type": "markdown",
   "metadata": {},
   "source": [
    "dim:4, cosine\n",
    "\n",
    "|    | seed      |        E |        P |       F1 |      ACC |      NMI |     PREC |      REC |      ARI |\n",
    "|----|-----------|----------|----------|----------|----------|----------|----------|----------|----------|\n",
    "|  0 | 102758375 | 0.183388 | 0.932847 | 0.305188 | 0.304526 | 0.807615 | 0.309141 | 0.304526 | 0.835237 |\n",
    "|  1 | 102758375 | 0.181714 | 0.933285 | 0.098665 | 0.100000 | 0.809284 | 0.101374 | 0.100000 | 0.836075 |\n",
    "|  2 | 102758375 | 0.183388 | 0.932847 | 0.120351 | 0.122336 | 0.807615 | 0.120372 | 0.122336 | 0.835237 |\n",
    "|  3 | 102758375 | 0.184038 | 0.932555 | 0.139719 | 0.142774 | 0.806961 | 0.141232 | 0.142774 | 0.834496 |\n",
    "|  4 | 102758375 | 0.182830 | 0.932993 | 0.116874 | 0.117664 | 0.808172 | 0.120214 | 0.117664 | 0.835517 |\n",
    "|  5 | 102758375 | 0.183388 | 0.932847 | 0.161820 | 0.164088 | 0.807615 | 0.162908 | 0.164088 | 0.835237 |\n",
    "|  6 | 102758375 | 0.182830 | 0.932993 | 0.090352 | 0.090219 | 0.808172 | 0.094477 | 0.090219 | 0.835517 |\n",
    "|  7 | 102758375 | 0.182830 | 0.932993 | 0.138518 | 0.140146 | 0.808172 | 0.140495 | 0.140146 | 0.835517 |\n",
    "|  8 | 102758375 | 0.181985 | 0.933139 | 0.171865 | 0.174891 | 0.808953 | 0.173101 | 0.174891 | 0.835747 |\n",
    "|  9 | 102758375 | 0.184038 | 0.932555 | 0.208822 | 0.211095 | 0.806961 | 0.210462 | 0.211095 | 0.834496 |\n",
    "| 10 | Average   | 0.183043 | 0.932905 | 0.155217 | 0.156774 | 0.807952 | 0.157378 | 0.156774 | 0.835308 |\n",
    "CPU times: user 8.88 s, sys: 4.01 s, total: 12.9 s\n",
    "Wall time: 2.95 s\n",
    "\n",
    "\n",
    "\n",
    "|    | seed      |        E |        P |       F1 |      ACC |      NMI |     PREC |      REC |      ARI |\n",
    "|----|-----------|----------|----------|----------|----------|----------|----------|----------|----------|\n",
    "|  0 | 102758375 | 0.268472 | 0.894161 | 0.149339 | 0.155328 | 0.721357 | 0.148146 | 0.155328 | 0.755605 |\n",
    "|  1 | 102758375 | 0.268042 | 0.894307 | 0.094929 | 0.097664 | 0.721754 | 0.098474 | 0.097664 | 0.755752 |\n",
    "|  2 | 102758375 | 0.269831 | 0.893431 | 0.118097 | 0.124380 | 0.720049 | 0.117356 | 0.124380 | 0.754138 |\n",
    "|  3 | 102758375 | 0.269305 | 0.893723 | 0.210728 | 0.215182 | 0.720558 | 0.211137 | 0.215182 | 0.754575 |\n",
    "|  4 | 102758375 | 0.266446 | 0.895182 | 0.153666 | 0.154599 | 0.723294 | 0.158414 | 0.154599 | 0.757712 |\n",
    "|  5 | 102758375 | 0.267779 | 0.894453 | 0.135532 | 0.139416 | 0.722008 | 0.136482 | 0.139416 | 0.755971 |\n",
    "|  6 | 102758375 | 0.268304 | 0.894307 | 0.133509 | 0.138832 | 0.721531 | 0.132912 | 0.138832 | 0.755996 |\n",
    "|  7 | 102758375 | 0.267542 | 0.894599 | 0.146864 | 0.150949 | 0.722240 | 0.148295 | 0.150949 | 0.756463 |\n",
    "|  8 | 102758375 | 0.272487 | 0.890219 | 0.300385 | 0.306861 | 0.716485 | 0.301102 | 0.306861 | 0.749963 |\n",
    "|  9 | 102758375 | 0.268972 | 0.893869 | 0.039151 | 0.043942 | 0.720872 | 0.040679 | 0.043942 | 0.754894 |\n",
    "| 10 | Average   | 0.268718 | 0.893825 | 0.148220 | 0.152715 | 0.721015 | 0.149300 | 0.152715 | 0.755107 |\n",
    "\n",
    "CPU times: user 4min 56s, sys: 2.46 s, total: 4min 58s\n",
    "Wall time: 4min 46s"
   ]
  },
  {
   "cell_type": "code",
   "execution_count": 13,
   "metadata": {},
   "outputs": [
    {
     "name": "stderr",
     "output_type": "stream",
     "text": [
      "  0%|          | 0/10 [00:00<?, ?it/s]\n",
      "  0%|          | 0/10 [00:00<?, ?it/s]\u001B[A\n",
      " 20%|██        | 2/10 [00:00<00:00, 14.83it/s]\u001B[A\n",
      " 50%|█████     | 5/10 [00:00<00:00, 16.42it/s]\u001B[A\n",
      "100%|██████████| 10/10 [00:00<00:00, 20.02it/s][A\n",
      " 10%|█         | 1/10 [00:00<00:08,  1.10it/s]\n",
      "  0%|          | 0/10 [00:00<?, ?it/s]\u001B[A\n",
      " 20%|██        | 2/10 [00:00<00:00, 15.35it/s]\u001B[A\n",
      " 50%|█████     | 5/10 [00:00<00:00, 16.85it/s]\u001B[A\n",
      " 70%|███████   | 7/10 [00:00<00:00, 17.55it/s]\u001B[A\n",
      "100%|██████████| 10/10 [00:00<00:00, 19.78it/s]\u001B[A\n",
      " 20%|██        | 2/10 [00:01<00:07,  1.06it/s]\n",
      "  0%|          | 0/10 [00:00<?, ?it/s]\u001B[A\n",
      " 20%|██        | 2/10 [00:00<00:00, 14.77it/s]\u001B[A\n",
      " 50%|█████     | 5/10 [00:00<00:00, 15.99it/s]\u001B[A\n",
      " 70%|███████   | 7/10 [00:00<00:00, 16.77it/s]\u001B[A\n",
      "100%|██████████| 10/10 [00:00<00:00, 17.25it/s][A\n",
      " 30%|███       | 3/10 [00:02<00:06,  1.03it/s]\n",
      "  0%|          | 0/10 [00:00<?, ?it/s]\u001B[A\n",
      " 20%|██        | 2/10 [00:00<00:00, 17.59it/s]\u001B[A\n",
      " 50%|█████     | 5/10 [00:00<00:00, 18.49it/s]\u001B[A\n",
      " 70%|███████   | 7/10 [00:00<00:00, 17.26it/s]\u001B[A\n",
      "100%|██████████| 10/10 [00:00<00:00, 17.61it/s][A\n",
      " 40%|████      | 4/10 [00:04<00:06,  1.01s/it]\n",
      "  0%|          | 0/10 [00:00<?, ?it/s]\u001B[A\n",
      " 20%|██        | 2/10 [00:00<00:00, 16.38it/s]\u001B[A\n",
      " 50%|█████     | 5/10 [00:00<00:00, 16.75it/s]\u001B[A\n",
      " 70%|███████   | 7/10 [00:00<00:00, 16.99it/s]\u001B[A\n",
      "100%|██████████| 10/10 [00:00<00:00, 16.32it/s][A\n",
      " 50%|█████     | 5/10 [00:05<00:05,  1.05s/it]\n",
      "  0%|          | 0/10 [00:00<?, ?it/s]\u001B[A\n",
      " 20%|██        | 2/10 [00:00<00:00, 13.05it/s]\u001B[A\n",
      " 40%|████      | 4/10 [00:00<00:00, 13.67it/s]\u001B[A\n",
      " 60%|██████    | 6/10 [00:00<00:00, 15.04it/s]\u001B[A\n",
      "100%|██████████| 10/10 [00:00<00:00, 16.51it/s][A\n",
      " 60%|██████    | 6/10 [00:06<00:04,  1.14s/it]\n",
      "  0%|          | 0/10 [00:00<?, ?it/s]\u001B[A\n",
      " 20%|██        | 2/10 [00:00<00:00, 17.60it/s]\u001B[A\n",
      " 40%|████      | 4/10 [00:00<00:00, 17.30it/s]\u001B[A\n",
      " 60%|██████    | 6/10 [00:00<00:00, 17.96it/s]\u001B[A\n",
      " 80%|████████  | 8/10 [00:00<00:00, 18.38it/s]\u001B[A\n",
      "100%|██████████| 10/10 [00:00<00:00, 17.29it/s]\u001B[A\n",
      " 70%|███████   | 7/10 [00:07<00:03,  1.15s/it]\n",
      "  0%|          | 0/10 [00:00<?, ?it/s]\u001B[A\n",
      " 10%|█         | 1/10 [00:00<00:00,  9.88it/s]\u001B[A\n",
      " 30%|███       | 3/10 [00:00<00:00, 11.10it/s]\u001B[A\n",
      " 50%|█████     | 5/10 [00:00<00:00, 12.13it/s]\u001B[A\n",
      " 70%|███████   | 7/10 [00:00<00:00, 12.83it/s]\u001B[A\n",
      "100%|██████████| 10/10 [00:00<00:00, 15.58it/s][A\n",
      " 80%|████████  | 8/10 [00:08<00:02,  1.14s/it]\n",
      "  0%|          | 0/10 [00:00<?, ?it/s]\u001B[A\n",
      " 20%|██        | 2/10 [00:00<00:00, 14.32it/s]\u001B[A\n",
      " 40%|████      | 4/10 [00:00<00:00, 14.28it/s]\u001B[A\n",
      " 60%|██████    | 6/10 [00:00<00:00, 15.07it/s]\u001B[A\n",
      " 80%|████████  | 8/10 [00:00<00:00, 14.57it/s]\u001B[A\n",
      "100%|██████████| 10/10 [00:00<00:00, 15.44it/s]\u001B[A\n",
      " 90%|█████████ | 9/10 [00:09<00:01,  1.12s/it]\n",
      "  0%|          | 0/10 [00:00<?, ?it/s]\u001B[A\n",
      " 20%|██        | 2/10 [00:00<00:00, 18.53it/s]\u001B[A\n",
      " 40%|████      | 4/10 [00:00<00:00, 18.68it/s]\u001B[A\n",
      " 60%|██████    | 6/10 [00:00<00:00, 16.81it/s]\u001B[A\n",
      " 80%|████████  | 8/10 [00:00<00:00, 17.12it/s]\u001B[A\n",
      "100%|██████████| 10/10 [00:00<00:00, 16.26it/s]\u001B[A\n",
      "100%|██████████| 10/10 [00:11<00:00,  1.10s/it]"
     ]
    },
    {
     "name": "stdout",
     "output_type": "stream",
     "text": [
      "|    | seed      |        E |        P |       F1 |      ACC |      NMI |     PREC |      REC |      ARI |\n",
      "|----|-----------|----------|----------|----------|----------|----------|----------|----------|----------|\n",
      "|  0 | 102758375 | 0.428383 | 0.659640 | 0.043620 | 0.044007 | 0.436066 | 0.073938 | 0.044007 | 0.303957 |\n",
      "|  1 | 102758375 | 0.427989 | 0.662825 | 0.065009 | 0.058256 | 0.436709 | 0.097686 | 0.058256 | 0.318946 |\n",
      "|  2 | 102758375 | 0.418265 | 0.652850 | 0.113960 | 0.106873 | 0.450076 | 0.199417 | 0.106873 | 0.346506 |\n",
      "|  3 | 102758375 | 0.419574 | 0.652096 | 0.068019 | 0.066345 | 0.444782 | 0.104811 | 0.066345 | 0.336888 |\n",
      "|  4 | 102758375 | 0.429605 | 0.658466 | 0.051974 | 0.055532 | 0.436864 | 0.076387 | 0.055532 | 0.318954 |\n",
      "|  5 | 102758375 | 0.428818 | 0.664878 | 0.062528 | 0.059137 | 0.439885 | 0.154630 | 0.059137 | 0.314035 |\n",
      "|  6 | 102758375 | 0.425140 | 0.645013 | 0.048215 | 0.044593 | 0.439948 | 0.109057 | 0.044593 | 0.335990 |\n",
      "|  7 | 102758375 | 0.428611 | 0.663118 | 0.057425 | 0.056370 | 0.439868 | 0.097537 | 0.056370 | 0.314683 |\n",
      "|  8 | 102758375 | 0.437024 | 0.656035 | 0.049690 | 0.044677 | 0.430078 | 0.095058 | 0.044677 | 0.333822 |\n",
      "|  9 | 102758375 | 0.415802 | 0.653353 | 0.033990 | 0.034996 | 0.449886 | 0.052390 | 0.034996 | 0.351205 |\n",
      "| 10 | Average   | 0.425921 | 0.656827 | 0.059443 | 0.057079 | 0.440416 | 0.106091 | 0.057079 | 0.327498 |\n",
      "CPU times: user 31.9 s, sys: 9.97 s, total: 41.9 s\n",
      "Wall time: 11 s\n"
     ]
    },
    {
     "name": "stderr",
     "output_type": "stream",
     "text": [
      "\n"
     ]
    }
   ],
   "source": [
    "%%time\n",
    "perform_evaluate_runs('Caltech', embDim=8, kernelFn='cosine')"
   ]
  },
  {
   "cell_type": "markdown",
   "metadata": {},
   "source": [
    "dim:8, cosine\n",
    "\n",
    "|    | seed      |        E |        P |       F1 |      ACC |      NMI |     PREC |      REC |      ARI |\n",
    "|----|-----------|----------|----------|----------|----------|----------|----------|----------|----------|\n",
    "|  0 | 102758375 | 0.428383 | 0.659640 | 0.043620 | 0.044007 | 0.436066 | 0.073938 | 0.044007 | 0.303957 |\n",
    "|  1 | 102758375 | 0.427989 | 0.662825 | 0.065009 | 0.058256 | 0.436709 | 0.097686 | 0.058256 | 0.318946 |\n",
    "|  2 | 102758375 | 0.418265 | 0.652850 | 0.113960 | 0.106873 | 0.450076 | 0.199417 | 0.106873 | 0.346506 |\n",
    "|  3 | 102758375 | 0.419574 | 0.652096 | 0.068019 | 0.066345 | 0.444782 | 0.104811 | 0.066345 | 0.336888 |\n",
    "|  4 | 102758375 | 0.429605 | 0.658466 | 0.051974 | 0.055532 | 0.436864 | 0.076387 | 0.055532 | 0.318954 |\n",
    "|  5 | 102758375 | 0.428818 | 0.664878 | 0.062528 | 0.059137 | 0.439885 | 0.154630 | 0.059137 | 0.314035 |\n",
    "|  6 | 102758375 | 0.425140 | 0.645013 | 0.048215 | 0.044593 | 0.439948 | 0.109057 | 0.044593 | 0.335990 |\n",
    "|  7 | 102758375 | 0.428611 | 0.663118 | 0.057425 | 0.056370 | 0.439868 | 0.097537 | 0.056370 | 0.314683 |\n",
    "|  8 | 102758375 | 0.437024 | 0.656035 | 0.049690 | 0.044677 | 0.430078 | 0.095058 | 0.044677 | 0.333822 |\n",
    "|  9 | 102758375 | 0.415802 | 0.653353 | 0.033990 | 0.034996 | 0.449886 | 0.052390 | 0.034996 | 0.351205 |\n",
    "| 10 | Average   | 0.425921 | 0.656827 | 0.059443 | 0.057079 | 0.440416 | 0.106091 | 0.057079 | 0.327498 |\n",
    "CPU times: user 31.9 s, sys: 9.97 s, total: 41.9 s\n",
    "Wall time: 11 s\n",
    "\n",
    "\n",
    "dim:5 , cosine\n",
    "\n",
    "|    | seed      |        E |        P |       F1 |      ACC |      NMI |     PREC |      REC |      ARI |\n",
    "|----|-----------|----------|----------|----------|----------|----------|----------|----------|----------|\n",
    "|  0 | 102758375 | 0.429888 | 0.648910 | 0.052559 | 0.052096 | 0.425421 | 0.078130 | 0.052096 | 0.322740 |\n",
    "|  1 | 102758375 | 0.430596 | 0.649581 | 0.050770 | 0.046773 | 0.423121 | 0.094186 | 0.046773 | 0.316401 |\n",
    "|  2 | 102758375 | 0.405382 | 0.659514 | 0.094435 | 0.085247 | 0.450282 | 0.159397 | 0.085247 | 0.354355 |\n",
    "|  3 | 102758375 | 0.407962 | 0.655448 | 0.073609 | 0.064920 | 0.448392 | 0.125081 | 0.064920 | 0.360443 |\n",
    "|  4 | 102758375 | 0.430999 | 0.648701 | 0.023385 | 0.027494 | 0.420953 | 0.038343 | 0.027494 | 0.309670 |\n",
    "|  5 | 102758375 | 0.431033 | 0.650838 | 0.057918 | 0.048868 | 0.422462 | 0.109296 | 0.048868 | 0.314567 |\n",
    "|  6 | 102758375 | 0.409791 | 0.655029 | 0.064198 | 0.054862 | 0.445235 | 0.138087 | 0.054862 | 0.348076 |\n",
    "|  7 | 102758375 | 0.429922 | 0.648868 | 0.058080 | 0.049162 | 0.425611 | 0.120052 | 0.049162 | 0.328405 |\n",
    "|  8 | 102758375 | 0.422801 | 0.661065 | 0.071160 | 0.065423 | 0.433804 | 0.118065 | 0.065423 | 0.350798 |\n",
    "|  9 | 102758375 | 0.407643 | 0.656329 | 0.065358 | 0.062531 | 0.448731 | 0.142431 | 0.062531 | 0.349878 |\n",
    "| 10 | Average   | 0.420602 | 0.653428 | 0.061147 | 0.055738 | 0.434401 | 0.112307 | 0.055738 | 0.335533 |\n",
    "CPU times: user 31.4 s, sys: 9.99 s, total: 41.4 s\n",
    "Wall time: 10.9 s\n",
    "\n",
    "dim:3, cosine\n",
    "\n",
    "|    | seed      |        E |        P |       F1 |      ACC |      NMI |     PREC |      REC |      ARI |\n",
    "|----|-----------|----------|----------|----------|----------|----------|----------|----------|----------|\n",
    "|  0 | 102758375 | 0.429080 | 0.649246 | 0.030382 | 0.031140 | 0.425903 | 0.045765 | 0.031140 | 0.350819 |\n",
    "|  1 | 102758375 | 0.430828 | 0.649329 | 0.034217 | 0.034367 | 0.423641 | 0.051573 | 0.034367 | 0.345043 |\n",
    "|  2 | 102758375 | 0.414870 | 0.643713 | 0.093608 | 0.080134 | 0.433554 | 0.189920 | 0.080134 | 0.312642 |\n",
    "|  3 | 102758375 | 0.415314 | 0.643588 | 0.055367 | 0.047946 | 0.432987 | 0.114854 | 0.047946 | 0.312657 |\n",
    "|  4 | 102758375 | 0.427223 | 0.650168 | 0.074751 | 0.065130 | 0.427829 | 0.117880 | 0.065130 | 0.352501 |\n",
    "|  5 | 102758375 | 0.429397 | 0.648156 | 0.040202 | 0.037427 | 0.422792 | 0.073292 | 0.037427 | 0.339596 |\n",
    "|  6 | 102758375 | 0.417945 | 0.643588 | 0.058441 | 0.053646 | 0.428766 | 0.116574 | 0.053646 | 0.299925 |\n",
    "|  7 | 102758375 | 0.429430 | 0.650754 | 0.049732 | 0.045851 | 0.427227 | 0.093415 | 0.045851 | 0.357674 |\n",
    "|  8 | 102758375 | 0.428885 | 0.648659 | 0.057716 | 0.059262 | 0.420952 | 0.088058 | 0.059262 | 0.325333 |\n",
    "|  9 | 102758375 | 0.414440 | 0.643965 | 0.068801 | 0.054694 | 0.432413 | 0.199044 | 0.054694 | 0.310104 |\n",
    "| 10 | Average   | 0.423741 | 0.647117 | 0.056322 | 0.050960 | 0.427606 | 0.109038 | 0.050960 | 0.330629 |\n",
    "CPU times: user 31.9 s, sys: 9.51 s, total: 41.4 s\n",
    "Wall time: 11.2 s\n",
    "\n",
    "\n",
    "dim : 3\n",
    "\n",
    "|    | seed      |        E |        P |       F1 |      ACC |      NMI |     PREC |      REC |      ARI |\n",
    "|----|-----------|----------|----------|----------|----------|----------|----------|----------|----------|\n",
    "|  0 | 102758375 | 0.445440 | 0.643336 | 0.026973 | 0.027033 | 0.414287 | 0.055858 | 0.027033 | 0.342926 |\n",
    "|  1 | 102758375 | 0.444238 | 0.643336 | 0.045111 | 0.041408 | 0.416247 | 0.070447 | 0.041408 | 0.348293 |\n",
    "|  2 | 102758375 | 0.424884 | 0.648198 | 0.077482 | 0.071961 | 0.426085 | 0.128635 | 0.071961 | 0.304730 |\n",
    "|  3 | 102758375 | 0.423435 | 0.648198 | 0.077158 | 0.065339 | 0.426261 | 0.186978 | 0.065339 | 0.301516 |\n",
    "|  4 | 102758375 | 0.443114 | 0.643168 | 0.046479 | 0.041869 | 0.415925 | 0.073534 | 0.041869 | 0.346467 |\n",
    "|  5 | 102758375 | 0.441940 | 0.644216 | 0.027960 | 0.033445 | 0.415597 | 0.042074 | 0.033445 | 0.339148 |\n",
    "|  6 | 102758375 | 0.422699 | 0.645306 | 0.045728 | 0.044216 | 0.426639 | 0.077841 | 0.044216 | 0.304276 |\n",
    "|  7 | 102758375 | 0.443025 | 0.644258 | 0.057770 | 0.052054 | 0.419893 | 0.104900 | 0.052054 | 0.376782 |\n",
    "|  8 | 102758375 | 0.444823 | 0.644593 | 0.035458 | 0.036421 | 0.411878 | 0.068847 | 0.036421 | 0.349812 |\n",
    "|  9 | 102758375 | 0.422160 | 0.648617 | 0.055328 | 0.041953 | 0.428452 | 0.199043 | 0.041953 | 0.308407 |\n",
    "| 10 | Average   | 0.435576 | 0.645323 | 0.049545 | 0.045570 | 0.420126 | 0.100816 | 0.045570 | 0.332236 |\n",
    "\n",
    "CPU times: user 1min 46s, sys: 57.2 s, total: 2min 44s\n",
    "Wall time: 28.2 s"
   ]
  },
  {
   "cell_type": "code",
   "execution_count": 38,
   "metadata": {},
   "outputs": [
    {
     "name": "stderr",
     "output_type": "stream",
     "text": [
      "  0%|          | 0/10 [00:00<?, ?it/s]\n",
      "  0%|          | 0/10 [00:00<?, ?it/s]\u001B[A\n",
      " 30%|███       | 3/10 [00:00<00:00, 24.78it/s]\u001B[A\n",
      " 70%|███████   | 7/10 [00:00<00:00, 26.27it/s]\u001B[A\n",
      "100%|██████████| 10/10 [00:00<00:00, 25.54it/s]\u001B[A\n",
      " 10%|█         | 1/10 [00:00<00:06,  1.33it/s]\n",
      "  0%|          | 0/10 [00:00<?, ?it/s]\u001B[A\n",
      " 20%|██        | 2/10 [00:00<00:00, 19.07it/s]\u001B[A\n",
      " 50%|█████     | 5/10 [00:00<00:00, 21.10it/s]\u001B[A\n",
      "100%|██████████| 10/10 [00:00<00:00, 26.75it/s][A\n",
      " 20%|██        | 2/10 [00:01<00:05,  1.35it/s]\n",
      "  0%|          | 0/10 [00:00<?, ?it/s]\u001B[A\n",
      " 20%|██        | 2/10 [00:00<00:00, 19.33it/s]\u001B[A\n",
      " 60%|██████    | 6/10 [00:00<00:00, 22.11it/s]\u001B[A\n",
      "100%|██████████| 10/10 [00:00<00:00, 26.74it/s][A\n",
      " 30%|███       | 3/10 [00:02<00:05,  1.36it/s]\n",
      "  0%|          | 0/10 [00:00<?, ?it/s]\u001B[A\n",
      " 30%|███       | 3/10 [00:00<00:00, 26.15it/s]\u001B[A\n",
      " 60%|██████    | 6/10 [00:00<00:00, 26.60it/s]\u001B[A\n",
      "100%|██████████| 10/10 [00:00<00:00, 28.97it/s]\u001B[A\n",
      " 40%|████      | 4/10 [00:02<00:04,  1.32it/s]\n",
      "  0%|          | 0/10 [00:00<?, ?it/s]\u001B[A\n",
      " 30%|███       | 3/10 [00:00<00:00, 26.77it/s]\u001B[A\n",
      "100%|██████████| 10/10 [00:00<00:00, 31.10it/s][A\n",
      " 50%|█████     | 5/10 [00:03<00:03,  1.32it/s]\n",
      "  0%|          | 0/10 [00:00<?, ?it/s]\u001B[A\n",
      " 20%|██        | 2/10 [00:00<00:00, 19.13it/s]\u001B[A\n",
      " 50%|█████     | 5/10 [00:00<00:00, 20.89it/s]\u001B[A\n",
      "100%|██████████| 10/10 [00:00<00:00, 26.37it/s][A\n",
      " 60%|██████    | 6/10 [00:04<00:02,  1.36it/s]\n",
      "  0%|          | 0/10 [00:00<?, ?it/s]\u001B[A\n",
      " 30%|███       | 3/10 [00:00<00:00, 24.78it/s]\u001B[A\n",
      " 60%|██████    | 6/10 [00:00<00:00, 25.84it/s]\u001B[A\n",
      "100%|██████████| 10/10 [00:00<00:00, 26.51it/s][A\n",
      " 70%|███████   | 7/10 [00:05<00:02,  1.39it/s]\n",
      "  0%|          | 0/10 [00:00<?, ?it/s]\u001B[A\n",
      " 30%|███       | 3/10 [00:00<00:00, 23.71it/s]\u001B[A\n",
      " 70%|███████   | 7/10 [00:00<00:00, 25.45it/s]\u001B[A\n",
      "100%|██████████| 10/10 [00:00<00:00, 27.15it/s]\u001B[A\n",
      " 80%|████████  | 8/10 [00:05<00:01,  1.39it/s]\n",
      "  0%|          | 0/10 [00:00<?, ?it/s]\u001B[A\n",
      " 30%|███       | 3/10 [00:00<00:00, 27.51it/s]\u001B[A\n",
      "100%|██████████| 10/10 [00:00<00:00, 30.33it/s][A\n",
      " 90%|█████████ | 9/10 [00:06<00:00,  1.44it/s]\n",
      "  0%|          | 0/10 [00:00<?, ?it/s]\u001B[A\n",
      " 30%|███       | 3/10 [00:00<00:00, 24.60it/s]\u001B[A\n",
      " 60%|██████    | 6/10 [00:00<00:00, 25.93it/s]\u001B[A\n",
      "100%|██████████| 10/10 [00:00<00:00, 26.83it/s][A\n",
      "100%|██████████| 10/10 [00:07<00:00,  1.40it/s]"
     ]
    },
    {
     "name": "stdout",
     "output_type": "stream",
     "text": [
      "|    | seed      |        E |        P |       F1 |      ACC |      NMI |     PREC |      REC |      ARI |\n",
      "|----|-----------|----------|----------|----------|----------|----------|----------|----------|----------|\n",
      "|  0 | 102758375 | 0.281818 | 0.761050 | 0.095272 | 0.099400 | 0.730629 | 0.101884 | 0.099400 | 0.627191 |\n",
      "|  1 | 102758375 | 0.276767 | 0.770700 | 0.069029 | 0.077700 | 0.734134 | 0.066716 | 0.077700 | 0.637387 |\n",
      "|  2 | 102758375 | 0.277524 | 0.764200 | 0.138228 | 0.145250 | 0.733049 | 0.142899 | 0.145250 | 0.636140 |\n",
      "|  3 | 102758375 | 0.278512 | 0.770100 | 0.119809 | 0.123950 | 0.732739 | 0.125409 | 0.123950 | 0.632471 |\n",
      "|  4 | 102758375 | 0.278240 | 0.764150 | 0.095165 | 0.102700 | 0.732373 | 0.098505 | 0.102700 | 0.630341 |\n",
      "|  5 | 102758375 | 0.284441 | 0.763200 | 0.074636 | 0.077600 | 0.729158 | 0.077518 | 0.077600 | 0.619431 |\n",
      "|  6 | 102758375 | 0.275399 | 0.774150 | 0.118619 | 0.124000 | 0.734071 | 0.118853 | 0.124000 | 0.640756 |\n",
      "|  7 | 102758375 | 0.302031 | 0.742150 | 0.116881 | 0.123550 | 0.713664 | 0.121963 | 0.123550 | 0.605184 |\n",
      "|  8 | 102758375 | 0.277821 | 0.765100 | 0.100481 | 0.112100 | 0.732227 | 0.098190 | 0.112100 | 0.634336 |\n",
      "|  9 | 102758375 | 0.279416 | 0.768800 | 0.075536 | 0.075800 | 0.732158 | 0.077696 | 0.075800 | 0.627847 |\n",
      "| 10 | Average   | 0.281197 | 0.764360 | 0.100366 | 0.106205 | 0.730420 | 0.102963 | 0.106205 | 0.629108 |\n",
      "CPU times: user 21.4 s, sys: 7.06 s, total: 28.5 s\n",
      "Wall time: 7.18 s\n"
     ]
    },
    {
     "name": "stderr",
     "output_type": "stream",
     "text": [
      "\n"
     ]
    }
   ],
   "source": [
    "%%time\n",
    "perform_evaluate_runs('handwritten', embDim=6, kernelFn='cosine') # no important difference with the default thresold"
   ]
  },
  {
   "cell_type": "markdown",
   "metadata": {},
   "source": [
    "dim:6, cosine \n",
    "\n",
    "|    | seed      |        E |        P |       F1 |      ACC |      NMI |     PREC |      REC |      ARI |\n",
    "|----|-----------|----------|----------|----------|----------|----------|----------|----------|----------|\n",
    "|  0 | 102758375 | 0.281818 | 0.761050 | 0.095272 | 0.099400 | 0.730629 | 0.101884 | 0.099400 | 0.627191 |\n",
    "|  1 | 102758375 | 0.276767 | 0.770700 | 0.069029 | 0.077700 | 0.734134 | 0.066716 | 0.077700 | 0.637387 |\n",
    "|  2 | 102758375 | 0.277524 | 0.764200 | 0.138228 | 0.145250 | 0.733049 | 0.142899 | 0.145250 | 0.636140 |\n",
    "|  3 | 102758375 | 0.278512 | 0.770100 | 0.119809 | 0.123950 | 0.732739 | 0.125409 | 0.123950 | 0.632471 |\n",
    "|  4 | 102758375 | 0.278240 | 0.764150 | 0.095165 | 0.102700 | 0.732373 | 0.098505 | 0.102700 | 0.630341 |\n",
    "|  5 | 102758375 | 0.284441 | 0.763200 | 0.074636 | 0.077600 | 0.729158 | 0.077518 | 0.077600 | 0.619431 |\n",
    "|  6 | 102758375 | 0.275399 | 0.774150 | 0.118619 | 0.124000 | 0.734071 | 0.118853 | 0.124000 | 0.640756 |\n",
    "|  7 | 102758375 | 0.302031 | 0.742150 | 0.116881 | 0.123550 | 0.713664 | 0.121963 | 0.123550 | 0.605184 |\n",
    "|  8 | 102758375 | 0.277821 | 0.765100 | 0.100481 | 0.112100 | 0.732227 | 0.098190 | 0.112100 | 0.634336 |\n",
    "|  9 | 102758375 | 0.279416 | 0.768800 | 0.075536 | 0.075800 | 0.732158 | 0.077696 | 0.075800 | 0.627847 |\n",
    "| 10 | Average   | 0.281197 | 0.764360 | 0.100366 | 0.106205 | 0.730420 | 0.102963 | 0.106205 | 0.629108 |\n",
    "CPU times: user 21.4 s, sys: 7.06 s, total: 28.5 s\n",
    "Wall time: 7.18 s\n",
    "\n",
    "dim : 6\n",
    "\n",
    "|    | seed      |        E |        P |       F1 |      ACC |      NMI |     PREC |      REC |      ARI |\n",
    "|----|-----------|----------|----------|----------|----------|----------|----------|----------|----------|\n",
    "|  0 | 102758375 | 0.290102 | 0.763400 | 0.121379 | 0.121450 | 0.716668 | 0.125602 | 0.121450 | 0.634751 |\n",
    "|  1 | 102758375 | 0.289881 | 0.763200 | 0.073071 | 0.075850 | 0.716801 | 0.073154 | 0.075850 | 0.630876 |\n",
    "|  2 | 102758375 | 0.290499 | 0.761100 | 0.132062 | 0.133500 | 0.715696 | 0.134442 | 0.133500 | 0.634909 |\n",
    "|  3 | 102758375 | 0.288695 | 0.764150 | 0.095413 | 0.098150 | 0.717387 | 0.095284 | 0.098150 | 0.634717 |\n",
    "|  4 | 102758375 | 0.293103 | 0.758750 | 0.124142 | 0.126900 | 0.715118 | 0.127762 | 0.126900 | 0.627984 |\n",
    "|  5 | 102758375 | 0.289417 | 0.762350 | 0.100434 | 0.099700 | 0.717925 | 0.106166 | 0.099700 | 0.630034 |\n",
    "|  6 | 102758375 | 0.289903 | 0.763300 | 0.145624 | 0.148700 | 0.716421 | 0.149754 | 0.148700 | 0.632362 |\n",
    "|  7 | 102758375 | 0.337331 | 0.688300 | 0.098746 | 0.100600 | 0.673209 | 0.105153 | 0.100600 | 0.583970 |\n",
    "|  8 | 102758375 | 0.290753 | 0.762650 | 0.080585 | 0.080400 | 0.717223 | 0.086493 | 0.080400 | 0.628180 |\n",
    "|  9 | 102758375 | 0.290330 | 0.762950 | 0.071886 | 0.069750 | 0.716495 | 0.078104 | 0.069750 | 0.634831 |\n",
    "| 10 | Average   | 0.295001 | 0.755015 | 0.104334 | 0.105500 | 0.712294 | 0.108191 | 0.105500 | 0.627261 |\n",
    "\n",
    "CPU times: user 56.9 s, sys: 31.1 s, total: 1min 28s\n",
    "Wall time: 15 s"
   ]
  },
  {
   "cell_type": "code",
   "execution_count": null,
   "metadata": {},
   "outputs": [
    {
     "name": "stderr",
     "output_type": "stream",
     "text": [
      "  0%|          | 0/10 [00:00<?, ?it/s]"
     ]
    }
   ],
   "source": [
    "perform_evaluate_runs('NusWide', embDim=5, kernelFn='cosine') # no important difference with the default thresold"
   ]
  },
  {
   "cell_type": "markdown",
   "metadata": {},
   "source": [
    "---"
   ]
  },
  {
   "cell_type": "code",
   "execution_count": 29,
   "metadata": {},
   "outputs": [
    {
     "data": {
      "text/plain": [
       "<685x15 sparse matrix of type '<class 'numpy.float64'>'\n",
       "\twith 1453 stored elements in Compressed Sparse Row format>"
      ]
     },
     "execution_count": 29,
     "metadata": {},
     "output_type": "execute_result"
    }
   ],
   "source": [
    "dsDirPath = 'BBC-seg4'\n",
    "simFname = \"{0}/{1}/{2}\".format(path, dsDirPath, 'simmatrix_DS_Nov262020.182009_csr.npy')\n",
    "trueLblsFname = \"{0}/{1}/{2}\".format(path, dsDirPath, 'labels.true')\n",
    "trueL = getLabelsFromFile(trueLblsFname)\n",
    "D = _loadSparseCSRFromDisk(simFname)\n",
    "D"
   ]
  },
  {
   "cell_type": "code",
   "execution_count": 30,
   "metadata": {},
   "outputs": [
    {
     "data": {
      "text/plain": [
       "(15, 15)"
      ]
     },
     "execution_count": 30,
     "metadata": {},
     "output_type": "execute_result"
    }
   ],
   "source": [
    "simClus = getSimClus(D)\n",
    "simClus.shape"
   ]
  },
  {
   "cell_type": "code",
   "execution_count": 31,
   "metadata": {},
   "outputs": [
    {
     "name": "stdout",
     "output_type": "stream",
     "text": [
      "CPU times: user 28.7 s, sys: 83.2 ms, total: 28.8 s\n",
      "Wall time: 28.9 s\n"
     ]
    }
   ],
   "source": [
    "%%time\n",
    "aSRS = compute_aSRS(D)"
   ]
  },
  {
   "cell_type": "markdown",
   "metadata": {},
   "source": [
    "Obtaining the graph embedding"
   ]
  },
  {
   "cell_type": "code",
   "execution_count": 116,
   "metadata": {},
   "outputs": [],
   "source": [
    "from spectral_embedding import *\n",
    "\n",
    "spectralEmb = SpectralEmbedding(embedding_dimension = 30, node_weights = 'degree')\n",
    "spectralEmb.fit(aSRS)\n",
    "\n",
    "embedding = spectralEmb.embedding_\n",
    "embedding.shape\n",
    "\n",
    "from sklearn.cluster import KMeans, MiniBatchKMeans\n",
    "\n",
    "n_clusters = 5\n",
    "\n",
    "kmeans = MiniBatchKMeans(n_clusters)\n",
    "kmeans.fit(embedding)\n",
    "pred_labels = list(kmeans.labels_)\n",
    "np.unique(pred_labels, return_counts=True)\n",
    "\n",
    "from clustering_evaluation import computeEvaluationMeasures, MEASURES\n",
    "\n",
    "perf = computeEvaluationMeasures(trueL, pred_labels) \n",
    "perf"
   ]
  },
  {
   "cell_type": "code",
   "execution_count": 56,
   "metadata": {},
   "outputs": [],
   "source": [
    "from sklearn.manifold import SpectralEmbedding, spectral_embedding, LocallyLinearEmbedding\n",
    "from clustering_evaluation import computeEvaluationMeasures, MEASURES\n",
    "from sklearn.cluster import MiniBatchKMeans"
   ]
  },
  {
   "cell_type": "code",
   "execution_count": 33,
   "metadata": {},
   "outputs": [
    {
     "name": "stdout",
     "output_type": "stream",
     "text": [
      "CPU times: user 2min 10s, sys: 1min 59s, total: 4min 9s\n",
      "Wall time: 33.7 s\n"
     ]
    },
    {
     "data": {
      "text/plain": [
       "(685, 20)"
      ]
     },
     "execution_count": 33,
     "metadata": {},
     "output_type": "execute_result"
    }
   ],
   "source": [
    "%%time\n",
    "# builds the embedded vectors\n",
    "embedding = SpectralEmbedding(n_components=20, affinity='precomputed', n_jobs=4)\n",
    "D_transformed = embedding.fit_transform(csr_matrix(aSRS))\n",
    "D_transformed.shape"
   ]
  },
  {
   "cell_type": "code",
   "execution_count": 23,
   "metadata": {},
   "outputs": [
    {
     "data": {
      "text/plain": [
       "{'E': 0.2698309799979815,\n",
       " 'P': 0.8934306569343065,\n",
       " 'F1': 0.034864843556005734,\n",
       " 'ACC': 0.043795620437956206,\n",
       " 'NMI': 0.720048774881849,\n",
       " 'PREC': 0.031503791390491524,\n",
       " 'REC': 0.043795620437956206,\n",
       " 'ARI': 0.7541376286640216}"
      ]
     },
     "execution_count": 23,
     "metadata": {},
     "output_type": "execute_result"
    }
   ],
   "source": [
    "# clustering the embedded vectors\n",
    "n_clusters = 5\n",
    "\n",
    "kmeans = MiniBatchKMeans(n_clusters)\n",
    "kmeans.fit(D_transformed)\n",
    "pred_labels = list(kmeans.labels_)\n",
    "np.unique(pred_labels, return_counts=True)\n",
    "\n",
    "# evaluates\n",
    "perf = computeEvaluationMeasures(trueL, pred_labels) \n",
    "perf"
   ]
  },
  {
   "cell_type": "code",
   "execution_count": 72,
   "metadata": {},
   "outputs": [],
   "source": [
    "D_transformed = spectral_embedding(aSRS, n_components=4)"
   ]
  },
  {
   "cell_type": "code",
   "execution_count": 73,
   "metadata": {},
   "outputs": [
    {
     "name": "stdout",
     "output_type": "stream",
     "text": [
      "|        E |        P |        F1 |       ACC |      NMI |      PREC |       REC |      ARI |\n",
      "|----------|----------|-----------|-----------|----------|-----------|-----------|----------|\n",
      "| 0.269831 | 0.893431 | 0.0272362 | 0.0364964 | 0.720049 | 0.0247993 | 0.0364964 | 0.754138 |\n",
      "| 0.269831 | 0.893431 | 0.0348648 | 0.0437956 | 0.720049 | 0.0315038 | 0.0437956 | 0.754138 |\n",
      "| 0.269831 | 0.893431 | 0.0183744 | 0.0189781 | 0.720049 | 0.0196187 | 0.0189781 | 0.754138 |\n",
      "| 0.269831 | 0.893431 | 0.119847  | 0.124088  | 0.720049 | 0.116915  | 0.124088  | 0.754138 |\n",
      "| 0.269831 | 0.893431 | 0.395171  | 0.386861  | 0.720049 | 0.407427  | 0.386861  | 0.754138 |\n",
      "| 0.422587 | 0.729927 | 0.180346  | 0.157664  | 0.602769 | 0.312192  | 0.157664  | 0.48873  |\n",
      "| 0.269831 | 0.893431 | 0.0269503 | 0.0321168 | 0.720049 | 0.0255184 | 0.0321168 | 0.754138 |\n",
      "| 0.269831 | 0.893431 | 0.572585  | 0.581022  | 0.720049 | 0.568539  | 0.581022  | 0.754138 |\n",
      "| 0.264828 | 0.89635  | 0.242243  | 0.240876  | 0.724914 | 0.247457  | 0.240876  | 0.761245 |\n",
      "| 0.269831 | 0.893431 | 0.236269  | 0.230657  | 0.720049 | 0.246885  | 0.230657  | 0.754138 |\n",
      "| 0.284606 | 0.877372 | 0.185389  | 0.185255  | 0.708807 | 0.200086  | 0.185255  | 0.728308 |\n"
     ]
    }
   ],
   "source": [
    "# clustering the embedded vectors\n",
    "n_clusters = 5\n",
    "results = []\n",
    "for i in range(10):\n",
    "    kmeans = MiniBatchKMeans(n_clusters)\n",
    "    kmeans.fit(D_transformed)\n",
    "    pred_labels = list(kmeans.labels_)\n",
    "    np.unique(pred_labels, return_counts=True)\n",
    "\n",
    "    # evaluates\n",
    "    perf = computeEvaluationMeasures(trueL, pred_labels)\n",
    "    results.append([perf[m] for m in MEASURES])    \n",
    "\n",
    "results.append(list(np.mean(results, axis=0)))\n",
    "\n",
    "print(tabulate(results, headers=MEASURES, tablefmt='github'))"
   ]
  },
  {
   "cell_type": "code",
   "execution_count": 64,
   "metadata": {},
   "outputs": [
    {
     "data": {
      "text/plain": [
       "array([0.40443594, 0.74306569, 0.20445587, 0.23781022, 0.6085907 ,\n",
       "       0.2044238 , 0.23781022, 0.53578728])"
      ]
     },
     "execution_count": 64,
     "metadata": {},
     "output_type": "execute_result"
    }
   ],
   "source": []
  },
  {
   "cell_type": "code",
   "execution_count": 10,
   "metadata": {},
   "outputs": [
    {
     "data": {
      "text/plain": [
       "array([[0.80471619, 0.22661069, 0.70333301],\n",
       "       [1.21995249, 0.7524992 , 0.60835408],\n",
       "       [0.81638102, 0.21234497, 1.29083036],\n",
       "       [1.21960049, 1.22693506, 1.15690697]])"
      ]
     },
     "execution_count": 10,
     "metadata": {},
     "output_type": "execute_result"
    }
   ],
   "source": [
    "Sp = np.abs(np.random.randn(4,3))\n",
    "Sp"
   ]
  },
  {
   "cell_type": "code",
   "execution_count": 12,
   "metadata": {},
   "outputs": [
    {
     "data": {
      "text/plain": [
       "array([[1.        , 0.92883101, 0.95742643, 0.91179706],\n",
       "       [0.92883101, 1.        , 0.80838389, 0.96121347],\n",
       "       [0.95742643, 0.80838389, 1.        , 0.85678013],\n",
       "       [0.91179706, 0.96121347, 0.85678013, 1.        ]])"
      ]
     },
     "execution_count": 12,
     "metadata": {},
     "output_type": "execute_result"
    }
   ],
   "source": [
    "from sklearn.metrics.pairwise import pairwise_kernels\n",
    "\n",
    "pairwise_kernels(Sp, metric='cosine')"
   ]
  },
  {
   "cell_type": "code",
   "execution_count": 13,
   "metadata": {},
   "outputs": [
    {
     "data": {
      "text/plain": [
       "array([[1.        , 0.85841556, 0.89121976, 0.63159786],\n",
       "       [0.85841556, 1.        , 0.7357952 , 0.83917731],\n",
       "       [0.89121976, 0.7357952 , 1.        , 0.66810842],\n",
       "       [0.63159786, 0.83917731, 0.66810842, 1.        ]])"
      ]
     },
     "execution_count": 13,
     "metadata": {},
     "output_type": "execute_result"
    }
   ],
   "source": [
    "pairwise_kernels(Sp, metric='rbf')"
   ]
  },
  {
   "cell_type": "code",
   "execution_count": 15,
   "metadata": {},
   "outputs": [
    {
     "data": {
      "text/plain": [
       "array([[1.        , 0.70795984, 0.81507433, 0.53637189],\n",
       "       [0.70795984, 1.        , 0.58154477, 0.71097815],\n",
       "       [0.81507433, 0.58154477, 1.        , 0.59616112],\n",
       "       [0.53637189, 0.71097815, 0.59616112, 1.        ]])"
      ]
     },
     "execution_count": 15,
     "metadata": {},
     "output_type": "execute_result"
    }
   ],
   "source": [
    "pairwise_kernels(Sp, metric='laplacian')"
   ]
  },
  {
   "cell_type": "code",
   "execution_count": 16,
   "metadata": {},
   "outputs": [
    {
     "data": {
      "text/plain": [
       "array([[1.19359788, 1.5801154 , 1.61295827, 2.07315973],\n",
       "       [1.5801154 , 2.42463381, 1.94101739, 3.11493138],\n",
       "       [1.61295827, 1.94101739, 2.37781137, 2.74956282],\n",
       "       [2.07315973, 3.11493138, 2.74956282, 4.33122872]])"
      ]
     },
     "execution_count": 16,
     "metadata": {},
     "output_type": "execute_result"
    }
   ],
   "source": [
    "Sp.dot(Sp.T)"
   ]
  },
  {
   "cell_type": "code",
   "execution_count": null,
   "metadata": {},
   "outputs": [],
   "source": []
  }
 ],
 "metadata": {
  "kernelspec": {
   "display_name": "Python 3",
   "language": "python",
   "name": "python3"
  },
  "language_info": {
   "codemirror_mode": {
    "name": "ipython",
    "version": 3
   },
   "file_extension": ".py",
   "mimetype": "text/x-python",
   "name": "python",
   "nbconvert_exporter": "python",
   "pygments_lexer": "ipython3",
   "version": "3.8.6"
  }
 },
 "nbformat": 4,
 "nbformat_minor": 4
}