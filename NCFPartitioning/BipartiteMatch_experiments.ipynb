{
 "cells": [
  {
   "cell_type": "markdown",
   "metadata": {},
   "source": [
    "https://docs.scipy.org/doc/scipy/reference/generated/scipy.sparse.csgraph.maximum_bipartite_matching.html#scipy.sparse.csgraph.maximum_bipartite_matching\n",
    "\n",
    "or\n",
    "\n",
    "https://docs.scipy.org/doc/scipy/reference/generated/scipy.sparse.csgraph.maximum_flow.html"
   ]
  },
  {
   "cell_type": "code",
   "execution_count": 1,
   "metadata": {},
   "outputs": [
    {
     "data": {
      "text/plain": [
       "'1.5.4'"
      ]
     },
     "execution_count": 1,
     "metadata": {},
     "output_type": "execute_result"
    }
   ],
   "source": [
    "import scipy\n",
    "\n",
    "scipy.version.version"
   ]
  },
  {
   "cell_type": "code",
   "execution_count": 12,
   "metadata": {},
   "outputs": [
    {
     "data": {
      "text/plain": [
       "array([[0, 1, 2, 0],\n",
       "       [1, 0, 0, 1],\n",
       "       [2, 0, 0, 3],\n",
       "       [0, 1, 3, 0],\n",
       "       [1, 0, 2, 0]])"
      ]
     },
     "execution_count": 12,
     "metadata": {},
     "output_type": "execute_result"
    }
   ],
   "source": [
    "from scipy.sparse.csgraph import maximum_bipartite_matching\n",
    "from scipy.sparse import csc_matrix, csr_matrix\n",
    "\n",
    "a = [[0, 1, 2, 0], [1, 0, 0, 1], [2, 0, 0, 3], [0, 1, 3, 0], [1, 0, 2, 0]]\n",
    "graph = csr_matrix(a)\n",
    "graph.toarray()"
   ]
  },
  {
   "cell_type": "code",
   "execution_count": 13,
   "metadata": {},
   "outputs": [],
   "source": [
    "perm = maximum_bipartite_matching(graph, perm_type='row')"
   ]
  },
  {
   "cell_type": "code",
   "execution_count": 14,
   "metadata": {},
   "outputs": [
    {
     "data": {
      "text/plain": [
       "array([1, 0, 3, 2], dtype=int32)"
      ]
     },
     "execution_count": 14,
     "metadata": {},
     "output_type": "execute_result"
    }
   ],
   "source": [
    "perm"
   ]
  },
  {
   "cell_type": "code",
   "execution_count": 17,
   "metadata": {},
   "outputs": [],
   "source": [
    "from scipy.sparse import lil_matrix, csr_matrix\n",
    "import numpy as np\n",
    "import metis\n",
    "from clustering_evaluation import computeEvaluationMeasures, MEASURES\n",
    "import glob\n",
    "from tabulate import tabulate\n",
    "from tqdm import tqdm\n",
    "\n",
    "\n",
    "def _loadSparseCSRFromDisk(fullPath):\n",
    "    spD = None\n",
    "    with open(fullPath, 'rb') as f:\n",
    "        data = np.load(f)\n",
    "        indices = np.load(f)\n",
    "        indptr = np.load(f)\n",
    "        spD = csr_matrix((data, indices, indptr))\n",
    "        # convert this nxk matrix into a similarity.\n",
    "    return spD\n",
    "\n",
    "def getLabelsFromFile(fullPath):\n",
    "    v = np.loadtxt(fullPath, delimiter=',', dtype=np.int)\n",
    "    return v\n",
    "\n",
    "def detectPostfixesInDir(fullPath, dirName):\n",
    "    fnLst = glob.glob('{0}/{1}/*labels_*.out'.format(fullPath, dirName))\n",
    "    # labels_NCF_DS_\n",
    "    postFixes = [f.split(\"/\")[-1].replace('labels_NCF_DS_','').replace('.out','') for f in fnLst]\n",
    "    return postFixes"
   ]
  },
  {
   "cell_type": "markdown",
   "metadata": {},
   "source": [
    "Not sure yet that the MaxBipMatch. methods fit correctly into the consensus problem."
   ]
  },
  {
   "cell_type": "code",
   "execution_count": null,
   "metadata": {},
   "outputs": [],
   "source": []
  }
 ],
 "metadata": {
  "kernelspec": {
   "display_name": "Python 3",
   "language": "python",
   "name": "python3"
  },
  "language_info": {
   "codemirror_mode": {
    "name": "ipython",
    "version": 3
   },
   "file_extension": ".py",
   "mimetype": "text/x-python",
   "name": "python",
   "nbconvert_exporter": "python",
   "pygments_lexer": "ipython3",
   "version": "3.6.12"
  }
 },
 "nbformat": 4,
 "nbformat_minor": 4
}
