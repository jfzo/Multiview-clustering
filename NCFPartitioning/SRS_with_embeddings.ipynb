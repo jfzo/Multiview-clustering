{
 "cells": [
  {
   "cell_type": "code",
   "execution_count": 3,
   "metadata": {},
   "outputs": [
    {
     "name": "stdout",
     "output_type": "stream",
     "text": [
      "env: METIS_DLL=/home/juan/Descargas/metis-5.0/build/Linux-x86_64/libmetis/libmetis.so\n"
     ]
    }
   ],
   "source": [
    "%env METIS_DLL=/home/juan/Descargas/metis-5.0/build/Linux-x86_64/libmetis/libmetis.so"
   ]
  },
  {
   "cell_type": "code",
   "execution_count": 1,
   "metadata": {},
   "outputs": [
    {
     "data": {
      "text/plain": [
       "'1.5.4'"
      ]
     },
     "execution_count": 1,
     "metadata": {},
     "output_type": "execute_result"
    }
   ],
   "source": [
    "import scipy\n",
    "\n",
    "scipy.version.version"
   ]
  },
  {
   "cell_type": "code",
   "execution_count": 2,
   "metadata": {},
   "outputs": [],
   "source": [
    "from scipy.sparse import lil_matrix, csr_matrix\n",
    "import numpy as np\n",
    "#import metis\n",
    "from clustering_evaluation import computeEvaluationMeasures, MEASURES\n",
    "import glob\n",
    "from tabulate import tabulate\n",
    "from tqdm import tqdm\n",
    "\n",
    "\n",
    "def _loadSparseCSRFromDisk(fullPath):\n",
    "    spD = None\n",
    "    with open(fullPath, 'rb') as f:\n",
    "        data = np.load(f)\n",
    "        indices = np.load(f)\n",
    "        indptr = np.load(f)\n",
    "        spD = csr_matrix((data, indices, indptr))\n",
    "        # convert this nxk matrix into a similarity.\n",
    "    return spD\n",
    "\n",
    "def convert_dense_csv_to_csr_fmt(denseFn, spM):\n",
    "    csrOut = \"{0}_csr.npy\".format(denseFn[: -(len(denseFn.split('.')[-1])+1)]) # replaces the file extension.\n",
    "    print(csrOut)\n",
    "    #M  = np.loadtxt(denseFn, delimiter=',')\n",
    "    #spM = csr_matrix(M)\n",
    "    with open(csrOut, 'wb') as f:\n",
    "        np.save(f, spM.data)\n",
    "        np.save(f, spM.indices)\n",
    "        np.save(f, spM.indptr)\n",
    "    \"\"\"\n",
    "    When loading\n",
    "    >> with open('test.npy', 'rb') as f:\n",
    "    >>     a = np.load(f)\n",
    "    >>     b = np.load(f)\n",
    "    >> csr_matrix((data, indices, indptr))\n",
    "    \"\"\"\n",
    "    \n",
    "\n",
    "\n",
    "def getLabelsFromFile(fullPath):\n",
    "    v = np.loadtxt(fullPath, delimiter=',', dtype=np.int)\n",
    "    return v\n",
    "\n",
    "def detectPostfixesInDir(fullPath, dirName):\n",
    "    fnLst = glob.glob('{0}/{1}/*labels_*.out'.format(fullPath, dirName))\n",
    "    # labels_NCF_DS_\n",
    "    postFixes = [f.split(\"/\")[-1].replace('labels_NCF_DS_','').replace('.out','') for f in fnLst]\n",
    "    return postFixes\n",
    "\n",
    "path = '/home/juan/Insync/juan.zamora@pucv.cl/Google Drive/Research - Multiview and Collaborative Clustering/code/handwritten_tezt/similarity_matrices_after_merging'"
   ]
  },
  {
   "cell_type": "code",
   "execution_count": 3,
   "metadata": {},
   "outputs": [],
   "source": [
    "from scipy.sparse import csc_matrix, lil_matrix\n",
    "from itertools import product\n",
    "#from spectral_embedding import *\n",
    "from sklearn.cluster import MiniBatchKMeans\n",
    "from sklearn.manifold import SpectralEmbedding, spectral_embedding\n",
    "from clustering_evaluation import computeEvaluationMeasures, MEASURES\n",
    "from sklearn.metrics.pairwise import pairwise_kernels\n",
    "\n",
    "import scipy.linalg.blas\n",
    "\n",
    "from scipy.sparse.linalg import norm\n",
    "import scipy.sparse as sp\n",
    "\n",
    "from scipy.sparse.linalg import eigsh\n",
    "from scipy.sparse.csgraph import laplacian as csgraph_laplacian\n",
    "\n",
    "def getSimClus(D):\n",
    "    \"\"\"\n",
    "    Computes a matrix that contains the intersection of items\n",
    "    D is a csc_matrix with n rows denoting data points and k columns denoting clusters.\n",
    "    D_ij denotes the membership score of data point i in cluster j.\n",
    "    \"\"\"\n",
    "    D_asCol = csc_matrix(D) # more efficient for making column slices\n",
    "\n",
    "    # create a kxk matrix with zeros\n",
    "    k = D.shape[1]\n",
    "    simClus = np.zeros((k,k))\n",
    "    # compare each pair of clusters from D\n",
    "    for i in range(k):\n",
    "        sClust_i = set(D_asCol[:,i].nonzero()[0])\n",
    "        for j in range(i+1,k):\n",
    "            sClust_j = set(D_asCol[:,j].nonzero()[0])\n",
    "            simClus[i,j] = len(sClust_i & sClust_j) / len(sClust_i | sClust_j)\n",
    "            simClus[j,i] = simClus[i,j]\n",
    "    return simClus\n",
    "\n",
    "\n",
    "def compute_aSRS(D, DC=1.0):\n",
    "    # aim: compute the approximate SimRankSimilarity matrix (aSRS).\n",
    "    # compute for each pair of data points i,j the total sum of simclus values \n",
    "    n = D.shape[0]\n",
    "    \n",
    "    simClus = getSimClus(D)\n",
    "\n",
    "    aSRS = np.zeros((n,n))\n",
    "    for i in range(n):\n",
    "        nbors_i = D[i].nonzero()[1]\n",
    "        n_nbors_i = len(nbors_i)\n",
    "        for j in range(i+1, n):\n",
    "            nbors_j = D[j].nonzero()[1]\n",
    "            n_nbors_j = len(nbors_j)\n",
    "            aSRS[i,j] = (DC/(n_nbors_i*n_nbors_j))*np.sum([simClus[ca,cb] for ca, cb in list(product(nbors_i, nbors_j))])\n",
    "            aSRS[j,i] = aSRS[i,j]\n",
    "    return aSRS"
   ]
  },
  {
   "cell_type": "code",
   "execution_count": 6,
   "metadata": {},
   "outputs": [],
   "source": [
    "def perform_evaluate_runs_part1(dsDirPath, nruns=10, threshold=0.0, embDim=4, kernelFn='rbf'):\n",
    "    trueLblsFname = \"{0}/{1}/{2}\".format(path, dsDirPath, 'labels.true')\n",
    "    trueL = getLabelsFromFile(trueLblsFname)\n",
    "    postFixesDS = detectPostfixesInDir(path, dsDirPath)\n",
    "\n",
    "    dsresults = []\n",
    "    header = ['seed']\n",
    "    header.extend(MEASURES)\n",
    "    np.random.seed(87009)\n",
    "    n_clusters = np.unique(trueL).shape[0]\n",
    "    runSeed = np.random.randint(0, high=2e8)\n",
    "    for runPostfix in tqdm(postFixesDS[:1]):#tqdm(postFixesDS):\n",
    "        #print(\"{0}/{1}{2}_csr.npy\".format(dsDirPath, 'simmatrix_DS_', runPostfix))        \n",
    "        simFname = \"{0}/{1}/{2}{3}_csr.npy\".format(path, dsDirPath, 'simmatrix_DS_', runPostfix)\n",
    "        D = _loadSparseCSRFromDisk(simFname)\n",
    "\n",
    "        #aSRS = compute_aSRS(D)\n",
    "        #outSRSFn = \"{0}/{1}/{2}{3}.npy\".format(path, dsDirPath, 'aSRS_DS_', runPostfix)\n",
    "        #np.save(outSRSFn, aSRS)\n",
    "        ##aSRS = np.load(outSRSFn)\n",
    "        \n",
    "        #pK = pairwise_kernels(D, metric=kernelFn)\n",
    "        ## sparse version\n",
    "        nrmDiag = sp.diags(1/norm(D, axis=1))\n",
    "        nrmDiag = nrmDiag.dot(D) #heavy\n",
    "        convert_dense_csv_to_csr_fmt(\"{0}{1}_csr.npy\".format('dotmatrix_DS_', runPostfix), nrmDiag.dot(nrmDiag.T))\n",
    "        \n",
    "        \n",
    "        \n",
    "        #A = csr_matrix(scipy.linalg.blas.dgemm(alpha=1.0, a=A, b=A, trans_b=True))        "
   ]
  },
  {
   "cell_type": "code",
   "execution_count": 4,
   "metadata": {},
   "outputs": [],
   "source": [
    "nruns=10\n",
    "embDim=5\n",
    "\n",
    "A = _loadSparseCSRFromDisk('dotmatrix_DS_Nov272020.011936_csr_csr.npy')"
   ]
  },
  {
   "cell_type": "code",
   "execution_count": 10,
   "metadata": {},
   "outputs": [
    {
     "data": {
      "text/plain": [
       "99.07220133333334"
      ]
     },
     "execution_count": 10,
     "metadata": {},
     "output_type": "execute_result"
    }
   ],
   "source": [
    "100*A.nnz/np.product(A.shape)"
   ]
  },
  {
   "cell_type": "code",
   "execution_count": 9,
   "metadata": {},
   "outputs": [
    {
     "data": {
      "text/plain": [
       "matrix([[0.98162333, 0.98419298, 0.98665904, 0.95655749, 1.        ,\n",
       "         0.96196538, 0.96080638, 0.96181095, 1.        , 0.95655749,\n",
       "         0.99906182, 0.96181095, 0.98665904, 0.99903456, 1.        ,\n",
       "         0.99738909, 1.        , 0.99906182, 0.96196538, 0.98419298,\n",
       "         0.99738909, 0.98162333, 0.96080638, 0.99903456, 1.        ]])"
      ]
     },
     "execution_count": 9,
     "metadata": {},
     "output_type": "execute_result"
    }
   ],
   "source": [
    "A[0:5,0:5][A[0:5,0:5].nonzero()]"
   ]
  },
  {
   "cell_type": "code",
   "execution_count": 5,
   "metadata": {},
   "outputs": [
    {
     "data": {
      "text/plain": [
       "(891649812,)"
      ]
     },
     "execution_count": 5,
     "metadata": {},
     "output_type": "execute_result"
    }
   ],
   "source": [
    "A.data.shape"
   ]
  },
  {
   "cell_type": "code",
   "execution_count": 6,
   "metadata": {},
   "outputs": [
    {
     "data": {
      "text/plain": [
       "(891649812,)"
      ]
     },
     "execution_count": 6,
     "metadata": {},
     "output_type": "execute_result"
    }
   ],
   "source": [
    "A.indices.shape"
   ]
  },
  {
   "cell_type": "code",
   "execution_count": 7,
   "metadata": {},
   "outputs": [
    {
     "data": {
      "text/plain": [
       "(30001,)"
      ]
     },
     "execution_count": 7,
     "metadata": {},
     "output_type": "execute_result"
    }
   ],
   "source": [
    "A.indptr.shape"
   ]
  },
  {
   "cell_type": "code",
   "execution_count": 5,
   "metadata": {},
   "outputs": [
    {
     "ename": "MemoryError",
     "evalue": "Unable to allocate 3.32 GiB for an array with shape (891649812,) and data type int32",
     "output_type": "error",
     "traceback": [
      "\u001b[0;31m---------------------------------------------------------------------------\u001b[0m",
      "\u001b[0;31mMemoryError\u001b[0m                               Traceback (most recent call last)",
      "\u001b[0;32m<ipython-input-5-d086bdf37b77>\u001b[0m in \u001b[0;36m<module>\u001b[0;34m\u001b[0m\n\u001b[0;32m----> 1\u001b[0;31m \u001b[0mfiltered_dotM\u001b[0m \u001b[0;34m=\u001b[0m \u001b[0msp\u001b[0m\u001b[0;34m.\u001b[0m\u001b[0mcsr_matrix\u001b[0m\u001b[0;34m(\u001b[0m\u001b[0mA\u001b[0m\u001b[0;34m[\u001b[0m\u001b[0mA\u001b[0m\u001b[0;34m.\u001b[0m\u001b[0mnonzero\u001b[0m\u001b[0;34m(\u001b[0m\u001b[0;34m)\u001b[0m\u001b[0;34m]\u001b[0m \u001b[0;34m>\u001b[0m \u001b[0;36m0.9979201675637465\u001b[0m\u001b[0;34m)\u001b[0m\u001b[0;34m\u001b[0m\u001b[0;34m\u001b[0m\u001b[0m\n\u001b[0m",
      "\u001b[0;32m~/PycharmProjects/Multiview-clustering/NCFPartitioning/venv/lib/python3.7/site-packages/scipy/sparse/base.py\u001b[0m in \u001b[0;36mnonzero\u001b[0;34m(self)\u001b[0m\n\u001b[1;32m    774\u001b[0m \u001b[0;34m\u001b[0m\u001b[0m\n\u001b[1;32m    775\u001b[0m         \u001b[0;31m# convert to COOrdinate format\u001b[0m\u001b[0;34m\u001b[0m\u001b[0;34m\u001b[0m\u001b[0;34m\u001b[0m\u001b[0m\n\u001b[0;32m--> 776\u001b[0;31m         \u001b[0mA\u001b[0m \u001b[0;34m=\u001b[0m \u001b[0mself\u001b[0m\u001b[0;34m.\u001b[0m\u001b[0mtocoo\u001b[0m\u001b[0;34m(\u001b[0m\u001b[0;34m)\u001b[0m\u001b[0;34m\u001b[0m\u001b[0;34m\u001b[0m\u001b[0m\n\u001b[0m\u001b[1;32m    777\u001b[0m         \u001b[0mnz_mask\u001b[0m \u001b[0;34m=\u001b[0m \u001b[0mA\u001b[0m\u001b[0;34m.\u001b[0m\u001b[0mdata\u001b[0m \u001b[0;34m!=\u001b[0m \u001b[0;36m0\u001b[0m\u001b[0;34m\u001b[0m\u001b[0;34m\u001b[0m\u001b[0m\n\u001b[1;32m    778\u001b[0m         \u001b[0;32mreturn\u001b[0m \u001b[0;34m(\u001b[0m\u001b[0mA\u001b[0m\u001b[0;34m.\u001b[0m\u001b[0mrow\u001b[0m\u001b[0;34m[\u001b[0m\u001b[0mnz_mask\u001b[0m\u001b[0;34m]\u001b[0m\u001b[0;34m,\u001b[0m \u001b[0mA\u001b[0m\u001b[0;34m.\u001b[0m\u001b[0mcol\u001b[0m\u001b[0;34m[\u001b[0m\u001b[0mnz_mask\u001b[0m\u001b[0;34m]\u001b[0m\u001b[0;34m)\u001b[0m\u001b[0;34m\u001b[0m\u001b[0;34m\u001b[0m\u001b[0m\n",
      "\u001b[0;32m~/PycharmProjects/Multiview-clustering/NCFPartitioning/venv/lib/python3.7/site-packages/scipy/sparse/compressed.py\u001b[0m in \u001b[0;36mtocoo\u001b[0;34m(self, copy)\u001b[0m\n\u001b[1;32m   1020\u001b[0m         \u001b[0;32mfrom\u001b[0m \u001b[0;34m.\u001b[0m\u001b[0mcoo\u001b[0m \u001b[0;32mimport\u001b[0m \u001b[0mcoo_matrix\u001b[0m\u001b[0;34m\u001b[0m\u001b[0;34m\u001b[0m\u001b[0m\n\u001b[1;32m   1021\u001b[0m         return coo_matrix((self.data, (row, col)), self.shape, copy=copy,\n\u001b[0;32m-> 1022\u001b[0;31m                           dtype=self.dtype)\n\u001b[0m\u001b[1;32m   1023\u001b[0m \u001b[0;34m\u001b[0m\u001b[0m\n\u001b[1;32m   1024\u001b[0m     \u001b[0mtocoo\u001b[0m\u001b[0;34m.\u001b[0m\u001b[0m__doc__\u001b[0m \u001b[0;34m=\u001b[0m \u001b[0mspmatrix\u001b[0m\u001b[0;34m.\u001b[0m\u001b[0mtocoo\u001b[0m\u001b[0;34m.\u001b[0m\u001b[0m__doc__\u001b[0m\u001b[0;34m\u001b[0m\u001b[0;34m\u001b[0m\u001b[0m\n",
      "\u001b[0;32m~/PycharmProjects/Multiview-clustering/NCFPartitioning/venv/lib/python3.7/site-packages/scipy/sparse/coo.py\u001b[0m in \u001b[0;36m__init__\u001b[0;34m(self, arg1, shape, dtype, copy)\u001b[0m\n\u001b[1;32m    156\u001b[0m                 \u001b[0midx_dtype\u001b[0m \u001b[0;34m=\u001b[0m \u001b[0mget_index_dtype\u001b[0m\u001b[0;34m(\u001b[0m\u001b[0mmaxval\u001b[0m\u001b[0;34m=\u001b[0m\u001b[0mmax\u001b[0m\u001b[0;34m(\u001b[0m\u001b[0mself\u001b[0m\u001b[0;34m.\u001b[0m\u001b[0mshape\u001b[0m\u001b[0;34m)\u001b[0m\u001b[0;34m)\u001b[0m\u001b[0;34m\u001b[0m\u001b[0;34m\u001b[0m\u001b[0m\n\u001b[1;32m    157\u001b[0m                 \u001b[0mself\u001b[0m\u001b[0;34m.\u001b[0m\u001b[0mrow\u001b[0m \u001b[0;34m=\u001b[0m \u001b[0mnp\u001b[0m\u001b[0;34m.\u001b[0m\u001b[0marray\u001b[0m\u001b[0;34m(\u001b[0m\u001b[0mrow\u001b[0m\u001b[0;34m,\u001b[0m \u001b[0mcopy\u001b[0m\u001b[0;34m=\u001b[0m\u001b[0mcopy\u001b[0m\u001b[0;34m,\u001b[0m \u001b[0mdtype\u001b[0m\u001b[0;34m=\u001b[0m\u001b[0midx_dtype\u001b[0m\u001b[0;34m)\u001b[0m\u001b[0;34m\u001b[0m\u001b[0;34m\u001b[0m\u001b[0m\n\u001b[0;32m--> 158\u001b[0;31m                 \u001b[0mself\u001b[0m\u001b[0;34m.\u001b[0m\u001b[0mcol\u001b[0m \u001b[0;34m=\u001b[0m \u001b[0mnp\u001b[0m\u001b[0;34m.\u001b[0m\u001b[0marray\u001b[0m\u001b[0;34m(\u001b[0m\u001b[0mcol\u001b[0m\u001b[0;34m,\u001b[0m \u001b[0mcopy\u001b[0m\u001b[0;34m=\u001b[0m\u001b[0mcopy\u001b[0m\u001b[0;34m,\u001b[0m \u001b[0mdtype\u001b[0m\u001b[0;34m=\u001b[0m\u001b[0midx_dtype\u001b[0m\u001b[0;34m)\u001b[0m\u001b[0;34m\u001b[0m\u001b[0;34m\u001b[0m\u001b[0m\n\u001b[0m\u001b[1;32m    159\u001b[0m                 \u001b[0mself\u001b[0m\u001b[0;34m.\u001b[0m\u001b[0mdata\u001b[0m \u001b[0;34m=\u001b[0m \u001b[0mnp\u001b[0m\u001b[0;34m.\u001b[0m\u001b[0marray\u001b[0m\u001b[0;34m(\u001b[0m\u001b[0mobj\u001b[0m\u001b[0;34m,\u001b[0m \u001b[0mcopy\u001b[0m\u001b[0;34m=\u001b[0m\u001b[0mcopy\u001b[0m\u001b[0;34m)\u001b[0m\u001b[0;34m\u001b[0m\u001b[0;34m\u001b[0m\u001b[0m\n\u001b[1;32m    160\u001b[0m                 \u001b[0mself\u001b[0m\u001b[0;34m.\u001b[0m\u001b[0mhas_canonical_format\u001b[0m \u001b[0;34m=\u001b[0m \u001b[0;32mFalse\u001b[0m\u001b[0;34m\u001b[0m\u001b[0;34m\u001b[0m\u001b[0m\n",
      "\u001b[0;31mMemoryError\u001b[0m: Unable to allocate 3.32 GiB for an array with shape (891649812,) and data type int32"
     ]
    }
   ],
   "source": [
    "filtered_dotM = sp.csr_matrix(A[A.nonzero()] > 0.9979201675637465)"
   ]
  },
  {
   "cell_type": "code",
   "execution_count": 21,
   "metadata": {},
   "outputs": [
    {
     "data": {
      "text/plain": [
       "0.9222004352476311"
      ]
     },
     "execution_count": 21,
     "metadata": {},
     "output_type": "execute_result"
    }
   ],
   "source": [
    "np.percentile(A.data, 25)"
   ]
  },
  {
   "cell_type": "code",
   "execution_count": 10,
   "metadata": {},
   "outputs": [
    {
     "data": {
      "text/plain": [
       "0.9979201675637465"
      ]
     },
     "execution_count": 10,
     "metadata": {},
     "output_type": "execute_result"
    }
   ],
   "source": [
    "np.percentile(A.data, 80)"
   ]
  },
  {
   "cell_type": "code",
   "execution_count": 13,
   "metadata": {},
   "outputs": [],
   "source": [
    "from megaman.embedding import spectral_embedding, SpectralEmbedding\n",
    "from megaman.geometry import Geometry\n",
    "\n",
    "radius = 5\n",
    "adjacency_method = 'cyflann'\n",
    "adjacency_kwds = {'radius':radius} # ignore distances above this radius\n",
    "affinity_method = 'gaussian'\n",
    "affinity_kwds = {'radius':radius} # A = exp(-||x - y||/radius^2)\n",
    "laplacian_method = 'geometric'\n",
    "laplacian_kwds = {'scaling_epps':radius} # scaling ensures convergence to Laplace-Beltrami operator\n",
    "\n",
    "geom  = Geometry(adjacency_method=adjacency_method, adjacency_kwds=adjacency_kwds,\n",
    "                 affinity_method=affinity_method, affinity_kwds=affinity_kwds,\n",
    "                 laplacian_method=laplacian_method, laplacian_kwds=laplacian_kwds)"
   ]
  },
  {
   "cell_type": "code",
   "execution_count": null,
   "metadata": {},
   "outputs": [],
   "source": [
    "spectral_embedding(acc)"
   ]
  },
  {
   "cell_type": "code",
   "execution_count": 14,
   "metadata": {},
   "outputs": [
    {
     "ename": "MemoryError",
     "evalue": "Unable to allocate 6.71 GiB for an array with shape (900000000,) and data type float64",
     "output_type": "error",
     "traceback": [
      "\u001b[0;31m---------------------------------------------------------------------------\u001b[0m",
      "\u001b[0;31mMemoryError\u001b[0m                               Traceback (most recent call last)",
      "\u001b[0;32m<ipython-input-14-7237d95012ad>\u001b[0m in \u001b[0;36m<module>\u001b[0;34m\u001b[0m\n\u001b[1;32m      1\u001b[0m \u001b[0mspectral\u001b[0m \u001b[0;34m=\u001b[0m \u001b[0mSpectralEmbedding\u001b[0m\u001b[0;34m(\u001b[0m\u001b[0mn_components\u001b[0m\u001b[0;34m=\u001b[0m\u001b[0;36m5\u001b[0m\u001b[0;34m,\u001b[0m \u001b[0meigen_solver\u001b[0m\u001b[0;34m=\u001b[0m\u001b[0;34m'arpack'\u001b[0m\u001b[0;34m,\u001b[0m \u001b[0mgeom\u001b[0m\u001b[0;34m=\u001b[0m\u001b[0mgeom\u001b[0m\u001b[0;34m)\u001b[0m\u001b[0;34m\u001b[0m\u001b[0;34m\u001b[0m\u001b[0m\n\u001b[0;32m----> 2\u001b[0;31m \u001b[0membed_spectral\u001b[0m \u001b[0;34m=\u001b[0m \u001b[0mspectral\u001b[0m\u001b[0;34m.\u001b[0m\u001b[0mfit_transform\u001b[0m\u001b[0;34m(\u001b[0m\u001b[0mA\u001b[0m\u001b[0;34m.\u001b[0m\u001b[0mtoarray\u001b[0m\u001b[0;34m(\u001b[0m\u001b[0;34m)\u001b[0m\u001b[0;34m)\u001b[0m\u001b[0;34m\u001b[0m\u001b[0;34m\u001b[0m\u001b[0m\n\u001b[0m",
      "\u001b[0;32m~/PycharmProjects/Multiview-clustering/NCFPartitioning/venv/lib/python3.7/site-packages/megaman/embedding/base.py\u001b[0m in \u001b[0;36mfit_transform\u001b[0;34m(self, X, y, input_type)\u001b[0m\n\u001b[1;32m    136\u001b[0m         \u001b[0mX_new\u001b[0m\u001b[0;34m:\u001b[0m \u001b[0marray\u001b[0m\u001b[0;34m-\u001b[0m\u001b[0mlike\u001b[0m\u001b[0;34m,\u001b[0m \u001b[0mshape\u001b[0m \u001b[0;34m(\u001b[0m\u001b[0mn_samples\u001b[0m\u001b[0;34m,\u001b[0m \u001b[0mn_components\u001b[0m\u001b[0;34m)\u001b[0m\u001b[0;34m\u001b[0m\u001b[0;34m\u001b[0m\u001b[0m\n\u001b[1;32m    137\u001b[0m         \"\"\"\n\u001b[0;32m--> 138\u001b[0;31m         \u001b[0mself\u001b[0m\u001b[0;34m.\u001b[0m\u001b[0mfit\u001b[0m\u001b[0;34m(\u001b[0m\u001b[0mX\u001b[0m\u001b[0;34m,\u001b[0m \u001b[0my\u001b[0m\u001b[0;34m=\u001b[0m\u001b[0my\u001b[0m\u001b[0;34m,\u001b[0m \u001b[0minput_type\u001b[0m\u001b[0;34m=\u001b[0m\u001b[0minput_type\u001b[0m\u001b[0;34m)\u001b[0m\u001b[0;34m\u001b[0m\u001b[0;34m\u001b[0m\u001b[0m\n\u001b[0m\u001b[1;32m    139\u001b[0m         \u001b[0;32mreturn\u001b[0m \u001b[0mself\u001b[0m\u001b[0;34m.\u001b[0m\u001b[0membedding_\u001b[0m\u001b[0;34m\u001b[0m\u001b[0;34m\u001b[0m\u001b[0m\n\u001b[1;32m    140\u001b[0m \u001b[0;34m\u001b[0m\u001b[0m\n",
      "\u001b[0;32m~/PycharmProjects/Multiview-clustering/NCFPartitioning/venv/lib/python3.7/site-packages/megaman/embedding/spectral_embedding.py\u001b[0m in \u001b[0;36mfit\u001b[0;34m(self, X, y, input_type)\u001b[0m\n\u001b[1;32m    387\u001b[0m                                              \u001b[0mdiffusion_maps\u001b[0m \u001b[0;34m=\u001b[0m \u001b[0mself\u001b[0m\u001b[0;34m.\u001b[0m\u001b[0mdiffusion_maps\u001b[0m\u001b[0;34m,\u001b[0m\u001b[0;34m\u001b[0m\u001b[0;34m\u001b[0m\u001b[0m\n\u001b[1;32m    388\u001b[0m                                              \u001b[0mdiffusion_time\u001b[0m \u001b[0;34m=\u001b[0m \u001b[0mself\u001b[0m\u001b[0;34m.\u001b[0m\u001b[0mdiffusion_time\u001b[0m\u001b[0;34m,\u001b[0m\u001b[0;34m\u001b[0m\u001b[0;34m\u001b[0m\u001b[0m\n\u001b[0;32m--> 389\u001b[0;31m                                              solver_kwds = self.solver_kwds)\n\u001b[0m\u001b[1;32m    390\u001b[0m         \u001b[0mself\u001b[0m\u001b[0;34m.\u001b[0m\u001b[0maffinity_matrix_\u001b[0m \u001b[0;34m=\u001b[0m \u001b[0mself\u001b[0m\u001b[0;34m.\u001b[0m\u001b[0mgeom_\u001b[0m\u001b[0;34m.\u001b[0m\u001b[0maffinity_matrix\u001b[0m\u001b[0;34m\u001b[0m\u001b[0;34m\u001b[0m\u001b[0m\n\u001b[1;32m    391\u001b[0m         \u001b[0mself\u001b[0m\u001b[0;34m.\u001b[0m\u001b[0mlaplacian_matrix_\u001b[0m \u001b[0;34m=\u001b[0m \u001b[0mself\u001b[0m\u001b[0;34m.\u001b[0m\u001b[0mgeom_\u001b[0m\u001b[0;34m.\u001b[0m\u001b[0mlaplacian_matrix\u001b[0m\u001b[0;34m\u001b[0m\u001b[0;34m\u001b[0m\u001b[0m\n",
      "\u001b[0;32m~/PycharmProjects/Multiview-clustering/NCFPartitioning/venv/lib/python3.7/site-packages/megaman/embedding/spectral_embedding.py\u001b[0m in \u001b[0;36mspectral_embedding\u001b[0;34m(geom, n_components, eigen_solver, random_state, drop_first, diffusion_maps, diffusion_time, solver_kwds)\u001b[0m\n\u001b[1;32m    176\u001b[0m \u001b[0;34m\u001b[0m\u001b[0m\n\u001b[1;32m    177\u001b[0m     \u001b[0;32mif\u001b[0m \u001b[0mgeom\u001b[0m\u001b[0;34m.\u001b[0m\u001b[0maffinity_matrix\u001b[0m \u001b[0;32mis\u001b[0m \u001b[0;32mNone\u001b[0m\u001b[0;34m:\u001b[0m\u001b[0;34m\u001b[0m\u001b[0;34m\u001b[0m\u001b[0m\n\u001b[0;32m--> 178\u001b[0;31m         \u001b[0mgeom\u001b[0m\u001b[0;34m.\u001b[0m\u001b[0mcompute_affinity_matrix\u001b[0m\u001b[0;34m(\u001b[0m\u001b[0;34m)\u001b[0m\u001b[0;34m\u001b[0m\u001b[0;34m\u001b[0m\u001b[0m\n\u001b[0m\u001b[1;32m    179\u001b[0m     \u001b[0;32mif\u001b[0m \u001b[0;32mnot\u001b[0m \u001b[0m_graph_is_connected\u001b[0m\u001b[0;34m(\u001b[0m\u001b[0mgeom\u001b[0m\u001b[0;34m.\u001b[0m\u001b[0maffinity_matrix\u001b[0m\u001b[0;34m)\u001b[0m\u001b[0;34m:\u001b[0m\u001b[0;34m\u001b[0m\u001b[0;34m\u001b[0m\u001b[0m\n\u001b[1;32m    180\u001b[0m         warnings.warn(\"Graph is not fully connected: \"\n",
      "\u001b[0;32m~/PycharmProjects/Multiview-clustering/NCFPartitioning/venv/lib/python3.7/site-packages/megaman/geometry/geometry.py\u001b[0m in \u001b[0;36mcompute_affinity_matrix\u001b[0;34m(self, copy, **kwargs)\u001b[0m\n\u001b[1;32m    202\u001b[0m         \"\"\"\n\u001b[1;32m    203\u001b[0m         \u001b[0;32mif\u001b[0m \u001b[0mself\u001b[0m\u001b[0;34m.\u001b[0m\u001b[0madjacency_matrix\u001b[0m \u001b[0;32mis\u001b[0m \u001b[0;32mNone\u001b[0m\u001b[0;34m:\u001b[0m\u001b[0;34m\u001b[0m\u001b[0;34m\u001b[0m\u001b[0m\n\u001b[0;32m--> 204\u001b[0;31m             \u001b[0mself\u001b[0m\u001b[0;34m.\u001b[0m\u001b[0mcompute_adjacency_matrix\u001b[0m\u001b[0;34m(\u001b[0m\u001b[0;34m)\u001b[0m\u001b[0;34m\u001b[0m\u001b[0;34m\u001b[0m\u001b[0m\n\u001b[0m\u001b[1;32m    205\u001b[0m \u001b[0;34m\u001b[0m\u001b[0m\n\u001b[1;32m    206\u001b[0m         \u001b[0mkwds\u001b[0m \u001b[0;34m=\u001b[0m \u001b[0mself\u001b[0m\u001b[0;34m.\u001b[0m\u001b[0maffinity_kwds\u001b[0m\u001b[0;34m.\u001b[0m\u001b[0mcopy\u001b[0m\u001b[0;34m(\u001b[0m\u001b[0;34m)\u001b[0m\u001b[0;34m\u001b[0m\u001b[0;34m\u001b[0m\u001b[0m\n",
      "\u001b[0;32m~/PycharmProjects/Multiview-clustering/NCFPartitioning/venv/lib/python3.7/site-packages/megaman/geometry/geometry.py\u001b[0m in \u001b[0;36mcompute_adjacency_matrix\u001b[0;34m(self, copy, **kwargs)\u001b[0m\n\u001b[1;32m    176\u001b[0m         self.adjacency_matrix = compute_adjacency_matrix(self.X,\n\u001b[1;32m    177\u001b[0m                                                          \u001b[0mself\u001b[0m\u001b[0;34m.\u001b[0m\u001b[0madjacency_method\u001b[0m\u001b[0;34m,\u001b[0m\u001b[0;34m\u001b[0m\u001b[0;34m\u001b[0m\u001b[0m\n\u001b[0;32m--> 178\u001b[0;31m                                                          **kwds)\n\u001b[0m\u001b[1;32m    179\u001b[0m         \u001b[0;32mif\u001b[0m \u001b[0mcopy\u001b[0m\u001b[0;34m:\u001b[0m\u001b[0;34m\u001b[0m\u001b[0;34m\u001b[0m\u001b[0m\n\u001b[1;32m    180\u001b[0m             \u001b[0;32mreturn\u001b[0m \u001b[0mself\u001b[0m\u001b[0;34m.\u001b[0m\u001b[0madjacency_matrix\u001b[0m\u001b[0;34m.\u001b[0m\u001b[0mcopy\u001b[0m\u001b[0;34m(\u001b[0m\u001b[0;34m)\u001b[0m\u001b[0;34m\u001b[0m\u001b[0;34m\u001b[0m\u001b[0m\n",
      "\u001b[0;32m~/PycharmProjects/Multiview-clustering/NCFPartitioning/venv/lib/python3.7/site-packages/megaman/geometry/adjacency.py\u001b[0m in \u001b[0;36mcompute_adjacency_matrix\u001b[0;34m(X, method, **kwargs)\u001b[0m\n\u001b[1;32m     22\u001b[0m         \u001b[0;32melse\u001b[0m\u001b[0;34m:\u001b[0m\u001b[0;34m\u001b[0m\u001b[0;34m\u001b[0m\u001b[0m\n\u001b[1;32m     23\u001b[0m             \u001b[0mmethod\u001b[0m \u001b[0;34m=\u001b[0m \u001b[0;34m'kd_tree'\u001b[0m\u001b[0;34m\u001b[0m\u001b[0;34m\u001b[0m\u001b[0m\n\u001b[0;32m---> 24\u001b[0;31m     \u001b[0;32mreturn\u001b[0m \u001b[0mAdjacency\u001b[0m\u001b[0;34m.\u001b[0m\u001b[0minit\u001b[0m\u001b[0;34m(\u001b[0m\u001b[0mmethod\u001b[0m\u001b[0;34m,\u001b[0m \u001b[0;34m**\u001b[0m\u001b[0mkwargs\u001b[0m\u001b[0;34m)\u001b[0m\u001b[0;34m.\u001b[0m\u001b[0madjacency_graph\u001b[0m\u001b[0;34m(\u001b[0m\u001b[0mX\u001b[0m\u001b[0;34m)\u001b[0m\u001b[0;34m\u001b[0m\u001b[0;34m\u001b[0m\u001b[0m\n\u001b[0m\u001b[1;32m     25\u001b[0m \u001b[0;34m\u001b[0m\u001b[0m\n\u001b[1;32m     26\u001b[0m \u001b[0;34m\u001b[0m\u001b[0m\n",
      "\u001b[0;32m~/PycharmProjects/Multiview-clustering/NCFPartitioning/venv/lib/python3.7/site-packages/megaman/geometry/adjacency.py\u001b[0m in \u001b[0;36madjacency_graph\u001b[0;34m(self, X)\u001b[0m\n\u001b[1;32m     45\u001b[0m             \u001b[0;32mreturn\u001b[0m \u001b[0mself\u001b[0m\u001b[0;34m.\u001b[0m\u001b[0mknn_adjacency\u001b[0m\u001b[0;34m(\u001b[0m\u001b[0mX\u001b[0m\u001b[0;34m)\u001b[0m\u001b[0;34m\u001b[0m\u001b[0;34m\u001b[0m\u001b[0m\n\u001b[1;32m     46\u001b[0m         \u001b[0;32melif\u001b[0m \u001b[0mself\u001b[0m\u001b[0;34m.\u001b[0m\u001b[0mradius\u001b[0m \u001b[0;32mis\u001b[0m \u001b[0;32mnot\u001b[0m \u001b[0;32mNone\u001b[0m\u001b[0;34m:\u001b[0m\u001b[0;34m\u001b[0m\u001b[0;34m\u001b[0m\u001b[0m\n\u001b[0;32m---> 47\u001b[0;31m             \u001b[0;32mreturn\u001b[0m \u001b[0mself\u001b[0m\u001b[0;34m.\u001b[0m\u001b[0mradius_adjacency\u001b[0m\u001b[0;34m(\u001b[0m\u001b[0mX\u001b[0m\u001b[0;34m)\u001b[0m\u001b[0;34m\u001b[0m\u001b[0;34m\u001b[0m\u001b[0m\n\u001b[0m\u001b[1;32m     48\u001b[0m \u001b[0;34m\u001b[0m\u001b[0m\n\u001b[1;32m     49\u001b[0m     \u001b[0;32mdef\u001b[0m \u001b[0mknn_adjacency\u001b[0m\u001b[0;34m(\u001b[0m\u001b[0mself\u001b[0m\u001b[0;34m,\u001b[0m \u001b[0mX\u001b[0m\u001b[0;34m)\u001b[0m\u001b[0;34m:\u001b[0m\u001b[0;34m\u001b[0m\u001b[0;34m\u001b[0m\u001b[0m\n",
      "\u001b[0;32m~/PycharmProjects/Multiview-clustering/NCFPartitioning/venv/lib/python3.7/site-packages/megaman/geometry/adjacency.py\u001b[0m in \u001b[0;36mradius_adjacency\u001b[0;34m(self, X)\u001b[0m\n\u001b[1;32m    100\u001b[0m \u001b[0;34m\u001b[0m\u001b[0m\n\u001b[1;32m    101\u001b[0m     \u001b[0;32mdef\u001b[0m \u001b[0mradius_adjacency\u001b[0m\u001b[0;34m(\u001b[0m\u001b[0mself\u001b[0m\u001b[0;34m,\u001b[0m \u001b[0mX\u001b[0m\u001b[0;34m)\u001b[0m\u001b[0;34m:\u001b[0m\u001b[0;34m\u001b[0m\u001b[0;34m\u001b[0m\u001b[0m\n\u001b[0;32m--> 102\u001b[0;31m         \u001b[0mcyindex\u001b[0m \u001b[0;34m=\u001b[0m \u001b[0mself\u001b[0m\u001b[0;34m.\u001b[0m\u001b[0m_get_built_index\u001b[0m\u001b[0;34m(\u001b[0m\u001b[0mX\u001b[0m\u001b[0;34m)\u001b[0m\u001b[0;34m\u001b[0m\u001b[0;34m\u001b[0m\u001b[0m\n\u001b[0m\u001b[1;32m    103\u001b[0m         \u001b[0;32mreturn\u001b[0m \u001b[0mcyindex\u001b[0m\u001b[0;34m.\u001b[0m\u001b[0mradius_neighbors_graph\u001b[0m\u001b[0;34m(\u001b[0m\u001b[0mX\u001b[0m\u001b[0;34m,\u001b[0m \u001b[0mself\u001b[0m\u001b[0;34m.\u001b[0m\u001b[0mradius\u001b[0m\u001b[0;34m)\u001b[0m\u001b[0;34m\u001b[0m\u001b[0;34m\u001b[0m\u001b[0m\n\u001b[1;32m    104\u001b[0m \u001b[0;34m\u001b[0m\u001b[0m\n",
      "\u001b[0;32m~/PycharmProjects/Multiview-clustering/NCFPartitioning/venv/lib/python3.7/site-packages/megaman/geometry/adjacency.py\u001b[0m in \u001b[0;36m_get_built_index\u001b[0;34m(self, X)\u001b[0m\n\u001b[1;32m     93\u001b[0m         \u001b[0;32mif\u001b[0m \u001b[0mself\u001b[0m\u001b[0;34m.\u001b[0m\u001b[0mflann_index\u001b[0m \u001b[0;32mis\u001b[0m \u001b[0;32mNone\u001b[0m\u001b[0;34m:\u001b[0m\u001b[0;34m\u001b[0m\u001b[0;34m\u001b[0m\u001b[0m\n\u001b[1;32m     94\u001b[0m             cyindex = CyIndex(X, target_precision=self.target_precision,\n\u001b[0;32m---> 95\u001b[0;31m                               **(self.cyflann_kwds or {}))\n\u001b[0m\u001b[1;32m     96\u001b[0m         \u001b[0;32melse\u001b[0m\u001b[0;34m:\u001b[0m\u001b[0;34m\u001b[0m\u001b[0;34m\u001b[0m\u001b[0m\n\u001b[1;32m     97\u001b[0m             \u001b[0mcyindex\u001b[0m \u001b[0;34m=\u001b[0m \u001b[0mself\u001b[0m\u001b[0;34m.\u001b[0m\u001b[0mflann_index\u001b[0m\u001b[0;34m\u001b[0m\u001b[0;34m\u001b[0m\u001b[0m\n",
      "\u001b[0;32mmegaman/geometry/cyflann/index.pyx\u001b[0m in \u001b[0;36mmegaman.geometry.cyflann.index.Index.__cinit__ (megaman/geometry/cyflann/index.cxx:1851)\u001b[0;34m()\u001b[0m\n",
      "\u001b[0;31mMemoryError\u001b[0m: Unable to allocate 6.71 GiB for an array with shape (900000000,) and data type float64"
     ]
    }
   ],
   "source": [
    "spectral = SpectralEmbedding(n_components=5, eigen_solver='arpack', geom=geom)\n",
    "embed_spectral = spectral.fit_transform(A.toarray())"
   ]
  },
  {
   "cell_type": "code",
   "execution_count": 8,
   "metadata": {},
   "outputs": [
    {
     "data": {
      "text/plain": [
       "array([[ 1.74881757e-02,  1.02139893e-01,  3.08825753e-02,\n",
       "        -6.13210481e-02,  2.10219705e-02],\n",
       "       [ 6.62015550e-02,  6.56135949e-02, -1.19013128e-01,\n",
       "        -5.17758891e-02, -4.12430387e-02],\n",
       "       [ 8.27119730e-02,  3.21363162e-02,  2.17106462e-03,\n",
       "         6.11071568e-02, -1.47006955e-02],\n",
       "       [ 2.06302536e-01, -6.72965193e-02,  7.14296284e-02,\n",
       "        -3.13936801e-02, -1.66171624e-01],\n",
       "       [ 1.93343563e-01, -1.11439747e-01,  1.77459713e-01,\n",
       "        -4.13820386e-02, -2.04701740e-01],\n",
       "       [ 9.49120419e-02, -7.36004531e-02,  1.07008162e-01,\n",
       "         6.47614900e-02,  1.89461394e-01],\n",
       "       [-2.41788801e-02,  2.81799665e-02,  1.16680343e-01,\n",
       "        -2.99564210e-02,  2.25491036e-01],\n",
       "       [ 1.08044796e-01,  4.63797587e-02, -2.24759206e-01,\n",
       "        -2.49226715e-02, -3.07709983e-02],\n",
       "       [ 1.24136632e-01,  7.66620227e-02, -2.29966056e-01,\n",
       "         1.76221910e-03, -2.62220952e-05],\n",
       "       [ 3.25773883e-02, -4.94612574e-02, -1.46039171e-01,\n",
       "         1.62335478e-02,  5.38248675e-02],\n",
       "       [ 1.27282690e-01,  1.34939482e-01, -2.91225335e-01,\n",
       "         1.43617001e-02, -1.02985632e-02],\n",
       "       [ 6.38378665e-02, -4.91929223e-02, -1.10444005e-02,\n",
       "         3.57118316e-02,  9.82732231e-02],\n",
       "       [ 1.87175599e-02,  3.96759905e-02, -1.03209643e-01,\n",
       "         3.02037671e-02,  1.43098875e-02],\n",
       "       [-5.00634597e-02,  1.35892339e-01,  9.41769700e-02,\n",
       "        -9.64681662e-02,  1.15259880e-01],\n",
       "       [-6.87423332e-02,  1.28164040e-01,  6.81361721e-02,\n",
       "         4.16992861e-02,  6.62394803e-02],\n",
       "       [ 1.04036327e-02, -4.97691679e-02,  5.77833443e-02,\n",
       "        -1.58950614e-01, -6.30334265e-02],\n",
       "       [ 5.63844799e-02, -8.55347539e-02,  3.21946692e-02,\n",
       "        -8.75019579e-03,  2.51670289e-02],\n",
       "       [ 6.67637652e-02,  7.89208229e-02, -1.69522482e-01,\n",
       "        -1.86017128e-02, -9.63269522e-03],\n",
       "       [-1.35757318e-01, -2.16421671e-01, -9.27730269e-02,\n",
       "         6.00239791e-02, -1.43085701e-02],\n",
       "       [ 1.96114489e-02, -7.92674553e-02,  9.76215897e-02,\n",
       "         1.16699260e-01,  2.39343465e-01],\n",
       "       [-8.51288697e-03,  3.40706517e-02, -1.54445692e-01,\n",
       "         2.03580894e-02, -1.45717026e-01],\n",
       "       [ 6.33351627e-02,  4.17627271e-02,  3.07864882e-02,\n",
       "        -1.10304946e-01,  1.11149934e-02],\n",
       "       [-6.10846607e-03,  6.67138922e-02,  8.74309230e-02,\n",
       "        -3.16872947e-02,  1.40898513e-01],\n",
       "       [ 3.97267971e-04, -1.28102371e-02,  1.09471107e-01,\n",
       "        -1.43136153e-01,  1.03604105e-01],\n",
       "       [ 3.31773927e-02, -4.04634322e-03,  1.17761464e-02,\n",
       "        -1.99131814e-02,  8.54715490e-02],\n",
       "       [-9.06489750e-02,  4.06054106e-02,  9.13846403e-02,\n",
       "        -2.79234585e-01,  1.44380910e-02],\n",
       "       [ 7.28632528e-02, -3.82332616e-02,  1.09609273e-02,\n",
       "         2.58798243e-04,  7.43332349e-02],\n",
       "       [-4.16660266e-02,  3.29336476e-02,  8.44612485e-02,\n",
       "        -3.68126751e-02, -9.62609387e-02],\n",
       "       [ 1.49700843e-02, -5.42277070e-02, -1.56565191e-01,\n",
       "         2.31729771e-02,  3.54265440e-02],\n",
       "       [-4.56720768e-02, -3.53060609e-03,  4.10196183e-02,\n",
       "         1.04181778e-02, -1.44251738e-02],\n",
       "       [ 1.15747655e-02,  1.17533035e-01, -4.56776138e-02,\n",
       "         1.26691471e-02,  2.20842722e-02],\n",
       "       [ 2.58556047e-02,  4.21690306e-02,  4.28496067e-02,\n",
       "        -1.41004207e-01, -1.69485142e-02],\n",
       "       [-1.27116726e-01,  1.32895546e-01,  4.55008762e-02,\n",
       "         1.55251012e-01, -1.47935788e-01],\n",
       "       [-6.58676538e-02,  7.41196812e-02,  8.04528391e-02,\n",
       "        -1.46042578e-01,  9.64017708e-02],\n",
       "       [-8.35063811e-03, -8.00933538e-02, -1.89210647e-01,\n",
       "         1.09965665e-02, -1.51975101e-02],\n",
       "       [-3.04203681e-02,  8.46752525e-02, -1.44649906e-02,\n",
       "        -1.52051610e-01,  1.92127866e-02],\n",
       "       [-5.11276382e-02,  1.58133473e-01, -1.39983949e-02,\n",
       "         1.35960609e-02, -3.85878003e-02],\n",
       "       [-2.18879023e-02,  7.53339513e-02, -8.56240616e-02,\n",
       "        -1.18398904e-01, -2.94765186e-02],\n",
       "       [ 1.43958283e-01, -9.50737899e-03, -5.30367392e-02,\n",
       "         8.18356887e-02,  2.12625413e-02],\n",
       "       [-4.96209746e-02,  8.84078082e-02, -9.02268879e-02,\n",
       "        -7.22034896e-02, -8.98565227e-02],\n",
       "       [ 2.50155458e-02, -7.62126069e-02, -4.09391922e-03,\n",
       "         1.16217612e-01,  9.26394368e-02],\n",
       "       [ 7.40190846e-02, -3.26679682e-02,  1.49678542e-02,\n",
       "        -2.09033491e-02,  8.62334954e-02],\n",
       "       [-1.74898839e-02,  1.07258443e-01,  7.63145014e-02,\n",
       "        -1.81413425e-01, -4.51900192e-02],\n",
       "       [-7.04404183e-02,  6.68527946e-02,  9.47803700e-03,\n",
       "        -1.50397043e-02, -4.51906024e-02],\n",
       "       [ 7.04852633e-02,  5.02865198e-02, -6.04902451e-02,\n",
       "        -1.71976988e-02,  7.36646580e-02],\n",
       "       [ 1.77564613e-01, -9.19487348e-02,  1.26912700e-01,\n",
       "         4.93736808e-02, -4.87433136e-02],\n",
       "       [-1.95952058e-02, -7.72313321e-02,  4.28819349e-02,\n",
       "         1.32075063e-01,  8.25029923e-02],\n",
       "       [ 9.40836506e-02,  1.60406486e-02,  2.24615167e-02,\n",
       "         2.01070360e-02, -9.16633782e-02],\n",
       "       [-7.67098843e-02,  2.34514008e-03,  4.43598386e-02,\n",
       "         1.50663243e-01,  4.47132520e-02],\n",
       "       [-3.58592111e-02,  8.70573168e-02,  1.03198707e-01,\n",
       "        -2.55815147e-01,  7.69066776e-02],\n",
       "       [-1.70164227e-01, -1.70483767e-01, -8.05764488e-02,\n",
       "        -1.02620483e-01, -8.01950548e-02],\n",
       "       [-5.04661156e-02,  4.53995526e-02,  4.49460890e-02,\n",
       "         1.04068806e-03, -3.68028501e-02],\n",
       "       [-7.58408062e-02,  5.55636497e-02,  5.85839933e-02,\n",
       "        -2.93000814e-02,  9.08498032e-02],\n",
       "       [ 1.63376755e-01, -5.88014681e-02,  8.47846285e-02,\n",
       "        -1.25400272e-01, -6.02443528e-02],\n",
       "       [ 1.13329102e-01,  2.52774447e-02, -1.57123098e-01,\n",
       "         3.96625726e-03, -1.05944019e-02],\n",
       "       [-1.35092195e-01, -8.54187130e-02, -3.65564936e-03,\n",
       "         8.09276443e-02, -6.64919210e-02],\n",
       "       [-7.28845730e-02, -5.60898238e-02,  5.33714390e-02,\n",
       "        -1.85969728e-01,  9.82590392e-03],\n",
       "       [ 1.99424319e-02, -6.73078999e-02,  1.50462304e-02,\n",
       "         7.76361657e-02,  2.41445902e-03],\n",
       "       [ 8.04270605e-02, -2.31884577e-02, -8.07705851e-03,\n",
       "         3.00772292e-02,  9.03072408e-02],\n",
       "       [ 4.83342312e-02,  5.67007451e-02, -1.24094680e-01,\n",
       "         1.03929117e-02, -6.05634719e-03],\n",
       "       [ 6.85924200e-02, -2.44491504e-05, -4.21454470e-02,\n",
       "        -3.83477542e-02,  5.03373401e-02],\n",
       "       [-1.61573812e-01, -5.81291908e-02,  1.93667683e-02,\n",
       "         7.67251769e-02, -2.60043136e-02],\n",
       "       [ 7.25489754e-02,  6.16036438e-02, -1.69956420e-01,\n",
       "        -3.09970150e-02, -3.84677116e-02],\n",
       "       [-3.99832539e-02,  1.28515967e-01,  7.41485665e-02,\n",
       "        -1.19005063e-01,  1.01484826e-01],\n",
       "       [ 5.27468168e-02,  2.94877061e-02, -7.44994125e-02,\n",
       "         2.68679007e-02, -5.55662833e-02],\n",
       "       [ 7.14391924e-02,  8.64800355e-02, -1.10533523e-01,\n",
       "         3.42298631e-02,  1.99930014e-02],\n",
       "       [-1.58296621e-01, -2.69955559e-01, -1.11825726e-01,\n",
       "         1.10394295e-01,  3.01111035e-02],\n",
       "       [-3.99001492e-02,  1.21829248e-02,  6.54264375e-02,\n",
       "        -4.77127769e-02,  2.47595984e-02],\n",
       "       [-1.26796156e-01, -6.60614761e-02,  2.92708873e-02,\n",
       "        -3.21508071e-02,  5.02499631e-02],\n",
       "       [-1.66923025e-01,  1.50687156e-01,  1.04302119e-01,\n",
       "         2.60701511e-01, -1.57323837e-01],\n",
       "       [-3.05233053e-03, -7.36423515e-02,  5.68324383e-02,\n",
       "         1.42125254e-01,  2.01694828e-01],\n",
       "       [-1.46308903e-01,  1.79500749e-01,  8.95675438e-02,\n",
       "         1.80442893e-01, -1.38392998e-01],\n",
       "       [-1.21905247e-01,  1.36116195e-01,  5.02944798e-02,\n",
       "         1.78435987e-01, -1.50564955e-01],\n",
       "       [ 1.81677975e-01, -1.16527529e-01,  1.23942636e-01,\n",
       "         8.98120086e-02,  9.03776712e-02],\n",
       "       [-1.91920045e-02,  6.41191656e-02,  1.08902702e-01,\n",
       "        -2.06347574e-01,  9.36071968e-02],\n",
       "       [-2.86576376e-02,  5.39526925e-02,  2.25109238e-02,\n",
       "         4.19479213e-02,  2.54455404e-02],\n",
       "       [-7.21985326e-02,  5.35328832e-02,  4.53072043e-02,\n",
       "         7.13617782e-02,  9.96051701e-03],\n",
       "       [ 9.37558650e-02,  5.56445492e-02, -1.20451945e-01,\n",
       "        -3.00618449e-02, -8.27784223e-03],\n",
       "       [-1.00146548e-01,  1.51967717e-01,  4.69114077e-02,\n",
       "         1.72897236e-02, -3.14559456e-02],\n",
       "       [ 1.30665687e-01,  2.08939380e-02, -1.84410479e-01,\n",
       "        -3.71567074e-02, -5.38094958e-02],\n",
       "       [-2.43513786e-01, -2.53461817e-01, -2.25423527e-02,\n",
       "        -2.76465825e-01, -1.29509454e-01],\n",
       "       [ 1.12528053e-01, -4.88488258e-02,  1.00877653e-01,\n",
       "        -2.48422310e-02,  5.42399216e-02],\n",
       "       [-9.90167574e-02,  1.76906248e-01,  4.35974124e-02,\n",
       "         1.02092993e-01, -1.34206409e-01],\n",
       "       [ 3.99683369e-02,  6.41123402e-02, -1.45313580e-02,\n",
       "         8.16036401e-02, -7.90209710e-02],\n",
       "       [-1.13909510e-01,  1.12433985e-01,  3.50509351e-02,\n",
       "         1.50681695e-01, -1.18934844e-01],\n",
       "       [-5.81262911e-02,  1.54104114e-01,  7.60987333e-02,\n",
       "        -5.79500574e-02,  4.76234921e-02],\n",
       "       [-1.19626848e-01,  1.33716753e-02,  5.60290786e-02,\n",
       "         8.20004503e-02,  1.31354580e-02],\n",
       "       [ 2.56108492e-02, -2.56127694e-02,  1.95254534e-02,\n",
       "        -1.80339476e-02,  9.13780024e-02],\n",
       "       [-1.82432308e-01, -2.60397755e-01, -6.16042831e-02,\n",
       "        -2.79761106e-02, -3.96389362e-02],\n",
       "       [-1.19710710e-01, -1.02385571e-01,  3.79619342e-02,\n",
       "         1.68853237e-01,  8.33822143e-02],\n",
       "       [ 1.17658993e-01, -9.96768886e-02,  1.02439522e-01,\n",
       "         1.20062837e-01,  8.23235671e-02],\n",
       "       [ 2.40341309e-01, -1.46138282e-01,  2.47368996e-01,\n",
       "         7.02307757e-03, -4.93587087e-01],\n",
       "       [ 3.45610010e-02, -9.31727657e-02,  3.66240721e-02,\n",
       "         1.44835826e-01,  2.10876959e-01],\n",
       "       [ 1.73259037e-01, -6.20072471e-02,  3.62978352e-02,\n",
       "         5.37771472e-02,  6.91509511e-02],\n",
       "       [-1.66750456e-01, -2.75481648e-01, -1.14263794e-01,\n",
       "        -7.54132572e-03, -3.81856729e-02],\n",
       "       [-7.62306247e-02,  1.07207766e-01,  5.16795203e-02,\n",
       "         6.14490016e-02,  3.24148899e-02],\n",
       "       [ 7.22583459e-02, -8.15441406e-02,  2.05976370e-02,\n",
       "        -2.29994167e-03,  3.11649627e-02],\n",
       "       [-6.50241382e-02, -7.12498730e-02, -1.84301606e-01,\n",
       "        -3.79645996e-02, -9.52388510e-02],\n",
       "       [ 1.80993773e-01, -1.21265754e-01,  1.39432767e-01,\n",
       "         1.04105577e-01,  1.64177022e-02],\n",
       "       [ 5.00377637e-02,  2.23101238e-02, -1.78833001e-01,\n",
       "         3.02248480e-02,  6.10157236e-02]])"
      ]
     },
     "execution_count": 8,
     "metadata": {},
     "output_type": "execute_result"
    }
   ],
   "source": [
    "embed_spectral"
   ]
  },
  {
   "cell_type": "code",
   "execution_count": null,
   "metadata": {},
   "outputs": [],
   "source": [
    "embedding = spectral_embedding(A, n_components=embDim, norm_laplacian=True, drop_first=True, eigen_solver='arpack')"
   ]
  },
  {
   "cell_type": "code",
   "execution_count": 7,
   "metadata": {
    "scrolled": true
   },
   "outputs": [
    {
     "name": "stderr",
     "output_type": "stream",
     "text": [
      "  0%|          | 0/1 [00:00<?, ?it/s]"
     ]
    },
    {
     "name": "stdout",
     "output_type": "stream",
     "text": [
      "dotmatrix_DS_Nov272020.011936_csr_csr.npy\n"
     ]
    },
    {
     "name": "stderr",
     "output_type": "stream",
     "text": [
      "100%|██████████| 1/1 [00:36<00:00, 36.92s/it]\n"
     ]
    }
   ],
   "source": [
    "perform_evaluate_runs_part1('NusWide', embDim=5, kernelFn='cosine') # no important difference with the default thresold"
   ]
  },
  {
   "cell_type": "code",
   "execution_count": 4,
   "metadata": {},
   "outputs": [],
   "source": [
    "def perform_evaluate_runs(dsDirPath, nruns=10, threshold=0.0, embDim=4, kernelFn='rbf'):\n",
    "    trueLblsFname = \"{0}/{1}/{2}\".format(path, dsDirPath, 'labels.true')\n",
    "    trueL = getLabelsFromFile(trueLblsFname)\n",
    "    postFixesDS = detectPostfixesInDir(path, dsDirPath)\n",
    "\n",
    "    dsresults = []\n",
    "    header = ['seed']\n",
    "    header.extend(MEASURES)\n",
    "    np.random.seed(87009)\n",
    "    n_clusters = np.unique(trueL).shape[0]\n",
    "    runSeed = np.random.randint(0, high=2e8)\n",
    "    for runPostfix in tqdm(postFixesDS[0:1]):#tqdm(postFixesDS):\n",
    "        #print(\"{0}/{1}{2}_csr.npy\".format(dsDirPath, 'simmatrix_DS_', runPostfix))        \n",
    "        simFname = \"{0}/{1}/{2}{3}_csr.npy\".format(path, dsDirPath, 'simmatrix_DS_', runPostfix)\n",
    "        D = _loadSparseCSRFromDisk(simFname)\n",
    "\n",
    "        #aSRS = compute_aSRS(D)\n",
    "        #outSRSFn = \"{0}/{1}/{2}{3}.npy\".format(path, dsDirPath, 'aSRS_DS_', runPostfix)\n",
    "        #np.save(outSRSFn, aSRS)\n",
    "        ##aSRS = np.load(outSRSFn)\n",
    "        \n",
    "        #pK = pairwise_kernels(D, metric=kernelFn)\n",
    "        ## sparse version\n",
    "        nrmDiag = sp.diags(1/norm(D, axis=1))\n",
    "        bnrm = nrmDiag.dot(D)\n",
    "        A = bnrm.toarray()\n",
    "        del D\n",
    "        del nrmDiag\n",
    "        del bnrm\n",
    "        A = scipy.linalg.blas.dgemm(alpha=1.0, a=A, b=A, trans_b=True)\n",
    "      \n",
    "        # builds the embedded vectors\n",
    "        embedding = spectral_embedding(A, n_components=embDim, norm_laplacian=True, drop_first=True, eigen_solver='arpack')\n",
    "        \n",
    "        #spEmbMod = SpectralEmbedding(n_components=20, affinity='nearest_neighbors', n_jobs=4, eigen_solver='arpack', random_state=runSeed)        \n",
    "        #embedding = spEmbMod.fit_transform(D.toarray())\n",
    "        \n",
    "        #outEmbFn = \"{0}/{1}/{2}{3}.npy\".format(path, dsDirPath, 'embedding_DS_', runPostfix)\n",
    "        #np.save(outEmbFn, embedding)\n",
    "        #embedding = np.load(outEmbFn)\n",
    "        \n",
    "        # old, not working!\n",
    "        #spectralEmb = SpectralEmbedding(embedding_dimension = 30, node_weights = 'degree')\n",
    "        #spectralEmb.fit(aSRS)\n",
    "        #embedding = spectralEmb.embedding_\n",
    "        \n",
    "        runDsResults = [] # a single run passes through all the npy matrices with the same seed        \n",
    "        for run in tqdm(range(nruns)): # the partitioning method has a stochastic part, hence several runs are needed.\n",
    "            kmeans = MiniBatchKMeans(n_clusters, random_state=np.random.randint(0, high=2e8))\n",
    "            kmeans.fit(embedding)\n",
    "            pred_labels = list(kmeans.labels_)\n",
    "\n",
    "            perf = computeEvaluationMeasures(trueL, pred_labels)\n",
    "            runDsResults.append([perf[m] for m in MEASURES])\n",
    "\n",
    "        runRow = [runSeed]\n",
    "        runRow.extend(list(np.mean(runDsResults, axis=0)))\n",
    "        dsresults.append( runRow ) # average\n",
    "\n",
    "    dsresults.append( ['Average'] + list(np.mean(dsresults, axis=0)[1:]) )\n",
    "    print(tabulate(dsresults, headers=header, tablefmt='github', floatfmt='.6f', showindex=True))    "
   ]
  },
  {
   "cell_type": "markdown",
   "metadata": {},
   "source": [
    "**Build the SRS matrix from a bipartite graph adjacency matrix**"
   ]
  },
  {
   "cell_type": "code",
   "execution_count": 6,
   "metadata": {},
   "outputs": [
    {
     "name": "stderr",
     "output_type": "stream",
     "text": [
      "  0%|          | 0/10 [00:00<?, ?it/s]\n",
      "  0%|          | 0/10 [00:00<?, ?it/s]\u001b[A\n",
      "100%|██████████| 10/10 [00:00<00:00, 55.22it/s][A\n",
      " 10%|█         | 1/10 [00:00<00:02,  3.13it/s]\n",
      "  0%|          | 0/10 [00:00<?, ?it/s]\u001b[A\n",
      "100%|██████████| 10/10 [00:00<00:00, 53.74it/s][A\n",
      " 20%|██        | 2/10 [00:00<00:02,  2.84it/s]\n",
      "  0%|          | 0/10 [00:00<?, ?it/s]\u001b[A\n",
      "100%|██████████| 10/10 [00:00<00:00, 52.09it/s][A\n",
      " 30%|███       | 3/10 [00:01<00:02,  2.99it/s]\n",
      "  0%|          | 0/10 [00:00<?, ?it/s]\u001b[A\n",
      "100%|██████████| 10/10 [00:00<00:00, 50.79it/s][A\n",
      " 40%|████      | 4/10 [00:01<00:02,  2.92it/s]\n",
      "  0%|          | 0/10 [00:00<?, ?it/s]\u001b[A\n",
      " 30%|███       | 3/10 [00:00<00:00, 26.21it/s]\u001b[A\n",
      "100%|██████████| 10/10 [00:00<00:00, 43.18it/s]\u001b[A\n",
      " 50%|█████     | 5/10 [00:01<00:01,  2.95it/s]\n",
      "  0%|          | 0/10 [00:00<?, ?it/s]\u001b[A\n",
      "100%|██████████| 10/10 [00:00<00:00, 53.73it/s][A\n",
      " 60%|██████    | 6/10 [00:01<00:01,  3.12it/s]\n",
      "  0%|          | 0/10 [00:00<?, ?it/s]\u001b[A\n",
      "100%|██████████| 10/10 [00:00<00:00, 53.20it/s][A\n",
      " 70%|███████   | 7/10 [00:02<00:00,  3.26it/s]\n",
      "  0%|          | 0/10 [00:00<?, ?it/s]\u001b[A\n",
      "100%|██████████| 10/10 [00:00<00:00, 50.22it/s][A\n",
      " 80%|████████  | 8/10 [00:02<00:00,  3.31it/s]\n",
      "  0%|          | 0/10 [00:00<?, ?it/s]\u001b[A\n",
      "100%|██████████| 10/10 [00:00<00:00, 55.55it/s][A\n",
      " 90%|█████████ | 9/10 [00:02<00:00,  3.11it/s]\n",
      "  0%|          | 0/10 [00:00<?, ?it/s]\u001b[A\n",
      "100%|██████████| 10/10 [00:00<00:00, 52.51it/s][A\n",
      "100%|██████████| 10/10 [00:03<00:00,  3.12it/s]"
     ]
    },
    {
     "name": "stdout",
     "output_type": "stream",
     "text": [
      "|    | seed      |        E |        P |       F1 |      ACC |      NMI |     PREC |      REC |      ARI |\n",
      "|----|-----------|----------|----------|----------|----------|----------|----------|----------|----------|\n",
      "|  0 | 102758375 | 0.183388 | 0.932847 | 0.305188 | 0.304526 | 0.807615 | 0.309141 | 0.304526 | 0.835237 |\n",
      "|  1 | 102758375 | 0.181714 | 0.933285 | 0.098665 | 0.100000 | 0.809284 | 0.101374 | 0.100000 | 0.836075 |\n",
      "|  2 | 102758375 | 0.183388 | 0.932847 | 0.120351 | 0.122336 | 0.807615 | 0.120372 | 0.122336 | 0.835237 |\n",
      "|  3 | 102758375 | 0.184038 | 0.932555 | 0.139719 | 0.142774 | 0.806961 | 0.141232 | 0.142774 | 0.834496 |\n",
      "|  4 | 102758375 | 0.182830 | 0.932993 | 0.116874 | 0.117664 | 0.808172 | 0.120214 | 0.117664 | 0.835517 |\n",
      "|  5 | 102758375 | 0.183388 | 0.932847 | 0.161820 | 0.164088 | 0.807615 | 0.162908 | 0.164088 | 0.835237 |\n",
      "|  6 | 102758375 | 0.182830 | 0.932993 | 0.090352 | 0.090219 | 0.808172 | 0.094477 | 0.090219 | 0.835517 |\n",
      "|  7 | 102758375 | 0.182830 | 0.932993 | 0.138518 | 0.140146 | 0.808172 | 0.140495 | 0.140146 | 0.835517 |\n",
      "|  8 | 102758375 | 0.181985 | 0.933139 | 0.171865 | 0.174891 | 0.808953 | 0.173101 | 0.174891 | 0.835747 |\n",
      "|  9 | 102758375 | 0.184038 | 0.932555 | 0.208822 | 0.211095 | 0.806961 | 0.210462 | 0.211095 | 0.834496 |\n",
      "| 10 | Average   | 0.183043 | 0.932905 | 0.155217 | 0.156774 | 0.807952 | 0.157378 | 0.156774 | 0.835308 |\n",
      "CPU times: user 9.65 s, sys: 4.69 s, total: 14.3 s\n",
      "Wall time: 3.22 s\n"
     ]
    },
    {
     "name": "stderr",
     "output_type": "stream",
     "text": [
      "\n"
     ]
    }
   ],
   "source": [
    "%%time\n",
    "perform_evaluate_runs('BBC-seg4', embDim=4, kernelFn='cosine')"
   ]
  },
  {
   "cell_type": "markdown",
   "metadata": {},
   "source": [
    "dim:4, cosine\n",
    "\n",
    "|    | seed      |        E |        P |       F1 |      ACC |      NMI |     PREC |      REC |      ARI |\n",
    "|----|-----------|----------|----------|----------|----------|----------|----------|----------|----------|\n",
    "|  0 | 102758375 | 0.183388 | 0.932847 | 0.305188 | 0.304526 | 0.807615 | 0.309141 | 0.304526 | 0.835237 |\n",
    "|  1 | 102758375 | 0.181714 | 0.933285 | 0.098665 | 0.100000 | 0.809284 | 0.101374 | 0.100000 | 0.836075 |\n",
    "|  2 | 102758375 | 0.183388 | 0.932847 | 0.120351 | 0.122336 | 0.807615 | 0.120372 | 0.122336 | 0.835237 |\n",
    "|  3 | 102758375 | 0.184038 | 0.932555 | 0.139719 | 0.142774 | 0.806961 | 0.141232 | 0.142774 | 0.834496 |\n",
    "|  4 | 102758375 | 0.182830 | 0.932993 | 0.116874 | 0.117664 | 0.808172 | 0.120214 | 0.117664 | 0.835517 |\n",
    "|  5 | 102758375 | 0.183388 | 0.932847 | 0.161820 | 0.164088 | 0.807615 | 0.162908 | 0.164088 | 0.835237 |\n",
    "|  6 | 102758375 | 0.182830 | 0.932993 | 0.090352 | 0.090219 | 0.808172 | 0.094477 | 0.090219 | 0.835517 |\n",
    "|  7 | 102758375 | 0.182830 | 0.932993 | 0.138518 | 0.140146 | 0.808172 | 0.140495 | 0.140146 | 0.835517 |\n",
    "|  8 | 102758375 | 0.181985 | 0.933139 | 0.171865 | 0.174891 | 0.808953 | 0.173101 | 0.174891 | 0.835747 |\n",
    "|  9 | 102758375 | 0.184038 | 0.932555 | 0.208822 | 0.211095 | 0.806961 | 0.210462 | 0.211095 | 0.834496 |\n",
    "| 10 | Average   | 0.183043 | 0.932905 | 0.155217 | 0.156774 | 0.807952 | 0.157378 | 0.156774 | 0.835308 |\n",
    "CPU times: user 8.88 s, sys: 4.01 s, total: 12.9 s\n",
    "Wall time: 2.95 s\n",
    "\n",
    "\n",
    "\n",
    "|    | seed      |        E |        P |       F1 |      ACC |      NMI |     PREC |      REC |      ARI |\n",
    "|----|-----------|----------|----------|----------|----------|----------|----------|----------|----------|\n",
    "|  0 | 102758375 | 0.268472 | 0.894161 | 0.149339 | 0.155328 | 0.721357 | 0.148146 | 0.155328 | 0.755605 |\n",
    "|  1 | 102758375 | 0.268042 | 0.894307 | 0.094929 | 0.097664 | 0.721754 | 0.098474 | 0.097664 | 0.755752 |\n",
    "|  2 | 102758375 | 0.269831 | 0.893431 | 0.118097 | 0.124380 | 0.720049 | 0.117356 | 0.124380 | 0.754138 |\n",
    "|  3 | 102758375 | 0.269305 | 0.893723 | 0.210728 | 0.215182 | 0.720558 | 0.211137 | 0.215182 | 0.754575 |\n",
    "|  4 | 102758375 | 0.266446 | 0.895182 | 0.153666 | 0.154599 | 0.723294 | 0.158414 | 0.154599 | 0.757712 |\n",
    "|  5 | 102758375 | 0.267779 | 0.894453 | 0.135532 | 0.139416 | 0.722008 | 0.136482 | 0.139416 | 0.755971 |\n",
    "|  6 | 102758375 | 0.268304 | 0.894307 | 0.133509 | 0.138832 | 0.721531 | 0.132912 | 0.138832 | 0.755996 |\n",
    "|  7 | 102758375 | 0.267542 | 0.894599 | 0.146864 | 0.150949 | 0.722240 | 0.148295 | 0.150949 | 0.756463 |\n",
    "|  8 | 102758375 | 0.272487 | 0.890219 | 0.300385 | 0.306861 | 0.716485 | 0.301102 | 0.306861 | 0.749963 |\n",
    "|  9 | 102758375 | 0.268972 | 0.893869 | 0.039151 | 0.043942 | 0.720872 | 0.040679 | 0.043942 | 0.754894 |\n",
    "| 10 | Average   | 0.268718 | 0.893825 | 0.148220 | 0.152715 | 0.721015 | 0.149300 | 0.152715 | 0.755107 |\n",
    "\n",
    "CPU times: user 4min 56s, sys: 2.46 s, total: 4min 58s\n",
    "Wall time: 4min 46s"
   ]
  },
  {
   "cell_type": "code",
   "execution_count": 13,
   "metadata": {},
   "outputs": [
    {
     "name": "stderr",
     "output_type": "stream",
     "text": [
      "  0%|          | 0/10 [00:00<?, ?it/s]\n",
      "  0%|          | 0/10 [00:00<?, ?it/s]\u001b[A\n",
      " 20%|██        | 2/10 [00:00<00:00, 14.83it/s]\u001b[A\n",
      " 50%|█████     | 5/10 [00:00<00:00, 16.42it/s]\u001b[A\n",
      "100%|██████████| 10/10 [00:00<00:00, 20.02it/s][A\n",
      " 10%|█         | 1/10 [00:00<00:08,  1.10it/s]\n",
      "  0%|          | 0/10 [00:00<?, ?it/s]\u001b[A\n",
      " 20%|██        | 2/10 [00:00<00:00, 15.35it/s]\u001b[A\n",
      " 50%|█████     | 5/10 [00:00<00:00, 16.85it/s]\u001b[A\n",
      " 70%|███████   | 7/10 [00:00<00:00, 17.55it/s]\u001b[A\n",
      "100%|██████████| 10/10 [00:00<00:00, 19.78it/s]\u001b[A\n",
      " 20%|██        | 2/10 [00:01<00:07,  1.06it/s]\n",
      "  0%|          | 0/10 [00:00<?, ?it/s]\u001b[A\n",
      " 20%|██        | 2/10 [00:00<00:00, 14.77it/s]\u001b[A\n",
      " 50%|█████     | 5/10 [00:00<00:00, 15.99it/s]\u001b[A\n",
      " 70%|███████   | 7/10 [00:00<00:00, 16.77it/s]\u001b[A\n",
      "100%|██████████| 10/10 [00:00<00:00, 17.25it/s][A\n",
      " 30%|███       | 3/10 [00:02<00:06,  1.03it/s]\n",
      "  0%|          | 0/10 [00:00<?, ?it/s]\u001b[A\n",
      " 20%|██        | 2/10 [00:00<00:00, 17.59it/s]\u001b[A\n",
      " 50%|█████     | 5/10 [00:00<00:00, 18.49it/s]\u001b[A\n",
      " 70%|███████   | 7/10 [00:00<00:00, 17.26it/s]\u001b[A\n",
      "100%|██████████| 10/10 [00:00<00:00, 17.61it/s][A\n",
      " 40%|████      | 4/10 [00:04<00:06,  1.01s/it]\n",
      "  0%|          | 0/10 [00:00<?, ?it/s]\u001b[A\n",
      " 20%|██        | 2/10 [00:00<00:00, 16.38it/s]\u001b[A\n",
      " 50%|█████     | 5/10 [00:00<00:00, 16.75it/s]\u001b[A\n",
      " 70%|███████   | 7/10 [00:00<00:00, 16.99it/s]\u001b[A\n",
      "100%|██████████| 10/10 [00:00<00:00, 16.32it/s][A\n",
      " 50%|█████     | 5/10 [00:05<00:05,  1.05s/it]\n",
      "  0%|          | 0/10 [00:00<?, ?it/s]\u001b[A\n",
      " 20%|██        | 2/10 [00:00<00:00, 13.05it/s]\u001b[A\n",
      " 40%|████      | 4/10 [00:00<00:00, 13.67it/s]\u001b[A\n",
      " 60%|██████    | 6/10 [00:00<00:00, 15.04it/s]\u001b[A\n",
      "100%|██████████| 10/10 [00:00<00:00, 16.51it/s][A\n",
      " 60%|██████    | 6/10 [00:06<00:04,  1.14s/it]\n",
      "  0%|          | 0/10 [00:00<?, ?it/s]\u001b[A\n",
      " 20%|██        | 2/10 [00:00<00:00, 17.60it/s]\u001b[A\n",
      " 40%|████      | 4/10 [00:00<00:00, 17.30it/s]\u001b[A\n",
      " 60%|██████    | 6/10 [00:00<00:00, 17.96it/s]\u001b[A\n",
      " 80%|████████  | 8/10 [00:00<00:00, 18.38it/s]\u001b[A\n",
      "100%|██████████| 10/10 [00:00<00:00, 17.29it/s]\u001b[A\n",
      " 70%|███████   | 7/10 [00:07<00:03,  1.15s/it]\n",
      "  0%|          | 0/10 [00:00<?, ?it/s]\u001b[A\n",
      " 10%|█         | 1/10 [00:00<00:00,  9.88it/s]\u001b[A\n",
      " 30%|███       | 3/10 [00:00<00:00, 11.10it/s]\u001b[A\n",
      " 50%|█████     | 5/10 [00:00<00:00, 12.13it/s]\u001b[A\n",
      " 70%|███████   | 7/10 [00:00<00:00, 12.83it/s]\u001b[A\n",
      "100%|██████████| 10/10 [00:00<00:00, 15.58it/s][A\n",
      " 80%|████████  | 8/10 [00:08<00:02,  1.14s/it]\n",
      "  0%|          | 0/10 [00:00<?, ?it/s]\u001b[A\n",
      " 20%|██        | 2/10 [00:00<00:00, 14.32it/s]\u001b[A\n",
      " 40%|████      | 4/10 [00:00<00:00, 14.28it/s]\u001b[A\n",
      " 60%|██████    | 6/10 [00:00<00:00, 15.07it/s]\u001b[A\n",
      " 80%|████████  | 8/10 [00:00<00:00, 14.57it/s]\u001b[A\n",
      "100%|██████████| 10/10 [00:00<00:00, 15.44it/s]\u001b[A\n",
      " 90%|█████████ | 9/10 [00:09<00:01,  1.12s/it]\n",
      "  0%|          | 0/10 [00:00<?, ?it/s]\u001b[A\n",
      " 20%|██        | 2/10 [00:00<00:00, 18.53it/s]\u001b[A\n",
      " 40%|████      | 4/10 [00:00<00:00, 18.68it/s]\u001b[A\n",
      " 60%|██████    | 6/10 [00:00<00:00, 16.81it/s]\u001b[A\n",
      " 80%|████████  | 8/10 [00:00<00:00, 17.12it/s]\u001b[A\n",
      "100%|██████████| 10/10 [00:00<00:00, 16.26it/s]\u001b[A\n",
      "100%|██████████| 10/10 [00:11<00:00,  1.10s/it]"
     ]
    },
    {
     "name": "stdout",
     "output_type": "stream",
     "text": [
      "|    | seed      |        E |        P |       F1 |      ACC |      NMI |     PREC |      REC |      ARI |\n",
      "|----|-----------|----------|----------|----------|----------|----------|----------|----------|----------|\n",
      "|  0 | 102758375 | 0.428383 | 0.659640 | 0.043620 | 0.044007 | 0.436066 | 0.073938 | 0.044007 | 0.303957 |\n",
      "|  1 | 102758375 | 0.427989 | 0.662825 | 0.065009 | 0.058256 | 0.436709 | 0.097686 | 0.058256 | 0.318946 |\n",
      "|  2 | 102758375 | 0.418265 | 0.652850 | 0.113960 | 0.106873 | 0.450076 | 0.199417 | 0.106873 | 0.346506 |\n",
      "|  3 | 102758375 | 0.419574 | 0.652096 | 0.068019 | 0.066345 | 0.444782 | 0.104811 | 0.066345 | 0.336888 |\n",
      "|  4 | 102758375 | 0.429605 | 0.658466 | 0.051974 | 0.055532 | 0.436864 | 0.076387 | 0.055532 | 0.318954 |\n",
      "|  5 | 102758375 | 0.428818 | 0.664878 | 0.062528 | 0.059137 | 0.439885 | 0.154630 | 0.059137 | 0.314035 |\n",
      "|  6 | 102758375 | 0.425140 | 0.645013 | 0.048215 | 0.044593 | 0.439948 | 0.109057 | 0.044593 | 0.335990 |\n",
      "|  7 | 102758375 | 0.428611 | 0.663118 | 0.057425 | 0.056370 | 0.439868 | 0.097537 | 0.056370 | 0.314683 |\n",
      "|  8 | 102758375 | 0.437024 | 0.656035 | 0.049690 | 0.044677 | 0.430078 | 0.095058 | 0.044677 | 0.333822 |\n",
      "|  9 | 102758375 | 0.415802 | 0.653353 | 0.033990 | 0.034996 | 0.449886 | 0.052390 | 0.034996 | 0.351205 |\n",
      "| 10 | Average   | 0.425921 | 0.656827 | 0.059443 | 0.057079 | 0.440416 | 0.106091 | 0.057079 | 0.327498 |\n",
      "CPU times: user 31.9 s, sys: 9.97 s, total: 41.9 s\n",
      "Wall time: 11 s\n"
     ]
    },
    {
     "name": "stderr",
     "output_type": "stream",
     "text": [
      "\n"
     ]
    }
   ],
   "source": [
    "%%time\n",
    "perform_evaluate_runs('Caltech', embDim=8, kernelFn='cosine')"
   ]
  },
  {
   "cell_type": "markdown",
   "metadata": {},
   "source": [
    "dim:8, cosine\n",
    "\n",
    "|    | seed      |        E |        P |       F1 |      ACC |      NMI |     PREC |      REC |      ARI |\n",
    "|----|-----------|----------|----------|----------|----------|----------|----------|----------|----------|\n",
    "|  0 | 102758375 | 0.428383 | 0.659640 | 0.043620 | 0.044007 | 0.436066 | 0.073938 | 0.044007 | 0.303957 |\n",
    "|  1 | 102758375 | 0.427989 | 0.662825 | 0.065009 | 0.058256 | 0.436709 | 0.097686 | 0.058256 | 0.318946 |\n",
    "|  2 | 102758375 | 0.418265 | 0.652850 | 0.113960 | 0.106873 | 0.450076 | 0.199417 | 0.106873 | 0.346506 |\n",
    "|  3 | 102758375 | 0.419574 | 0.652096 | 0.068019 | 0.066345 | 0.444782 | 0.104811 | 0.066345 | 0.336888 |\n",
    "|  4 | 102758375 | 0.429605 | 0.658466 | 0.051974 | 0.055532 | 0.436864 | 0.076387 | 0.055532 | 0.318954 |\n",
    "|  5 | 102758375 | 0.428818 | 0.664878 | 0.062528 | 0.059137 | 0.439885 | 0.154630 | 0.059137 | 0.314035 |\n",
    "|  6 | 102758375 | 0.425140 | 0.645013 | 0.048215 | 0.044593 | 0.439948 | 0.109057 | 0.044593 | 0.335990 |\n",
    "|  7 | 102758375 | 0.428611 | 0.663118 | 0.057425 | 0.056370 | 0.439868 | 0.097537 | 0.056370 | 0.314683 |\n",
    "|  8 | 102758375 | 0.437024 | 0.656035 | 0.049690 | 0.044677 | 0.430078 | 0.095058 | 0.044677 | 0.333822 |\n",
    "|  9 | 102758375 | 0.415802 | 0.653353 | 0.033990 | 0.034996 | 0.449886 | 0.052390 | 0.034996 | 0.351205 |\n",
    "| 10 | Average   | 0.425921 | 0.656827 | 0.059443 | 0.057079 | 0.440416 | 0.106091 | 0.057079 | 0.327498 |\n",
    "CPU times: user 31.9 s, sys: 9.97 s, total: 41.9 s\n",
    "Wall time: 11 s\n",
    "\n",
    "\n",
    "dim:5 , cosine\n",
    "\n",
    "|    | seed      |        E |        P |       F1 |      ACC |      NMI |     PREC |      REC |      ARI |\n",
    "|----|-----------|----------|----------|----------|----------|----------|----------|----------|----------|\n",
    "|  0 | 102758375 | 0.429888 | 0.648910 | 0.052559 | 0.052096 | 0.425421 | 0.078130 | 0.052096 | 0.322740 |\n",
    "|  1 | 102758375 | 0.430596 | 0.649581 | 0.050770 | 0.046773 | 0.423121 | 0.094186 | 0.046773 | 0.316401 |\n",
    "|  2 | 102758375 | 0.405382 | 0.659514 | 0.094435 | 0.085247 | 0.450282 | 0.159397 | 0.085247 | 0.354355 |\n",
    "|  3 | 102758375 | 0.407962 | 0.655448 | 0.073609 | 0.064920 | 0.448392 | 0.125081 | 0.064920 | 0.360443 |\n",
    "|  4 | 102758375 | 0.430999 | 0.648701 | 0.023385 | 0.027494 | 0.420953 | 0.038343 | 0.027494 | 0.309670 |\n",
    "|  5 | 102758375 | 0.431033 | 0.650838 | 0.057918 | 0.048868 | 0.422462 | 0.109296 | 0.048868 | 0.314567 |\n",
    "|  6 | 102758375 | 0.409791 | 0.655029 | 0.064198 | 0.054862 | 0.445235 | 0.138087 | 0.054862 | 0.348076 |\n",
    "|  7 | 102758375 | 0.429922 | 0.648868 | 0.058080 | 0.049162 | 0.425611 | 0.120052 | 0.049162 | 0.328405 |\n",
    "|  8 | 102758375 | 0.422801 | 0.661065 | 0.071160 | 0.065423 | 0.433804 | 0.118065 | 0.065423 | 0.350798 |\n",
    "|  9 | 102758375 | 0.407643 | 0.656329 | 0.065358 | 0.062531 | 0.448731 | 0.142431 | 0.062531 | 0.349878 |\n",
    "| 10 | Average   | 0.420602 | 0.653428 | 0.061147 | 0.055738 | 0.434401 | 0.112307 | 0.055738 | 0.335533 |\n",
    "CPU times: user 31.4 s, sys: 9.99 s, total: 41.4 s\n",
    "Wall time: 10.9 s\n",
    "\n",
    "dim:3, cosine\n",
    "\n",
    "|    | seed      |        E |        P |       F1 |      ACC |      NMI |     PREC |      REC |      ARI |\n",
    "|----|-----------|----------|----------|----------|----------|----------|----------|----------|----------|\n",
    "|  0 | 102758375 | 0.429080 | 0.649246 | 0.030382 | 0.031140 | 0.425903 | 0.045765 | 0.031140 | 0.350819 |\n",
    "|  1 | 102758375 | 0.430828 | 0.649329 | 0.034217 | 0.034367 | 0.423641 | 0.051573 | 0.034367 | 0.345043 |\n",
    "|  2 | 102758375 | 0.414870 | 0.643713 | 0.093608 | 0.080134 | 0.433554 | 0.189920 | 0.080134 | 0.312642 |\n",
    "|  3 | 102758375 | 0.415314 | 0.643588 | 0.055367 | 0.047946 | 0.432987 | 0.114854 | 0.047946 | 0.312657 |\n",
    "|  4 | 102758375 | 0.427223 | 0.650168 | 0.074751 | 0.065130 | 0.427829 | 0.117880 | 0.065130 | 0.352501 |\n",
    "|  5 | 102758375 | 0.429397 | 0.648156 | 0.040202 | 0.037427 | 0.422792 | 0.073292 | 0.037427 | 0.339596 |\n",
    "|  6 | 102758375 | 0.417945 | 0.643588 | 0.058441 | 0.053646 | 0.428766 | 0.116574 | 0.053646 | 0.299925 |\n",
    "|  7 | 102758375 | 0.429430 | 0.650754 | 0.049732 | 0.045851 | 0.427227 | 0.093415 | 0.045851 | 0.357674 |\n",
    "|  8 | 102758375 | 0.428885 | 0.648659 | 0.057716 | 0.059262 | 0.420952 | 0.088058 | 0.059262 | 0.325333 |\n",
    "|  9 | 102758375 | 0.414440 | 0.643965 | 0.068801 | 0.054694 | 0.432413 | 0.199044 | 0.054694 | 0.310104 |\n",
    "| 10 | Average   | 0.423741 | 0.647117 | 0.056322 | 0.050960 | 0.427606 | 0.109038 | 0.050960 | 0.330629 |\n",
    "CPU times: user 31.9 s, sys: 9.51 s, total: 41.4 s\n",
    "Wall time: 11.2 s\n",
    "\n",
    "\n",
    "dim : 3\n",
    "\n",
    "|    | seed      |        E |        P |       F1 |      ACC |      NMI |     PREC |      REC |      ARI |\n",
    "|----|-----------|----------|----------|----------|----------|----------|----------|----------|----------|\n",
    "|  0 | 102758375 | 0.445440 | 0.643336 | 0.026973 | 0.027033 | 0.414287 | 0.055858 | 0.027033 | 0.342926 |\n",
    "|  1 | 102758375 | 0.444238 | 0.643336 | 0.045111 | 0.041408 | 0.416247 | 0.070447 | 0.041408 | 0.348293 |\n",
    "|  2 | 102758375 | 0.424884 | 0.648198 | 0.077482 | 0.071961 | 0.426085 | 0.128635 | 0.071961 | 0.304730 |\n",
    "|  3 | 102758375 | 0.423435 | 0.648198 | 0.077158 | 0.065339 | 0.426261 | 0.186978 | 0.065339 | 0.301516 |\n",
    "|  4 | 102758375 | 0.443114 | 0.643168 | 0.046479 | 0.041869 | 0.415925 | 0.073534 | 0.041869 | 0.346467 |\n",
    "|  5 | 102758375 | 0.441940 | 0.644216 | 0.027960 | 0.033445 | 0.415597 | 0.042074 | 0.033445 | 0.339148 |\n",
    "|  6 | 102758375 | 0.422699 | 0.645306 | 0.045728 | 0.044216 | 0.426639 | 0.077841 | 0.044216 | 0.304276 |\n",
    "|  7 | 102758375 | 0.443025 | 0.644258 | 0.057770 | 0.052054 | 0.419893 | 0.104900 | 0.052054 | 0.376782 |\n",
    "|  8 | 102758375 | 0.444823 | 0.644593 | 0.035458 | 0.036421 | 0.411878 | 0.068847 | 0.036421 | 0.349812 |\n",
    "|  9 | 102758375 | 0.422160 | 0.648617 | 0.055328 | 0.041953 | 0.428452 | 0.199043 | 0.041953 | 0.308407 |\n",
    "| 10 | Average   | 0.435576 | 0.645323 | 0.049545 | 0.045570 | 0.420126 | 0.100816 | 0.045570 | 0.332236 |\n",
    "\n",
    "CPU times: user 1min 46s, sys: 57.2 s, total: 2min 44s\n",
    "Wall time: 28.2 s"
   ]
  },
  {
   "cell_type": "code",
   "execution_count": 38,
   "metadata": {},
   "outputs": [
    {
     "name": "stderr",
     "output_type": "stream",
     "text": [
      "  0%|          | 0/10 [00:00<?, ?it/s]\n",
      "  0%|          | 0/10 [00:00<?, ?it/s]\u001b[A\n",
      " 30%|███       | 3/10 [00:00<00:00, 24.78it/s]\u001b[A\n",
      " 70%|███████   | 7/10 [00:00<00:00, 26.27it/s]\u001b[A\n",
      "100%|██████████| 10/10 [00:00<00:00, 25.54it/s]\u001b[A\n",
      " 10%|█         | 1/10 [00:00<00:06,  1.33it/s]\n",
      "  0%|          | 0/10 [00:00<?, ?it/s]\u001b[A\n",
      " 20%|██        | 2/10 [00:00<00:00, 19.07it/s]\u001b[A\n",
      " 50%|█████     | 5/10 [00:00<00:00, 21.10it/s]\u001b[A\n",
      "100%|██████████| 10/10 [00:00<00:00, 26.75it/s][A\n",
      " 20%|██        | 2/10 [00:01<00:05,  1.35it/s]\n",
      "  0%|          | 0/10 [00:00<?, ?it/s]\u001b[A\n",
      " 20%|██        | 2/10 [00:00<00:00, 19.33it/s]\u001b[A\n",
      " 60%|██████    | 6/10 [00:00<00:00, 22.11it/s]\u001b[A\n",
      "100%|██████████| 10/10 [00:00<00:00, 26.74it/s][A\n",
      " 30%|███       | 3/10 [00:02<00:05,  1.36it/s]\n",
      "  0%|          | 0/10 [00:00<?, ?it/s]\u001b[A\n",
      " 30%|███       | 3/10 [00:00<00:00, 26.15it/s]\u001b[A\n",
      " 60%|██████    | 6/10 [00:00<00:00, 26.60it/s]\u001b[A\n",
      "100%|██████████| 10/10 [00:00<00:00, 28.97it/s]\u001b[A\n",
      " 40%|████      | 4/10 [00:02<00:04,  1.32it/s]\n",
      "  0%|          | 0/10 [00:00<?, ?it/s]\u001b[A\n",
      " 30%|███       | 3/10 [00:00<00:00, 26.77it/s]\u001b[A\n",
      "100%|██████████| 10/10 [00:00<00:00, 31.10it/s][A\n",
      " 50%|█████     | 5/10 [00:03<00:03,  1.32it/s]\n",
      "  0%|          | 0/10 [00:00<?, ?it/s]\u001b[A\n",
      " 20%|██        | 2/10 [00:00<00:00, 19.13it/s]\u001b[A\n",
      " 50%|█████     | 5/10 [00:00<00:00, 20.89it/s]\u001b[A\n",
      "100%|██████████| 10/10 [00:00<00:00, 26.37it/s][A\n",
      " 60%|██████    | 6/10 [00:04<00:02,  1.36it/s]\n",
      "  0%|          | 0/10 [00:00<?, ?it/s]\u001b[A\n",
      " 30%|███       | 3/10 [00:00<00:00, 24.78it/s]\u001b[A\n",
      " 60%|██████    | 6/10 [00:00<00:00, 25.84it/s]\u001b[A\n",
      "100%|██████████| 10/10 [00:00<00:00, 26.51it/s][A\n",
      " 70%|███████   | 7/10 [00:05<00:02,  1.39it/s]\n",
      "  0%|          | 0/10 [00:00<?, ?it/s]\u001b[A\n",
      " 30%|███       | 3/10 [00:00<00:00, 23.71it/s]\u001b[A\n",
      " 70%|███████   | 7/10 [00:00<00:00, 25.45it/s]\u001b[A\n",
      "100%|██████████| 10/10 [00:00<00:00, 27.15it/s]\u001b[A\n",
      " 80%|████████  | 8/10 [00:05<00:01,  1.39it/s]\n",
      "  0%|          | 0/10 [00:00<?, ?it/s]\u001b[A\n",
      " 30%|███       | 3/10 [00:00<00:00, 27.51it/s]\u001b[A\n",
      "100%|██████████| 10/10 [00:00<00:00, 30.33it/s][A\n",
      " 90%|█████████ | 9/10 [00:06<00:00,  1.44it/s]\n",
      "  0%|          | 0/10 [00:00<?, ?it/s]\u001b[A\n",
      " 30%|███       | 3/10 [00:00<00:00, 24.60it/s]\u001b[A\n",
      " 60%|██████    | 6/10 [00:00<00:00, 25.93it/s]\u001b[A\n",
      "100%|██████████| 10/10 [00:00<00:00, 26.83it/s][A\n",
      "100%|██████████| 10/10 [00:07<00:00,  1.40it/s]"
     ]
    },
    {
     "name": "stdout",
     "output_type": "stream",
     "text": [
      "|    | seed      |        E |        P |       F1 |      ACC |      NMI |     PREC |      REC |      ARI |\n",
      "|----|-----------|----------|----------|----------|----------|----------|----------|----------|----------|\n",
      "|  0 | 102758375 | 0.281818 | 0.761050 | 0.095272 | 0.099400 | 0.730629 | 0.101884 | 0.099400 | 0.627191 |\n",
      "|  1 | 102758375 | 0.276767 | 0.770700 | 0.069029 | 0.077700 | 0.734134 | 0.066716 | 0.077700 | 0.637387 |\n",
      "|  2 | 102758375 | 0.277524 | 0.764200 | 0.138228 | 0.145250 | 0.733049 | 0.142899 | 0.145250 | 0.636140 |\n",
      "|  3 | 102758375 | 0.278512 | 0.770100 | 0.119809 | 0.123950 | 0.732739 | 0.125409 | 0.123950 | 0.632471 |\n",
      "|  4 | 102758375 | 0.278240 | 0.764150 | 0.095165 | 0.102700 | 0.732373 | 0.098505 | 0.102700 | 0.630341 |\n",
      "|  5 | 102758375 | 0.284441 | 0.763200 | 0.074636 | 0.077600 | 0.729158 | 0.077518 | 0.077600 | 0.619431 |\n",
      "|  6 | 102758375 | 0.275399 | 0.774150 | 0.118619 | 0.124000 | 0.734071 | 0.118853 | 0.124000 | 0.640756 |\n",
      "|  7 | 102758375 | 0.302031 | 0.742150 | 0.116881 | 0.123550 | 0.713664 | 0.121963 | 0.123550 | 0.605184 |\n",
      "|  8 | 102758375 | 0.277821 | 0.765100 | 0.100481 | 0.112100 | 0.732227 | 0.098190 | 0.112100 | 0.634336 |\n",
      "|  9 | 102758375 | 0.279416 | 0.768800 | 0.075536 | 0.075800 | 0.732158 | 0.077696 | 0.075800 | 0.627847 |\n",
      "| 10 | Average   | 0.281197 | 0.764360 | 0.100366 | 0.106205 | 0.730420 | 0.102963 | 0.106205 | 0.629108 |\n",
      "CPU times: user 21.4 s, sys: 7.06 s, total: 28.5 s\n",
      "Wall time: 7.18 s\n"
     ]
    },
    {
     "name": "stderr",
     "output_type": "stream",
     "text": [
      "\n"
     ]
    }
   ],
   "source": [
    "%%time\n",
    "perform_evaluate_runs('handwritten', embDim=6, kernelFn='cosine') # no important difference with the default thresold"
   ]
  },
  {
   "cell_type": "markdown",
   "metadata": {},
   "source": [
    "dim:6, cosine \n",
    "\n",
    "|    | seed      |        E |        P |       F1 |      ACC |      NMI |     PREC |      REC |      ARI |\n",
    "|----|-----------|----------|----------|----------|----------|----------|----------|----------|----------|\n",
    "|  0 | 102758375 | 0.281818 | 0.761050 | 0.095272 | 0.099400 | 0.730629 | 0.101884 | 0.099400 | 0.627191 |\n",
    "|  1 | 102758375 | 0.276767 | 0.770700 | 0.069029 | 0.077700 | 0.734134 | 0.066716 | 0.077700 | 0.637387 |\n",
    "|  2 | 102758375 | 0.277524 | 0.764200 | 0.138228 | 0.145250 | 0.733049 | 0.142899 | 0.145250 | 0.636140 |\n",
    "|  3 | 102758375 | 0.278512 | 0.770100 | 0.119809 | 0.123950 | 0.732739 | 0.125409 | 0.123950 | 0.632471 |\n",
    "|  4 | 102758375 | 0.278240 | 0.764150 | 0.095165 | 0.102700 | 0.732373 | 0.098505 | 0.102700 | 0.630341 |\n",
    "|  5 | 102758375 | 0.284441 | 0.763200 | 0.074636 | 0.077600 | 0.729158 | 0.077518 | 0.077600 | 0.619431 |\n",
    "|  6 | 102758375 | 0.275399 | 0.774150 | 0.118619 | 0.124000 | 0.734071 | 0.118853 | 0.124000 | 0.640756 |\n",
    "|  7 | 102758375 | 0.302031 | 0.742150 | 0.116881 | 0.123550 | 0.713664 | 0.121963 | 0.123550 | 0.605184 |\n",
    "|  8 | 102758375 | 0.277821 | 0.765100 | 0.100481 | 0.112100 | 0.732227 | 0.098190 | 0.112100 | 0.634336 |\n",
    "|  9 | 102758375 | 0.279416 | 0.768800 | 0.075536 | 0.075800 | 0.732158 | 0.077696 | 0.075800 | 0.627847 |\n",
    "| 10 | Average   | 0.281197 | 0.764360 | 0.100366 | 0.106205 | 0.730420 | 0.102963 | 0.106205 | 0.629108 |\n",
    "CPU times: user 21.4 s, sys: 7.06 s, total: 28.5 s\n",
    "Wall time: 7.18 s\n",
    "\n",
    "dim : 6\n",
    "\n",
    "|    | seed      |        E |        P |       F1 |      ACC |      NMI |     PREC |      REC |      ARI |\n",
    "|----|-----------|----------|----------|----------|----------|----------|----------|----------|----------|\n",
    "|  0 | 102758375 | 0.290102 | 0.763400 | 0.121379 | 0.121450 | 0.716668 | 0.125602 | 0.121450 | 0.634751 |\n",
    "|  1 | 102758375 | 0.289881 | 0.763200 | 0.073071 | 0.075850 | 0.716801 | 0.073154 | 0.075850 | 0.630876 |\n",
    "|  2 | 102758375 | 0.290499 | 0.761100 | 0.132062 | 0.133500 | 0.715696 | 0.134442 | 0.133500 | 0.634909 |\n",
    "|  3 | 102758375 | 0.288695 | 0.764150 | 0.095413 | 0.098150 | 0.717387 | 0.095284 | 0.098150 | 0.634717 |\n",
    "|  4 | 102758375 | 0.293103 | 0.758750 | 0.124142 | 0.126900 | 0.715118 | 0.127762 | 0.126900 | 0.627984 |\n",
    "|  5 | 102758375 | 0.289417 | 0.762350 | 0.100434 | 0.099700 | 0.717925 | 0.106166 | 0.099700 | 0.630034 |\n",
    "|  6 | 102758375 | 0.289903 | 0.763300 | 0.145624 | 0.148700 | 0.716421 | 0.149754 | 0.148700 | 0.632362 |\n",
    "|  7 | 102758375 | 0.337331 | 0.688300 | 0.098746 | 0.100600 | 0.673209 | 0.105153 | 0.100600 | 0.583970 |\n",
    "|  8 | 102758375 | 0.290753 | 0.762650 | 0.080585 | 0.080400 | 0.717223 | 0.086493 | 0.080400 | 0.628180 |\n",
    "|  9 | 102758375 | 0.290330 | 0.762950 | 0.071886 | 0.069750 | 0.716495 | 0.078104 | 0.069750 | 0.634831 |\n",
    "| 10 | Average   | 0.295001 | 0.755015 | 0.104334 | 0.105500 | 0.712294 | 0.108191 | 0.105500 | 0.627261 |\n",
    "\n",
    "CPU times: user 56.9 s, sys: 31.1 s, total: 1min 28s\n",
    "Wall time: 15 s"
   ]
  },
  {
   "cell_type": "code",
   "execution_count": 5,
   "metadata": {},
   "outputs": [
    {
     "name": "stderr",
     "output_type": "stream",
     "text": [
      "  0%|          | 0/1 [00:09<?, ?it/s]\n"
     ]
    },
    {
     "ename": "MemoryError",
     "evalue": "Unable to allocate 6.71 GiB for an array with shape (30000, 30000) and data type float64",
     "output_type": "error",
     "traceback": [
      "\u001b[0;31m---------------------------------------------------------------------------\u001b[0m",
      "\u001b[0;31mMemoryError\u001b[0m                               Traceback (most recent call last)",
      "\u001b[0;32m<ipython-input-5-c64292db9f64>\u001b[0m in \u001b[0;36m<module>\u001b[0;34m\u001b[0m\n\u001b[0;32m----> 1\u001b[0;31m \u001b[0mperform_evaluate_runs\u001b[0m\u001b[0;34m(\u001b[0m\u001b[0;34m'NusWide'\u001b[0m\u001b[0;34m,\u001b[0m \u001b[0membDim\u001b[0m\u001b[0;34m=\u001b[0m\u001b[0;36m5\u001b[0m\u001b[0;34m,\u001b[0m \u001b[0mkernelFn\u001b[0m\u001b[0;34m=\u001b[0m\u001b[0;34m'cosine'\u001b[0m\u001b[0;34m)\u001b[0m \u001b[0;31m# no important difference with the default thresold\u001b[0m\u001b[0;34m\u001b[0m\u001b[0;34m\u001b[0m\u001b[0m\n\u001b[0m",
      "\u001b[0;32m<ipython-input-4-6c58f3000f34>\u001b[0m in \u001b[0;36mperform_evaluate_runs\u001b[0;34m(dsDirPath, nruns, threshold, embDim, kernelFn)\u001b[0m\n\u001b[1;32m     31\u001b[0m \u001b[0;34m\u001b[0m\u001b[0m\n\u001b[1;32m     32\u001b[0m         \u001b[0;31m# builds the embedded vectors\u001b[0m\u001b[0;34m\u001b[0m\u001b[0;34m\u001b[0m\u001b[0;34m\u001b[0m\u001b[0m\n\u001b[0;32m---> 33\u001b[0;31m         \u001b[0membedding\u001b[0m \u001b[0;34m=\u001b[0m \u001b[0mspectral_embedding\u001b[0m\u001b[0;34m(\u001b[0m\u001b[0mA\u001b[0m\u001b[0;34m,\u001b[0m \u001b[0mn_components\u001b[0m\u001b[0;34m=\u001b[0m\u001b[0membDim\u001b[0m\u001b[0;34m,\u001b[0m \u001b[0mnorm_laplacian\u001b[0m\u001b[0;34m=\u001b[0m\u001b[0;32mTrue\u001b[0m\u001b[0;34m,\u001b[0m \u001b[0mdrop_first\u001b[0m\u001b[0;34m=\u001b[0m\u001b[0;32mTrue\u001b[0m\u001b[0;34m,\u001b[0m \u001b[0meigen_solver\u001b[0m\u001b[0;34m=\u001b[0m\u001b[0;34m'amg'\u001b[0m\u001b[0;34m)\u001b[0m\u001b[0;34m\u001b[0m\u001b[0;34m\u001b[0m\u001b[0m\n\u001b[0m\u001b[1;32m     34\u001b[0m \u001b[0;34m\u001b[0m\u001b[0m\n\u001b[1;32m     35\u001b[0m         \u001b[0;31m#spEmbMod = SpectralEmbedding(n_components=20, affinity='nearest_neighbors', n_jobs=4, eigen_solver='arpack', random_state=runSeed)\u001b[0m\u001b[0;34m\u001b[0m\u001b[0;34m\u001b[0m\u001b[0;34m\u001b[0m\u001b[0m\n",
      "\u001b[0;32m~/.local/share/virtualenvs/Multiview-clustering-VKrFrK5Y/lib/python3.7/site-packages/sklearn/utils/validation.py\u001b[0m in \u001b[0;36minner_f\u001b[0;34m(*args, **kwargs)\u001b[0m\n\u001b[1;32m     61\u001b[0m             \u001b[0mextra_args\u001b[0m \u001b[0;34m=\u001b[0m \u001b[0mlen\u001b[0m\u001b[0;34m(\u001b[0m\u001b[0margs\u001b[0m\u001b[0;34m)\u001b[0m \u001b[0;34m-\u001b[0m \u001b[0mlen\u001b[0m\u001b[0;34m(\u001b[0m\u001b[0mall_args\u001b[0m\u001b[0;34m)\u001b[0m\u001b[0;34m\u001b[0m\u001b[0;34m\u001b[0m\u001b[0m\n\u001b[1;32m     62\u001b[0m             \u001b[0;32mif\u001b[0m \u001b[0mextra_args\u001b[0m \u001b[0;34m<=\u001b[0m \u001b[0;36m0\u001b[0m\u001b[0;34m:\u001b[0m\u001b[0;34m\u001b[0m\u001b[0;34m\u001b[0m\u001b[0m\n\u001b[0;32m---> 63\u001b[0;31m                 \u001b[0;32mreturn\u001b[0m \u001b[0mf\u001b[0m\u001b[0;34m(\u001b[0m\u001b[0;34m*\u001b[0m\u001b[0margs\u001b[0m\u001b[0;34m,\u001b[0m \u001b[0;34m**\u001b[0m\u001b[0mkwargs\u001b[0m\u001b[0;34m)\u001b[0m\u001b[0;34m\u001b[0m\u001b[0;34m\u001b[0m\u001b[0m\n\u001b[0m\u001b[1;32m     64\u001b[0m \u001b[0;34m\u001b[0m\u001b[0m\n\u001b[1;32m     65\u001b[0m             \u001b[0;31m# extra_args > 0\u001b[0m\u001b[0;34m\u001b[0m\u001b[0;34m\u001b[0m\u001b[0;34m\u001b[0m\u001b[0m\n",
      "\u001b[0;32m~/.local/share/virtualenvs/Multiview-clustering-VKrFrK5Y/lib/python3.7/site-packages/sklearn/manifold/_spectral_embedding.py\u001b[0m in \u001b[0;36mspectral_embedding\u001b[0;34m(adjacency, n_components, eigen_solver, random_state, eigen_tol, norm_laplacian, drop_first)\u001b[0m\n\u001b[1;32m    219\u001b[0m       \u001b[0mhttps\u001b[0m\u001b[0;34m:\u001b[0m\u001b[0;34m//\u001b[0m\u001b[0mdoi\u001b[0m\u001b[0;34m.\u001b[0m\u001b[0morg\u001b[0m\u001b[0;34m/\u001b[0m\u001b[0;36m10.1137\u001b[0m\u001b[0;34m%\u001b[0m\u001b[0;36m2\u001b[0m\u001b[0mFS1064827500366124\u001b[0m\u001b[0;34m\u001b[0m\u001b[0;34m\u001b[0m\u001b[0m\n\u001b[1;32m    220\u001b[0m     \"\"\"\n\u001b[0;32m--> 221\u001b[0;31m     \u001b[0madjacency\u001b[0m \u001b[0;34m=\u001b[0m \u001b[0mcheck_symmetric\u001b[0m\u001b[0;34m(\u001b[0m\u001b[0madjacency\u001b[0m\u001b[0;34m)\u001b[0m\u001b[0;34m\u001b[0m\u001b[0;34m\u001b[0m\u001b[0m\n\u001b[0m\u001b[1;32m    222\u001b[0m \u001b[0;34m\u001b[0m\u001b[0m\n\u001b[1;32m    223\u001b[0m     \u001b[0;32mtry\u001b[0m\u001b[0;34m:\u001b[0m\u001b[0;34m\u001b[0m\u001b[0;34m\u001b[0m\u001b[0m\n",
      "\u001b[0;32m~/.local/share/virtualenvs/Multiview-clustering-VKrFrK5Y/lib/python3.7/site-packages/sklearn/utils/validation.py\u001b[0m in \u001b[0;36minner_f\u001b[0;34m(*args, **kwargs)\u001b[0m\n\u001b[1;32m     61\u001b[0m             \u001b[0mextra_args\u001b[0m \u001b[0;34m=\u001b[0m \u001b[0mlen\u001b[0m\u001b[0;34m(\u001b[0m\u001b[0margs\u001b[0m\u001b[0;34m)\u001b[0m \u001b[0;34m-\u001b[0m \u001b[0mlen\u001b[0m\u001b[0;34m(\u001b[0m\u001b[0mall_args\u001b[0m\u001b[0;34m)\u001b[0m\u001b[0;34m\u001b[0m\u001b[0;34m\u001b[0m\u001b[0m\n\u001b[1;32m     62\u001b[0m             \u001b[0;32mif\u001b[0m \u001b[0mextra_args\u001b[0m \u001b[0;34m<=\u001b[0m \u001b[0;36m0\u001b[0m\u001b[0;34m:\u001b[0m\u001b[0;34m\u001b[0m\u001b[0;34m\u001b[0m\u001b[0m\n\u001b[0;32m---> 63\u001b[0;31m                 \u001b[0;32mreturn\u001b[0m \u001b[0mf\u001b[0m\u001b[0;34m(\u001b[0m\u001b[0;34m*\u001b[0m\u001b[0margs\u001b[0m\u001b[0;34m,\u001b[0m \u001b[0;34m**\u001b[0m\u001b[0mkwargs\u001b[0m\u001b[0;34m)\u001b[0m\u001b[0;34m\u001b[0m\u001b[0;34m\u001b[0m\u001b[0m\n\u001b[0m\u001b[1;32m     64\u001b[0m \u001b[0;34m\u001b[0m\u001b[0m\n\u001b[1;32m     65\u001b[0m             \u001b[0;31m# extra_args > 0\u001b[0m\u001b[0;34m\u001b[0m\u001b[0;34m\u001b[0m\u001b[0;34m\u001b[0m\u001b[0m\n",
      "\u001b[0;32m~/.local/share/virtualenvs/Multiview-clustering-VKrFrK5Y/lib/python3.7/site-packages/sklearn/utils/validation.py\u001b[0m in \u001b[0;36mcheck_symmetric\u001b[0;34m(array, tol, raise_warning, raise_exception)\u001b[0m\n\u001b[1;32m    957\u001b[0m         \u001b[0msymmetric\u001b[0m \u001b[0;34m=\u001b[0m \u001b[0mnp\u001b[0m\u001b[0;34m.\u001b[0m\u001b[0mall\u001b[0m\u001b[0;34m(\u001b[0m\u001b[0mabs\u001b[0m\u001b[0;34m(\u001b[0m\u001b[0mdiff\u001b[0m\u001b[0;34m.\u001b[0m\u001b[0mdata\u001b[0m\u001b[0;34m)\u001b[0m \u001b[0;34m<\u001b[0m \u001b[0mtol\u001b[0m\u001b[0;34m)\u001b[0m\u001b[0;34m\u001b[0m\u001b[0;34m\u001b[0m\u001b[0m\n\u001b[1;32m    958\u001b[0m     \u001b[0;32melse\u001b[0m\u001b[0;34m:\u001b[0m\u001b[0;34m\u001b[0m\u001b[0;34m\u001b[0m\u001b[0m\n\u001b[0;32m--> 959\u001b[0;31m         \u001b[0msymmetric\u001b[0m \u001b[0;34m=\u001b[0m \u001b[0mnp\u001b[0m\u001b[0;34m.\u001b[0m\u001b[0mallclose\u001b[0m\u001b[0;34m(\u001b[0m\u001b[0marray\u001b[0m\u001b[0;34m,\u001b[0m \u001b[0marray\u001b[0m\u001b[0;34m.\u001b[0m\u001b[0mT\u001b[0m\u001b[0;34m,\u001b[0m \u001b[0matol\u001b[0m\u001b[0;34m=\u001b[0m\u001b[0mtol\u001b[0m\u001b[0;34m)\u001b[0m\u001b[0;34m\u001b[0m\u001b[0;34m\u001b[0m\u001b[0m\n\u001b[0m\u001b[1;32m    960\u001b[0m \u001b[0;34m\u001b[0m\u001b[0m\n\u001b[1;32m    961\u001b[0m     \u001b[0;32mif\u001b[0m \u001b[0;32mnot\u001b[0m \u001b[0msymmetric\u001b[0m\u001b[0;34m:\u001b[0m\u001b[0;34m\u001b[0m\u001b[0;34m\u001b[0m\u001b[0m\n",
      "\u001b[0;32m<__array_function__ internals>\u001b[0m in \u001b[0;36mallclose\u001b[0;34m(*args, **kwargs)\u001b[0m\n",
      "\u001b[0;32m~/.local/share/virtualenvs/Multiview-clustering-VKrFrK5Y/lib/python3.7/site-packages/numpy/core/numeric.py\u001b[0m in \u001b[0;36mallclose\u001b[0;34m(a, b, rtol, atol, equal_nan)\u001b[0m\n\u001b[1;32m   2187\u001b[0m \u001b[0;34m\u001b[0m\u001b[0m\n\u001b[1;32m   2188\u001b[0m     \"\"\"\n\u001b[0;32m-> 2189\u001b[0;31m     \u001b[0mres\u001b[0m \u001b[0;34m=\u001b[0m \u001b[0mall\u001b[0m\u001b[0;34m(\u001b[0m\u001b[0misclose\u001b[0m\u001b[0;34m(\u001b[0m\u001b[0ma\u001b[0m\u001b[0;34m,\u001b[0m \u001b[0mb\u001b[0m\u001b[0;34m,\u001b[0m \u001b[0mrtol\u001b[0m\u001b[0;34m=\u001b[0m\u001b[0mrtol\u001b[0m\u001b[0;34m,\u001b[0m \u001b[0matol\u001b[0m\u001b[0;34m=\u001b[0m\u001b[0matol\u001b[0m\u001b[0;34m,\u001b[0m \u001b[0mequal_nan\u001b[0m\u001b[0;34m=\u001b[0m\u001b[0mequal_nan\u001b[0m\u001b[0;34m)\u001b[0m\u001b[0;34m)\u001b[0m\u001b[0;34m\u001b[0m\u001b[0;34m\u001b[0m\u001b[0m\n\u001b[0m\u001b[1;32m   2190\u001b[0m     \u001b[0;32mreturn\u001b[0m \u001b[0mbool\u001b[0m\u001b[0;34m(\u001b[0m\u001b[0mres\u001b[0m\u001b[0;34m)\u001b[0m\u001b[0;34m\u001b[0m\u001b[0;34m\u001b[0m\u001b[0m\n\u001b[1;32m   2191\u001b[0m \u001b[0;34m\u001b[0m\u001b[0m\n",
      "\u001b[0;32m<__array_function__ internals>\u001b[0m in \u001b[0;36misclose\u001b[0;34m(*args, **kwargs)\u001b[0m\n",
      "\u001b[0;32m~/.local/share/virtualenvs/Multiview-clustering-VKrFrK5Y/lib/python3.7/site-packages/numpy/core/numeric.py\u001b[0m in \u001b[0;36misclose\u001b[0;34m(a, b, rtol, atol, equal_nan)\u001b[0m\n\u001b[1;32m   2288\u001b[0m     \u001b[0myfin\u001b[0m \u001b[0;34m=\u001b[0m \u001b[0misfinite\u001b[0m\u001b[0;34m(\u001b[0m\u001b[0my\u001b[0m\u001b[0;34m)\u001b[0m\u001b[0;34m\u001b[0m\u001b[0;34m\u001b[0m\u001b[0m\n\u001b[1;32m   2289\u001b[0m     \u001b[0;32mif\u001b[0m \u001b[0mall\u001b[0m\u001b[0;34m(\u001b[0m\u001b[0mxfin\u001b[0m\u001b[0;34m)\u001b[0m \u001b[0;32mand\u001b[0m \u001b[0mall\u001b[0m\u001b[0;34m(\u001b[0m\u001b[0myfin\u001b[0m\u001b[0;34m)\u001b[0m\u001b[0;34m:\u001b[0m\u001b[0;34m\u001b[0m\u001b[0;34m\u001b[0m\u001b[0m\n\u001b[0;32m-> 2290\u001b[0;31m         \u001b[0;32mreturn\u001b[0m \u001b[0mwithin_tol\u001b[0m\u001b[0;34m(\u001b[0m\u001b[0mx\u001b[0m\u001b[0;34m,\u001b[0m \u001b[0my\u001b[0m\u001b[0;34m,\u001b[0m \u001b[0matol\u001b[0m\u001b[0;34m,\u001b[0m \u001b[0mrtol\u001b[0m\u001b[0;34m)\u001b[0m\u001b[0;34m\u001b[0m\u001b[0;34m\u001b[0m\u001b[0m\n\u001b[0m\u001b[1;32m   2291\u001b[0m     \u001b[0;32melse\u001b[0m\u001b[0;34m:\u001b[0m\u001b[0;34m\u001b[0m\u001b[0;34m\u001b[0m\u001b[0m\n\u001b[1;32m   2292\u001b[0m         \u001b[0mfinite\u001b[0m \u001b[0;34m=\u001b[0m \u001b[0mxfin\u001b[0m \u001b[0;34m&\u001b[0m \u001b[0myfin\u001b[0m\u001b[0;34m\u001b[0m\u001b[0;34m\u001b[0m\u001b[0m\n",
      "\u001b[0;32m~/.local/share/virtualenvs/Multiview-clustering-VKrFrK5Y/lib/python3.7/site-packages/numpy/core/numeric.py\u001b[0m in \u001b[0;36mwithin_tol\u001b[0;34m(x, y, atol, rtol)\u001b[0m\n\u001b[1;32m   2274\u001b[0m     \u001b[0;32mdef\u001b[0m \u001b[0mwithin_tol\u001b[0m\u001b[0;34m(\u001b[0m\u001b[0mx\u001b[0m\u001b[0;34m,\u001b[0m \u001b[0my\u001b[0m\u001b[0;34m,\u001b[0m \u001b[0matol\u001b[0m\u001b[0;34m,\u001b[0m \u001b[0mrtol\u001b[0m\u001b[0;34m)\u001b[0m\u001b[0;34m:\u001b[0m\u001b[0;34m\u001b[0m\u001b[0;34m\u001b[0m\u001b[0m\n\u001b[1;32m   2275\u001b[0m         \u001b[0;32mwith\u001b[0m \u001b[0merrstate\u001b[0m\u001b[0;34m(\u001b[0m\u001b[0minvalid\u001b[0m\u001b[0;34m=\u001b[0m\u001b[0;34m'ignore'\u001b[0m\u001b[0;34m)\u001b[0m\u001b[0;34m:\u001b[0m\u001b[0;34m\u001b[0m\u001b[0;34m\u001b[0m\u001b[0m\n\u001b[0;32m-> 2276\u001b[0;31m             \u001b[0;32mreturn\u001b[0m \u001b[0mless_equal\u001b[0m\u001b[0;34m(\u001b[0m\u001b[0mabs\u001b[0m\u001b[0;34m(\u001b[0m\u001b[0mx\u001b[0m\u001b[0;34m-\u001b[0m\u001b[0my\u001b[0m\u001b[0;34m)\u001b[0m\u001b[0;34m,\u001b[0m \u001b[0matol\u001b[0m \u001b[0;34m+\u001b[0m \u001b[0mrtol\u001b[0m \u001b[0;34m*\u001b[0m \u001b[0mabs\u001b[0m\u001b[0;34m(\u001b[0m\u001b[0my\u001b[0m\u001b[0;34m)\u001b[0m\u001b[0;34m)\u001b[0m\u001b[0;34m\u001b[0m\u001b[0;34m\u001b[0m\u001b[0m\n\u001b[0m\u001b[1;32m   2277\u001b[0m \u001b[0;34m\u001b[0m\u001b[0m\n\u001b[1;32m   2278\u001b[0m     \u001b[0mx\u001b[0m \u001b[0;34m=\u001b[0m \u001b[0masanyarray\u001b[0m\u001b[0;34m(\u001b[0m\u001b[0ma\u001b[0m\u001b[0;34m)\u001b[0m\u001b[0;34m\u001b[0m\u001b[0;34m\u001b[0m\u001b[0m\n",
      "\u001b[0;31mMemoryError\u001b[0m: Unable to allocate 6.71 GiB for an array with shape (30000, 30000) and data type float64"
     ]
    }
   ],
   "source": [
    "perform_evaluate_runs('NusWide', embDim=5, kernelFn='cosine') # no important difference with the default thresold"
   ]
  },
  {
   "cell_type": "markdown",
   "metadata": {},
   "source": [
    "---"
   ]
  },
  {
   "cell_type": "code",
   "execution_count": 29,
   "metadata": {},
   "outputs": [
    {
     "data": {
      "text/plain": [
       "<685x15 sparse matrix of type '<class 'numpy.float64'>'\n",
       "\twith 1453 stored elements in Compressed Sparse Row format>"
      ]
     },
     "execution_count": 29,
     "metadata": {},
     "output_type": "execute_result"
    }
   ],
   "source": [
    "dsDirPath = 'BBC-seg4'\n",
    "simFname = \"{0}/{1}/{2}\".format(path, dsDirPath, 'simmatrix_DS_Nov262020.182009_csr.npy')\n",
    "trueLblsFname = \"{0}/{1}/{2}\".format(path, dsDirPath, 'labels.true')\n",
    "trueL = getLabelsFromFile(trueLblsFname)\n",
    "D = _loadSparseCSRFromDisk(simFname)\n",
    "D"
   ]
  },
  {
   "cell_type": "code",
   "execution_count": 30,
   "metadata": {},
   "outputs": [
    {
     "data": {
      "text/plain": [
       "(15, 15)"
      ]
     },
     "execution_count": 30,
     "metadata": {},
     "output_type": "execute_result"
    }
   ],
   "source": [
    "simClus = getSimClus(D)\n",
    "simClus.shape"
   ]
  },
  {
   "cell_type": "code",
   "execution_count": 31,
   "metadata": {},
   "outputs": [
    {
     "name": "stdout",
     "output_type": "stream",
     "text": [
      "CPU times: user 28.7 s, sys: 83.2 ms, total: 28.8 s\n",
      "Wall time: 28.9 s\n"
     ]
    }
   ],
   "source": [
    "%%time\n",
    "aSRS = compute_aSRS(D)"
   ]
  },
  {
   "cell_type": "markdown",
   "metadata": {},
   "source": [
    "Obtaining the graph embedding"
   ]
  },
  {
   "cell_type": "code",
   "execution_count": 116,
   "metadata": {},
   "outputs": [],
   "source": [
    "from spectral_embedding import *\n",
    "\n",
    "spectralEmb = SpectralEmbedding(embedding_dimension = 30, node_weights = 'degree')\n",
    "spectralEmb.fit(aSRS)\n",
    "\n",
    "embedding = spectralEmb.embedding_\n",
    "embedding.shape\n",
    "\n",
    "from sklearn.cluster import KMeans, MiniBatchKMeans\n",
    "\n",
    "n_clusters = 5\n",
    "\n",
    "kmeans = MiniBatchKMeans(n_clusters)\n",
    "kmeans.fit(embedding)\n",
    "pred_labels = list(kmeans.labels_)\n",
    "np.unique(pred_labels, return_counts=True)\n",
    "\n",
    "from clustering_evaluation import computeEvaluationMeasures, MEASURES\n",
    "\n",
    "perf = computeEvaluationMeasures(trueL, pred_labels) \n",
    "perf"
   ]
  },
  {
   "cell_type": "code",
   "execution_count": 56,
   "metadata": {},
   "outputs": [],
   "source": [
    "from sklearn.manifold import SpectralEmbedding, spectral_embedding, LocallyLinearEmbedding\n",
    "from clustering_evaluation import computeEvaluationMeasures, MEASURES\n",
    "from sklearn.cluster import MiniBatchKMeans"
   ]
  },
  {
   "cell_type": "code",
   "execution_count": 33,
   "metadata": {},
   "outputs": [
    {
     "name": "stdout",
     "output_type": "stream",
     "text": [
      "CPU times: user 2min 10s, sys: 1min 59s, total: 4min 9s\n",
      "Wall time: 33.7 s\n"
     ]
    },
    {
     "data": {
      "text/plain": [
       "(685, 20)"
      ]
     },
     "execution_count": 33,
     "metadata": {},
     "output_type": "execute_result"
    }
   ],
   "source": [
    "%%time\n",
    "# builds the embedded vectors\n",
    "embedding = SpectralEmbedding(n_components=20, affinity='precomputed', n_jobs=4)\n",
    "D_transformed = embedding.fit_transform(csr_matrix(aSRS))\n",
    "D_transformed.shape"
   ]
  },
  {
   "cell_type": "code",
   "execution_count": 23,
   "metadata": {},
   "outputs": [
    {
     "data": {
      "text/plain": [
       "{'E': 0.2698309799979815,\n",
       " 'P': 0.8934306569343065,\n",
       " 'F1': 0.034864843556005734,\n",
       " 'ACC': 0.043795620437956206,\n",
       " 'NMI': 0.720048774881849,\n",
       " 'PREC': 0.031503791390491524,\n",
       " 'REC': 0.043795620437956206,\n",
       " 'ARI': 0.7541376286640216}"
      ]
     },
     "execution_count": 23,
     "metadata": {},
     "output_type": "execute_result"
    }
   ],
   "source": [
    "# clustering the embedded vectors\n",
    "n_clusters = 5\n",
    "\n",
    "kmeans = MiniBatchKMeans(n_clusters)\n",
    "kmeans.fit(D_transformed)\n",
    "pred_labels = list(kmeans.labels_)\n",
    "np.unique(pred_labels, return_counts=True)\n",
    "\n",
    "# evaluates\n",
    "perf = computeEvaluationMeasures(trueL, pred_labels) \n",
    "perf"
   ]
  },
  {
   "cell_type": "code",
   "execution_count": 72,
   "metadata": {},
   "outputs": [],
   "source": [
    "D_transformed = spectral_embedding(aSRS, n_components=4)"
   ]
  },
  {
   "cell_type": "code",
   "execution_count": 73,
   "metadata": {},
   "outputs": [
    {
     "name": "stdout",
     "output_type": "stream",
     "text": [
      "|        E |        P |        F1 |       ACC |      NMI |      PREC |       REC |      ARI |\n",
      "|----------|----------|-----------|-----------|----------|-----------|-----------|----------|\n",
      "| 0.269831 | 0.893431 | 0.0272362 | 0.0364964 | 0.720049 | 0.0247993 | 0.0364964 | 0.754138 |\n",
      "| 0.269831 | 0.893431 | 0.0348648 | 0.0437956 | 0.720049 | 0.0315038 | 0.0437956 | 0.754138 |\n",
      "| 0.269831 | 0.893431 | 0.0183744 | 0.0189781 | 0.720049 | 0.0196187 | 0.0189781 | 0.754138 |\n",
      "| 0.269831 | 0.893431 | 0.119847  | 0.124088  | 0.720049 | 0.116915  | 0.124088  | 0.754138 |\n",
      "| 0.269831 | 0.893431 | 0.395171  | 0.386861  | 0.720049 | 0.407427  | 0.386861  | 0.754138 |\n",
      "| 0.422587 | 0.729927 | 0.180346  | 0.157664  | 0.602769 | 0.312192  | 0.157664  | 0.48873  |\n",
      "| 0.269831 | 0.893431 | 0.0269503 | 0.0321168 | 0.720049 | 0.0255184 | 0.0321168 | 0.754138 |\n",
      "| 0.269831 | 0.893431 | 0.572585  | 0.581022  | 0.720049 | 0.568539  | 0.581022  | 0.754138 |\n",
      "| 0.264828 | 0.89635  | 0.242243  | 0.240876  | 0.724914 | 0.247457  | 0.240876  | 0.761245 |\n",
      "| 0.269831 | 0.893431 | 0.236269  | 0.230657  | 0.720049 | 0.246885  | 0.230657  | 0.754138 |\n",
      "| 0.284606 | 0.877372 | 0.185389  | 0.185255  | 0.708807 | 0.200086  | 0.185255  | 0.728308 |\n"
     ]
    }
   ],
   "source": [
    "# clustering the embedded vectors\n",
    "n_clusters = 5\n",
    "results = []\n",
    "for i in range(10):\n",
    "    kmeans = MiniBatchKMeans(n_clusters)\n",
    "    kmeans.fit(D_transformed)\n",
    "    pred_labels = list(kmeans.labels_)\n",
    "    np.unique(pred_labels, return_counts=True)\n",
    "\n",
    "    # evaluates\n",
    "    perf = computeEvaluationMeasures(trueL, pred_labels)\n",
    "    results.append([perf[m] for m in MEASURES])    \n",
    "\n",
    "results.append(list(np.mean(results, axis=0)))\n",
    "\n",
    "print(tabulate(results, headers=MEASURES, tablefmt='github'))"
   ]
  },
  {
   "cell_type": "code",
   "execution_count": 64,
   "metadata": {},
   "outputs": [
    {
     "data": {
      "text/plain": [
       "array([0.40443594, 0.74306569, 0.20445587, 0.23781022, 0.6085907 ,\n",
       "       0.2044238 , 0.23781022, 0.53578728])"
      ]
     },
     "execution_count": 64,
     "metadata": {},
     "output_type": "execute_result"
    }
   ],
   "source": []
  },
  {
   "cell_type": "code",
   "execution_count": 10,
   "metadata": {},
   "outputs": [
    {
     "data": {
      "text/plain": [
       "array([[0.80471619, 0.22661069, 0.70333301],\n",
       "       [1.21995249, 0.7524992 , 0.60835408],\n",
       "       [0.81638102, 0.21234497, 1.29083036],\n",
       "       [1.21960049, 1.22693506, 1.15690697]])"
      ]
     },
     "execution_count": 10,
     "metadata": {},
     "output_type": "execute_result"
    }
   ],
   "source": [
    "Sp = np.abs(np.random.randn(4,3))\n",
    "Sp"
   ]
  },
  {
   "cell_type": "code",
   "execution_count": 12,
   "metadata": {},
   "outputs": [
    {
     "data": {
      "text/plain": [
       "array([[1.        , 0.92883101, 0.95742643, 0.91179706],\n",
       "       [0.92883101, 1.        , 0.80838389, 0.96121347],\n",
       "       [0.95742643, 0.80838389, 1.        , 0.85678013],\n",
       "       [0.91179706, 0.96121347, 0.85678013, 1.        ]])"
      ]
     },
     "execution_count": 12,
     "metadata": {},
     "output_type": "execute_result"
    }
   ],
   "source": [
    "from sklearn.metrics.pairwise import pairwise_kernels\n",
    "\n",
    "pairwise_kernels(Sp, metric='cosine')"
   ]
  },
  {
   "cell_type": "code",
   "execution_count": 13,
   "metadata": {},
   "outputs": [
    {
     "data": {
      "text/plain": [
       "array([[1.        , 0.85841556, 0.89121976, 0.63159786],\n",
       "       [0.85841556, 1.        , 0.7357952 , 0.83917731],\n",
       "       [0.89121976, 0.7357952 , 1.        , 0.66810842],\n",
       "       [0.63159786, 0.83917731, 0.66810842, 1.        ]])"
      ]
     },
     "execution_count": 13,
     "metadata": {},
     "output_type": "execute_result"
    }
   ],
   "source": [
    "pairwise_kernels(Sp, metric='rbf')"
   ]
  },
  {
   "cell_type": "code",
   "execution_count": 15,
   "metadata": {},
   "outputs": [
    {
     "data": {
      "text/plain": [
       "array([[1.        , 0.70795984, 0.81507433, 0.53637189],\n",
       "       [0.70795984, 1.        , 0.58154477, 0.71097815],\n",
       "       [0.81507433, 0.58154477, 1.        , 0.59616112],\n",
       "       [0.53637189, 0.71097815, 0.59616112, 1.        ]])"
      ]
     },
     "execution_count": 15,
     "metadata": {},
     "output_type": "execute_result"
    }
   ],
   "source": [
    "pairwise_kernels(Sp, metric='laplacian')"
   ]
  },
  {
   "cell_type": "code",
   "execution_count": 16,
   "metadata": {},
   "outputs": [
    {
     "data": {
      "text/plain": [
       "array([[1.19359788, 1.5801154 , 1.61295827, 2.07315973],\n",
       "       [1.5801154 , 2.42463381, 1.94101739, 3.11493138],\n",
       "       [1.61295827, 1.94101739, 2.37781137, 2.74956282],\n",
       "       [2.07315973, 3.11493138, 2.74956282, 4.33122872]])"
      ]
     },
     "execution_count": 16,
     "metadata": {},
     "output_type": "execute_result"
    }
   ],
   "source": [
    "Sp.dot(Sp.T)"
   ]
  },
  {
   "cell_type": "code",
   "execution_count": null,
   "metadata": {},
   "outputs": [],
   "source": []
  }
 ],
 "metadata": {
  "kernelspec": {
   "display_name": "Python 3",
   "language": "python",
   "name": "python3"
  },
  "language_info": {
   "codemirror_mode": {
    "name": "ipython",
    "version": 3
   },
   "file_extension": ".py",
   "mimetype": "text/x-python",
   "name": "python",
   "nbconvert_exporter": "python",
   "pygments_lexer": "ipython3",
   "version": "3.7.3"
  }
 },
 "nbformat": 4,
 "nbformat_minor": 4
}
