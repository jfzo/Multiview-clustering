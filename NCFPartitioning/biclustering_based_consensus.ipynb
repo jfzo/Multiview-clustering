{
 "cells": [
  {
   "cell_type": "markdown",
   "metadata": {},
   "source": [
    "This version treats the soft-clustering info as a bipartite weighted graph and partitions it by following a spectral graph partitioning approach.\n",
    "\n",
    "**Cons** Slightly lower NMI values than the embedding approach.\n",
    "\n",
    "**Pros** Works for larger data (e.g. Reuters).\n",
    "\n",
    "```\n",
    "Dhillon, I. S. (2001, August). Co-clustering documents and words using bipartite spectral graph partitioning. In Proceedings of the seventh ACM SIGKDD international conference on Knowledge discovery and data mining (pp. 269-274).\n",
    "```\n",
    "\n",
    "http://citeseerx.ist.psu.edu/viewdoc/summary?doi=10.1.1.140.3011"
   ]
  },
  {
   "cell_type": "code",
   "execution_count": 1,
   "metadata": {},
   "outputs": [],
   "source": [
    "from scipy.sparse import lil_matrix, csr_matrix\n",
    "import numpy as np\n",
    "import glob\n",
    "from tabulate import tabulate\n",
    "from tqdm import tqdm\n",
    "import os\n",
    "from scipy.sparse import csr_matrix\n",
    "from sklearn.cluster import SpectralCoclustering\n",
    "from clustering_evaluation import computeEvaluationMeasures, MEASURES\n",
    "\n",
    "\n",
    "def getLabelsFromFile(fullPath):\n",
    "    v = np.loadtxt(fullPath, delimiter=',', dtype=np.int)\n",
    "    return v\n",
    "\n",
    "\n",
    "def detectPostfixesInDir(fullPath, dirName):\n",
    "    fnLst = glob.glob('{0}/{1}/*labels_*.out'.format(fullPath, dirName))\n",
    "    # labels_NCF_DS_\n",
    "    postFixes = [f.split(os.sep)[-1].replace('labels_NCF_DS_','').replace('.out','') for f in fnLst]\n",
    "    return postFixes"
   ]
  },
  {
   "cell_type": "code",
   "execution_count": 13,
   "metadata": {},
   "outputs": [],
   "source": [
    "def cocl_consensus(dsDirPath, nruns=10):\n",
    "    \"\"\"\n",
    "    precomputed_sim: Signals if the file with the soft-clustering based similarity matrix is already computed and stored.\n",
    "    \"\"\"\n",
    "    trueLblsFname = \"{0}/{1}/{2}\".format(path, dsDirPath, 'labels.true')\n",
    "    trueL = getLabelsFromFile(trueLblsFname)\n",
    "    postFixesDS = detectPostfixesInDir(path, dsDirPath)\n",
    "\n",
    "    dsresults = []\n",
    "    header = ['file']\n",
    "    header.extend(MEASURES)\n",
    "    np.random.seed(87009)\n",
    "    n_clusters = np.unique(trueL).shape[0]\n",
    "    runSeed = np.random.randint(0, high=2e8)\n",
    "    \n",
    "    t = tqdm(postFixesDS, leave=True)\n",
    "    \n",
    "    for runPostfix in t:\n",
    "        softClusFN = \"{0}/{1}/{2}{3}.out\".format(path, dsDirPath, 'simmatrix_DS_', runPostfix)\n",
    "        print(\"Opening soft-clustering matrix from {0}\".format(softClusFN))\n",
    "        #scM = csr_matrix(np.loadtxt(softClusFN, delimiter=',') )# soft-clustering matrix        \n",
    "        scM = np.loadtxt(softClusFN, delimiter=',') # doesn't affect because dot-sim doesn't change!\n",
    "        scM = csr_matrix(scM[:,~np.all(scM == 0, axis = 0)])\n",
    "        print(scM.shape)\n",
    "\n",
    "        \n",
    "        model = SpectralCoclustering(n_clusters=scM.shape[1], random_state=np.random.randint(0, high=2e8))\n",
    "        model.fit(scM)\n",
    "        pred_labels = list(model.row_labels_)\n",
    "\n",
    "        perf = computeEvaluationMeasures(trueL, pred_labels)\n",
    "        runRow = [runPostfix]\n",
    "        runRow.extend([perf[m] for m in MEASURES])\n",
    "        dsresults.append(runRow)\n",
    "        \n",
    "    #dsresults.append( ['Average'] + list(np.mean(dsresults, axis=0)[1:]) )\n",
    "    print(tabulate(dsresults, headers=header, tablefmt='github', floatfmt='.6f', showindex=True))"
   ]
  },
  {
   "cell_type": "code",
   "execution_count": 3,
   "metadata": {},
   "outputs": [],
   "source": [
    "path = '../stage1_results'"
   ]
  },
  {
   "cell_type": "code",
   "execution_count": 14,
   "metadata": {},
   "outputs": [
    {
     "name": "stderr",
     "output_type": "stream",
     "text": [
      " 20%|██        | 2/10 [00:00<00:00, 12.75it/s]"
     ]
    },
    {
     "name": "stdout",
     "output_type": "stream",
     "text": [
      "Opening soft-clustering matrix from ../stage1_results/BBC-seg2/simmatrix_DS_Jan022021.170037.out\n",
      "(2012, 5)\n",
      "Opening soft-clustering matrix from ../stage1_results/BBC-seg2/simmatrix_DS_Jan022021.170041.out\n",
      "(2012, 5)\n",
      "Opening soft-clustering matrix from ../stage1_results/BBC-seg2/simmatrix_DS_Jan022021.170045.out\n",
      "(2012, 5)"
     ]
    },
    {
     "name": "stderr",
     "output_type": "stream",
     "text": [
      "\r",
      " 40%|████      | 4/10 [00:00<00:00, 11.94it/s]"
     ]
    },
    {
     "name": "stdout",
     "output_type": "stream",
     "text": [
      "\n",
      "Opening soft-clustering matrix from ../stage1_results/BBC-seg2/simmatrix_DS_Jan022021.170049.out\n",
      "(2012, 5)\n",
      "Opening soft-clustering matrix from ../stage1_results/BBC-seg2/simmatrix_DS_Jan022021.170053.out\n",
      "(2012, 5)\n"
     ]
    },
    {
     "name": "stderr",
     "output_type": "stream",
     "text": [
      "\r",
      " 60%|██████    | 6/10 [00:00<00:00, 11.67it/s]"
     ]
    },
    {
     "name": "stdout",
     "output_type": "stream",
     "text": [
      "Opening soft-clustering matrix from ../stage1_results/BBC-seg2/simmatrix_DS_Jan022021.170058.out\n",
      "(2012, 5)\n",
      "Opening soft-clustering matrix from ../stage1_results/BBC-seg2/simmatrix_DS_Jan022021.170102.out\n",
      "(2012, 5)\n",
      "Opening soft-clustering matrix from ../stage1_results/BBC-seg2/simmatrix_DS_Jan022021.170106.out\n",
      "(2012, 5)"
     ]
    },
    {
     "name": "stderr",
     "output_type": "stream",
     "text": [
      "\r",
      " 80%|████████  | 8/10 [00:00<00:00, 11.57it/s]"
     ]
    },
    {
     "name": "stdout",
     "output_type": "stream",
     "text": [
      "\n",
      "Opening soft-clustering matrix from ../stage1_results/BBC-seg2/simmatrix_DS_Jan022021.170110.out\n",
      "(2012, 5)\n",
      "Opening soft-clustering matrix from ../stage1_results/BBC-seg2/simmatrix_DS_Jan022021.170115.out\n",
      "(2012, 5)\n"
     ]
    },
    {
     "name": "stderr",
     "output_type": "stream",
     "text": [
      "100%|██████████| 10/10 [00:00<00:00, 11.60it/s]"
     ]
    },
    {
     "name": "stdout",
     "output_type": "stream",
     "text": [
      "|    | file             |        E |        P |       F1 |      ACC |      NMI |     PREC |      REC |      ARI |\n",
      "|----|------------------|----------|----------|----------|----------|----------|----------|----------|----------|\n",
      "|  0 | Jan022021.170037 | 0.169009 | 0.940358 | 0.188427 | 0.194831 | 0.830196 | 0.182485 | 0.194831 | 0.855050 |\n",
      "|  1 | Jan022021.170041 | 0.169009 | 0.940358 | 0.013685 | 0.014414 | 0.830196 | 0.013131 | 0.014414 | 0.855050 |\n",
      "|  2 | Jan022021.170045 | 0.169009 | 0.940358 | 0.017935 | 0.018390 | 0.830196 | 0.017756 | 0.018390 | 0.855050 |\n",
      "|  3 | Jan022021.170049 | 0.169009 | 0.940358 | 0.006426 | 0.006461 | 0.830196 | 0.006482 | 0.006461 | 0.855050 |\n",
      "|  4 | Jan022021.170053 | 0.169009 | 0.940358 | 0.006228 | 0.006461 | 0.830196 | 0.006044 | 0.006461 | 0.855050 |\n",
      "|  5 | Jan022021.170058 | 0.169009 | 0.940358 | 0.028249 | 0.027833 | 0.830196 | 0.028840 | 0.027833 | 0.855050 |\n",
      "|  6 | Jan022021.170102 | 0.169009 | 0.940358 | 0.398286 | 0.394632 | 0.830196 | 0.402132 | 0.394632 | 0.855050 |\n",
      "|  7 | Jan022021.170106 | 0.169009 | 0.940358 | 0.028249 | 0.027833 | 0.830196 | 0.028840 | 0.027833 | 0.855050 |\n",
      "|  8 | Jan022021.170110 | 0.169009 | 0.940358 | 0.188427 | 0.194831 | 0.830196 | 0.182485 | 0.194831 | 0.855050 |\n",
      "|  9 | Jan022021.170115 | 0.169009 | 0.940358 | 0.017785 | 0.017396 | 0.830196 | 0.018417 | 0.017396 | 0.855050 |\n",
      "Wall time: 871 ms\n"
     ]
    },
    {
     "name": "stderr",
     "output_type": "stream",
     "text": [
      "\n"
     ]
    }
   ],
   "source": [
    "%%time\n",
    "cocl_consensus('BBC-seg2')"
   ]
  },
  {
   "cell_type": "code",
   "execution_count": 15,
   "metadata": {},
   "outputs": [
    {
     "name": "stderr",
     "output_type": "stream",
     "text": [
      " 20%|██        | 2/10 [00:00<00:00, 17.09it/s]"
     ]
    },
    {
     "name": "stdout",
     "output_type": "stream",
     "text": [
      "Opening soft-clustering matrix from ../stage1_results/BBC-seg3/simmatrix_DS_Jan022021.171003.out\n",
      "(1268, 5)\n",
      "Opening soft-clustering matrix from ../stage1_results/BBC-seg3/simmatrix_DS_Jan022021.171008.out\n",
      "(1268, 5)\n",
      "Opening soft-clustering matrix from ../stage1_results/BBC-seg3/simmatrix_DS_Jan022021.171012.out\n",
      "(1268, 5)\n",
      "Opening soft-clustering matrix from ../stage1_results/BBC-seg3/simmatrix_DS_Jan022021.171016.out\n",
      "(1268, 5)"
     ]
    },
    {
     "name": "stderr",
     "output_type": "stream",
     "text": [
      " 60%|██████    | 6/10 [00:00<00:00, 16.51it/s]"
     ]
    },
    {
     "name": "stdout",
     "output_type": "stream",
     "text": [
      "\n",
      "Opening soft-clustering matrix from ../stage1_results/BBC-seg3/simmatrix_DS_Jan022021.171020.out\n",
      "(1268, 5)\n",
      "Opening soft-clustering matrix from ../stage1_results/BBC-seg3/simmatrix_DS_Jan022021.171025.out\n",
      "(1268, 5)\n",
      "Opening soft-clustering matrix from ../stage1_results/BBC-seg3/simmatrix_DS_Jan022021.171029.out\n",
      "(1268, 5)"
     ]
    },
    {
     "name": "stderr",
     "output_type": "stream",
     "text": [
      "\r",
      " 80%|████████  | 8/10 [00:00<00:00, 16.91it/s]"
     ]
    },
    {
     "name": "stdout",
     "output_type": "stream",
     "text": [
      "\n",
      "Opening soft-clustering matrix from ../stage1_results/BBC-seg3/simmatrix_DS_Jan022021.171033.out\n",
      "(1268, 5)\n",
      "Opening soft-clustering matrix from ../stage1_results/BBC-seg3/simmatrix_DS_Jan022021.171037.out\n",
      "(1268, 5)\n",
      "Opening soft-clustering matrix from ../stage1_results/BBC-seg3/simmatrix_DS_Jan022021.171041.out\n",
      "(1268, 5)"
     ]
    },
    {
     "name": "stderr",
     "output_type": "stream",
     "text": [
      "100%|██████████| 10/10 [00:00<00:00, 16.42it/s]"
     ]
    },
    {
     "name": "stdout",
     "output_type": "stream",
     "text": [
      "\n",
      "|    | file             |        E |        P |       F1 |      ACC |      NMI |     PREC |      REC |      ARI |\n",
      "|----|------------------|----------|----------|----------|----------|----------|----------|----------|----------|\n",
      "|  0 | Jan022021.171003 | 0.297914 | 0.758675 | 0.151235 | 0.216877 | 0.753210 | 0.186323 | 0.216877 | 0.651198 |\n",
      "|  1 | Jan022021.171008 | 0.297914 | 0.758675 | 0.415817 | 0.481073 | 0.753210 | 0.451374 | 0.481073 | 0.651198 |\n",
      "|  2 | Jan022021.171012 | 0.298319 | 0.758675 | 0.013851 | 0.008675 | 0.749798 | 0.056147 | 0.008675 | 0.646488 |\n",
      "|  3 | Jan022021.171016 | 0.297914 | 0.758675 | 0.030039 | 0.022871 | 0.753210 | 0.098958 | 0.022871 | 0.651198 |\n",
      "|  4 | Jan022021.171020 | 0.297914 | 0.758675 | 0.030039 | 0.022871 | 0.753210 | 0.098958 | 0.022871 | 0.651198 |\n",
      "|  5 | Jan022021.171025 | 0.297914 | 0.758675 | 0.030039 | 0.022871 | 0.753210 | 0.098958 | 0.022871 | 0.651198 |\n",
      "|  6 | Jan022021.171029 | 0.297914 | 0.758675 | 0.146725 | 0.213722 | 0.753210 | 0.179339 | 0.213722 | 0.651198 |\n",
      "|  7 | Jan022021.171033 | 0.299291 | 0.758675 | 0.149558 | 0.216088 | 0.749845 | 0.165962 | 0.216088 | 0.647751 |\n",
      "|  8 | Jan022021.171037 | 0.297914 | 0.758675 | 0.030039 | 0.022871 | 0.753210 | 0.098958 | 0.022871 | 0.651198 |\n",
      "|  9 | Jan022021.171041 | 0.298319 | 0.758675 | 0.142457 | 0.210568 | 0.749798 | 0.150380 | 0.210568 | 0.646488 |\n",
      "Wall time: 618 ms\n"
     ]
    },
    {
     "name": "stderr",
     "output_type": "stream",
     "text": [
      "\n"
     ]
    }
   ],
   "source": [
    "%%time\n",
    "cocl_consensus('BBC-seg3')"
   ]
  },
  {
   "cell_type": "code",
   "execution_count": 16,
   "metadata": {},
   "outputs": [
    {
     "name": "stderr",
     "output_type": "stream",
     "text": [
      "\r",
      "  0%|          | 0/10 [00:00<?, ?it/s]"
     ]
    },
    {
     "name": "stdout",
     "output_type": "stream",
     "text": [
      "Opening soft-clustering matrix from ../stage1_results/Reuters/simmatrix_DS_Jan022021.224759.out\n",
      "(18758, 6)\n"
     ]
    },
    {
     "name": "stderr",
     "output_type": "stream",
     "text": [
      "\r",
      " 10%|█         | 1/10 [00:00<00:03,  2.70it/s]"
     ]
    },
    {
     "name": "stdout",
     "output_type": "stream",
     "text": [
      "Opening soft-clustering matrix from ../stage1_results/Reuters/simmatrix_DS_Jan022021.225448.out\n",
      "(18758, 6)\n"
     ]
    },
    {
     "name": "stderr",
     "output_type": "stream",
     "text": [
      "\r",
      " 20%|██        | 2/10 [00:00<00:02,  2.76it/s]"
     ]
    },
    {
     "name": "stdout",
     "output_type": "stream",
     "text": [
      "Opening soft-clustering matrix from ../stage1_results/Reuters/simmatrix_DS_Jan022021.230154.out\n",
      "(18758, 6)\n"
     ]
    },
    {
     "name": "stderr",
     "output_type": "stream",
     "text": [
      "\r",
      " 30%|███       | 3/10 [00:01<00:02,  2.77it/s]"
     ]
    },
    {
     "name": "stdout",
     "output_type": "stream",
     "text": [
      "Opening soft-clustering matrix from ../stage1_results/Reuters/simmatrix_DS_Jan022021.230903.out\n",
      "(18758, 6)\n"
     ]
    },
    {
     "name": "stderr",
     "output_type": "stream",
     "text": [
      "\r",
      " 40%|████      | 4/10 [00:01<00:02,  2.75it/s]"
     ]
    },
    {
     "name": "stdout",
     "output_type": "stream",
     "text": [
      "Opening soft-clustering matrix from ../stage1_results/Reuters/simmatrix_DS_Jan022021.231605.out\n",
      "(18758, 6)\n"
     ]
    },
    {
     "name": "stderr",
     "output_type": "stream",
     "text": [
      "\r",
      " 50%|█████     | 5/10 [00:01<00:01,  2.79it/s]"
     ]
    },
    {
     "name": "stdout",
     "output_type": "stream",
     "text": [
      "Opening soft-clustering matrix from ../stage1_results/Reuters/simmatrix_DS_Jan022021.232310.out\n",
      "(18758, 6)\n"
     ]
    },
    {
     "name": "stderr",
     "output_type": "stream",
     "text": [
      "\r",
      " 60%|██████    | 6/10 [00:02<00:01,  2.79it/s]"
     ]
    },
    {
     "name": "stdout",
     "output_type": "stream",
     "text": [
      "Opening soft-clustering matrix from ../stage1_results/Reuters/simmatrix_DS_Jan022021.233013.out\n",
      "(18758, 6)\n"
     ]
    },
    {
     "name": "stderr",
     "output_type": "stream",
     "text": [
      "\r",
      " 70%|███████   | 7/10 [00:02<00:01,  2.78it/s]"
     ]
    },
    {
     "name": "stdout",
     "output_type": "stream",
     "text": [
      "Opening soft-clustering matrix from ../stage1_results/Reuters/simmatrix_DS_Jan022021.233717.out\n",
      "(18758, 6)\n"
     ]
    },
    {
     "name": "stderr",
     "output_type": "stream",
     "text": [
      "\r",
      " 80%|████████  | 8/10 [00:02<00:00,  2.77it/s]"
     ]
    },
    {
     "name": "stdout",
     "output_type": "stream",
     "text": [
      "Opening soft-clustering matrix from ../stage1_results/Reuters/simmatrix_DS_Jan022021.234421.out\n",
      "(18758, 6)\n"
     ]
    },
    {
     "name": "stderr",
     "output_type": "stream",
     "text": [
      "\r",
      " 90%|█████████ | 9/10 [00:03<00:00,  2.79it/s]"
     ]
    },
    {
     "name": "stdout",
     "output_type": "stream",
     "text": [
      "Opening soft-clustering matrix from ../stage1_results/Reuters/simmatrix_DS_Jan022021.235122.out\n",
      "(18758, 6)\n"
     ]
    },
    {
     "name": "stderr",
     "output_type": "stream",
     "text": [
      "100%|██████████| 10/10 [00:03<00:00,  2.79it/s]"
     ]
    },
    {
     "name": "stdout",
     "output_type": "stream",
     "text": [
      "|    | file             |        E |        P |       F1 |      ACC |      NMI |     PREC |      REC |      ARI |\n",
      "|----|------------------|----------|----------|----------|----------|----------|----------|----------|----------|\n",
      "|  0 | Jan022021.224759 | 0.544396 | 0.650602 | 0.126893 | 0.157959 | 0.420185 | 0.142954 | 0.157959 | 0.349399 |\n",
      "|  1 | Jan022021.225448 | 0.544396 | 0.650602 | 0.113274 | 0.143512 | 0.420185 | 0.094659 | 0.143512 | 0.349399 |\n",
      "|  2 | Jan022021.230154 | 0.564636 | 0.635462 | 0.116046 | 0.112699 | 0.396329 | 0.150076 | 0.112699 | 0.341909 |\n",
      "|  3 | Jan022021.230903 | 0.544396 | 0.650602 | 0.030761 | 0.033639 | 0.420185 | 0.031427 | 0.033639 | 0.349399 |\n",
      "|  4 | Jan022021.231605 | 0.544396 | 0.650602 | 0.113274 | 0.143512 | 0.420185 | 0.094659 | 0.143512 | 0.349399 |\n",
      "|  5 | Jan022021.232310 | 0.544396 | 0.650602 | 0.097154 | 0.085670 | 0.420185 | 0.134117 | 0.085670 | 0.349399 |\n",
      "|  6 | Jan022021.233013 | 0.544396 | 0.650602 | 0.274615 | 0.290596 | 0.420185 | 0.366117 | 0.290596 | 0.349399 |\n",
      "|  7 | Jan022021.233717 | 0.564636 | 0.635462 | 0.169469 | 0.219000 | 0.396329 | 0.138917 | 0.219000 | 0.341909 |\n",
      "|  8 | Jan022021.234421 | 0.564636 | 0.635462 | 0.087382 | 0.106888 | 0.396329 | 0.075056 | 0.106888 | 0.341909 |\n",
      "|  9 | Jan022021.235122 | 0.544396 | 0.650602 | 0.274615 | 0.290596 | 0.420185 | 0.366117 | 0.290596 | 0.349399 |\n",
      "Wall time: 3.63 s\n"
     ]
    },
    {
     "name": "stderr",
     "output_type": "stream",
     "text": [
      "\n"
     ]
    }
   ],
   "source": [
    "%%time\n",
    "cocl_consensus('Reuters')"
   ]
  },
  {
   "cell_type": "code",
   "execution_count": null,
   "metadata": {},
   "outputs": [],
   "source": []
  }
 ],
 "metadata": {
  "kernelspec": {
   "display_name": "Python 3",
   "language": "python",
   "name": "python3"
  },
  "language_info": {
   "codemirror_mode": {
    "name": "ipython",
    "version": 3
   },
   "file_extension": ".py",
   "mimetype": "text/x-python",
   "name": "python",
   "nbconvert_exporter": "python",
   "pygments_lexer": "ipython3",
   "version": "3.8.6"
  }
 },
 "nbformat": 4,
 "nbformat_minor": 4
}
