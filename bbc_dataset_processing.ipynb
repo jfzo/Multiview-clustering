{
 "cells": [
  {
   "cell_type": "markdown",
   "metadata": {},
   "source": [
    "This notebook assumes that the `segment` folder is located in the same path."
   ]
  },
  {
   "cell_type": "code",
   "execution_count": 1,
   "metadata": {},
   "outputs": [],
   "source": [
    "import numpy as np\n",
    "from scipy.io import mmread # to read files in the matrix market format"
   ]
  },
  {
   "cell_type": "markdown",
   "metadata": {},
   "source": [
    "BBC"
   ]
  },
  {
   "cell_type": "code",
   "execution_count": 32,
   "metadata": {},
   "outputs": [],
   "source": [
    "with open('./segment/bbc/bbc.clist') as docsT: bbcslist = list(map(lambda t:t.strip(), docsT.readlines()))\n",
    "    \n",
    "labels = {}\n",
    "for i in range(len(bbcslist)):\n",
    "    for d in bbcslist[i].split(':')[1].strip().split(','):\n",
    "        labels[d] = i"
   ]
  },
  {
   "cell_type": "code",
   "execution_count": 35,
   "metadata": {},
   "outputs": [],
   "source": [
    "bbcs44 = mmread('./segment/bbc/bbc_seg4of4.mtx')\n",
    "with open('./segment/bbc/bbc_seg4of4.docs') as docsT: bbcs44docs = list(map(lambda t:t.strip(), docsT.readlines()))\n",
    "bbcs44labels = [labels[d] for d in bbcs44docs]\n",
    "    \n",
    "bbcs34 = mmread('./segment/bbc/bbc_seg3of4.mtx')\n",
    "with open('./segment/bbc/bbc_seg3of4.docs') as docsT: bbcs34docs = list(map(lambda t:t.strip(), docsT.readlines()))\n",
    "bbcs34labels = [labels[d] for d in bbcs34docs]\n",
    "\n",
    "bbcs24 = mmread('./segment/bbc/bbc_seg2of4.mtx')\n",
    "with open('./segment/bbc/bbc_seg2of4.docs') as docsT: bbcs24docs = list(map(lambda t:t.strip(), docsT.readlines()))\n",
    "bbcs24labels = [labels[d] for d in bbcs24docs]\n",
    "    \n",
    "bbcs14 = mmread('./segment/bbc/bbc_seg1of4.mtx')\n",
    "with open('./segment/bbc/bbc_seg1of4.docs') as docsT: bbcs14docs = list(map(lambda t:t.strip(), docsT.readlines()))\n",
    "bbcs14labels = [labels[d] for d in bbcs14docs]    "
   ]
  },
  {
   "cell_type": "code",
   "execution_count": 7,
   "metadata": {},
   "outputs": [
    {
     "data": {
      "text/plain": [
       "685"
      ]
     },
     "execution_count": 7,
     "metadata": {},
     "output_type": "execute_result"
    }
   ],
   "source": [
    "len(set(bbcs14docs) & set(bbcs24docs) & set(bbcs34docs) & set(bbcs44docs))"
   ]
  },
  {
   "cell_type": "code",
   "execution_count": 36,
   "metadata": {},
   "outputs": [],
   "source": [
    "bbcs33 = mmread('./segment/bbc/bbc_seg3of3.mtx')\n",
    "with open('./segment/bbc/bbc_seg3of3.docs') as docsT: bbcs33docs = list(map(lambda t:t.strip(), docsT.readlines()))\n",
    "bbcs33labels = [labels[d] for d in bbcs33docs]\n",
    "    \n",
    "bbcs23 = mmread('./segment/bbc/bbc_seg2of3.mtx')\n",
    "with open('./segment/bbc/bbc_seg2of3.docs') as docsT: bbcs23docs = list(map(lambda t:t.strip(), docsT.readlines()))\n",
    "bbcs23labels = [labels[d] for d in bbcs23docs]\n",
    "\n",
    "bbcs13 = mmread('./segment/bbc/bbc_seg1of3.mtx')\n",
    "with open('./segment/bbc/bbc_seg1of3.docs') as docsT: bbcs13docs = list(map(lambda t:t.strip(), docsT.readlines()))\n",
    "bbcs13labels = [labels[d] for d in bbcs13docs]"
   ]
  },
  {
   "cell_type": "code",
   "execution_count": 10,
   "metadata": {},
   "outputs": [
    {
     "data": {
      "text/plain": [
       "1268"
      ]
     },
     "execution_count": 10,
     "metadata": {},
     "output_type": "execute_result"
    }
   ],
   "source": [
    "len(set(bbcs13docs) & set(bbcs23docs) & set(bbcs33docs))"
   ]
  },
  {
   "cell_type": "code",
   "execution_count": 37,
   "metadata": {},
   "outputs": [],
   "source": [
    "bbcs22 = mmread('./segment/bbc/bbc_seg2of2.mtx')\n",
    "with open('./segment/bbc/bbc_seg2of2.docs') as docsT: bbcs22docs = list(map(lambda t:t.strip(), docsT.readlines()))\n",
    "bbcs22labels = [labels[d] for d in bbcs22docs]\n",
    "    \n",
    "bbcs12 = mmread('./segment/bbc/bbc_seg1of2.mtx')\n",
    "with open('./segment/bbc/bbc_seg1of2.docs') as docsT: bbcs12docs = list(map(lambda t:t.strip(), docsT.readlines()))\n",
    "bbcs12labels = [labels[d] for d in bbcs12docs]    "
   ]
  },
  {
   "cell_type": "code",
   "execution_count": 12,
   "metadata": {},
   "outputs": [
    {
     "data": {
      "text/plain": [
       "2012"
      ]
     },
     "execution_count": 12,
     "metadata": {},
     "output_type": "execute_result"
    }
   ],
   "source": [
    "len(set(bbcs12docs) & set(bbcs22docs))"
   ]
  },
  {
   "cell_type": "markdown",
   "metadata": {},
   "source": [
    "BBC-Sports"
   ]
  },
  {
   "cell_type": "code",
   "execution_count": 2,
   "metadata": {},
   "outputs": [],
   "source": [
    "with open('./segment/bbcsport/bbcsport.clist') as docsT: bbcsplist = list(map(lambda t:t.strip(), docsT.readlines()))\n",
    "    \n",
    "labelsp = {}\n",
    "for i in range(len(bbcsplist)):\n",
    "    for d in bbcsplist[i].split(':')[1].strip().split(','):\n",
    "        labelsp[d] = i"
   ]
  },
  {
   "cell_type": "code",
   "execution_count": 3,
   "metadata": {},
   "outputs": [],
   "source": [
    "bbcsp44 = mmread('./segment/bbcsport/bbcsport_seg4of4.mtx')\n",
    "with open('./segment/bbcsport/bbcsport_seg4of4.docs') as docsT: bbcsp44docs = list(map(lambda t:t.strip(), docsT.readlines()))\n",
    "bbcsp44labels = [labelsp[d] for d in bbcsp44docs]\n",
    "    \n",
    "bbcsp34 = mmread('./segment/bbcsport/bbcsport_seg3of4.mtx')\n",
    "with open('./segment/bbcsport/bbcsport_seg3of4.docs') as docsT: bbcsp34docs = list(map(lambda t:t.strip(), docsT.readlines()))\n",
    "bbcsp34labels = [labelsp[d] for d in bbcsp34docs]\n",
    "\n",
    "bbcsp24 = mmread('./segment/bbcsport/bbcsport_seg2of4.mtx')\n",
    "with open('./segment/bbcsport/bbcsport_seg2of4.docs') as docsT: bbcsp24docs = list(map(lambda t:t.strip(), docsT.readlines()))\n",
    "bbcsp24labels = [labelsp[d] for d in bbcsp24docs]\n",
    "\n",
    "bbcsp14 = mmread('./segment/bbcsport/bbcsport_seg1of4.mtx')\n",
    "with open('./segment/bbcsport/bbcsport_seg1of4.docs') as docsT: bbcsp14docs = list(map(lambda t:t.strip(), docsT.readlines()))\n",
    "bbcsp14labels = [labelsp[d] for d in bbcsp14docs]    "
   ]
  },
  {
   "cell_type": "code",
   "execution_count": 4,
   "metadata": {},
   "outputs": [
    {
     "data": {
      "text/plain": [
       "116"
      ]
     },
     "execution_count": 4,
     "metadata": {},
     "output_type": "execute_result"
    }
   ],
   "source": [
    "len(set(bbcsp14docs) & set(bbcsp24docs) & set(bbcsp34docs) & set(bbcsp44docs))"
   ]
  },
  {
   "cell_type": "code",
   "execution_count": 5,
   "metadata": {},
   "outputs": [],
   "source": [
    "bbcsp33 = mmread('./segment/bbcsport/bbcsport_seg3of3.mtx')\n",
    "with open('./segment/bbcsport/bbcsport_seg3of3.docs') as docsT: bbcsp33docs = list(map(lambda t:t.strip(), docsT.readlines()))\n",
    "bbcsp33labels = [labelsp[d] for d in bbcsp33docs]\n",
    "    \n",
    "bbcsp23 = mmread('./segment/bbcsport/bbcsport_seg2of3.mtx')\n",
    "with open('./segment/bbcsport/bbcsport_seg2of3.docs') as docsT: bbcsp23docs = list(map(lambda t:t.strip(), docsT.readlines()))\n",
    "bbcsp23labels = [labelsp[d] for d in bbcsp23docs]\n",
    "    \n",
    "bbcsp13 = mmread('./segment/bbcsport/bbcsport_seg1of3.mtx')\n",
    "with open('./segment/bbcsport/bbcsport_seg1of3.docs') as docsT: bbcsp13docs = list(map(lambda t:t.strip(), docsT.readlines()))\n",
    "bbcsp13labels = [labelsp[d] for d in bbcsp13docs]"
   ]
  },
  {
   "cell_type": "code",
   "execution_count": 6,
   "metadata": {},
   "outputs": [
    {
     "data": {
      "text/plain": [
       "282"
      ]
     },
     "execution_count": 6,
     "metadata": {},
     "output_type": "execute_result"
    }
   ],
   "source": [
    "len(set(bbcsp13docs) & set(bbcsp23docs) & set(bbcsp33docs))"
   ]
  },
  {
   "cell_type": "code",
   "execution_count": 7,
   "metadata": {},
   "outputs": [],
   "source": [
    "bbcsp22 = mmread('./segment/bbcsport/bbcsport_seg2of2.mtx')\n",
    "with open('./segment/bbcsport/bbcsport_seg2of2.docs') as docsT: bbcsp22docs = list(map(lambda t:t.strip(), docsT.readlines()))\n",
    "bbcsp22labels = [labelsp[d] for d in bbcsp22docs]\n",
    "\n",
    "bbcsp12 = mmread('./segment/bbcsport/bbcsport_seg1of2.mtx')\n",
    "with open('./segment/bbcsport/bbcsport_seg1of2.docs') as docsT: bbcsp12docs = list(map(lambda t:t.strip(), docsT.readlines()))\n",
    "bbcsp12labels = [labelsp[d] for d in bbcsp12docs]"
   ]
  },
  {
   "cell_type": "code",
   "execution_count": 8,
   "metadata": {},
   "outputs": [
    {
     "data": {
      "text/plain": [
       "544"
      ]
     },
     "execution_count": 8,
     "metadata": {},
     "output_type": "execute_result"
    }
   ],
   "source": [
    "len(set(bbcsp12docs) & set(bbcsp22docs))"
   ]
  }
 ],
 "metadata": {
  "kernelspec": {
   "display_name": "Python 3",
   "language": "python",
   "name": "python3"
  },
  "language_info": {
   "codemirror_mode": {
    "name": "ipython",
    "version": 3
   },
   "file_extension": ".py",
   "mimetype": "text/x-python",
   "name": "python",
   "nbconvert_exporter": "python",
   "pygments_lexer": "ipython3",
   "version": "3.8.5"
  }
 },
 "nbformat": 4,
 "nbformat_minor": 1
}
